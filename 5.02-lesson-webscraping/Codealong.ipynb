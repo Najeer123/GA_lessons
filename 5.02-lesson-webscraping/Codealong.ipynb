{
 "cells": [
  {
   "cell_type": "code",
   "execution_count": null,
   "metadata": {
    "collapsed": true
   },
   "outputs": [],
   "source": []
  },
  {
   "cell_type": "markdown",
   "metadata": {},
   "source": [
    "# Using the requests library"
   ]
  },
  {
   "cell_type": "code",
   "execution_count": 2,
   "metadata": {},
   "outputs": [],
   "source": [
    "import requests"
   ]
  },
  {
   "cell_type": "markdown",
   "metadata": {},
   "source": [
    "### Status Codes"
   ]
  },
  {
   "cell_type": "code",
   "execution_count": 3,
   "metadata": {},
   "outputs": [],
   "source": [
    "url = 'https://github.com/apache/spark'\n",
    "r = requests.get(url)"
   ]
  },
  {
   "cell_type": "code",
   "execution_count": 4,
   "metadata": {},
   "outputs": [
    {
     "data": {
      "text/plain": [
       "200"
      ]
     },
     "execution_count": 4,
     "metadata": {},
     "output_type": "execute_result"
    }
   ],
   "source": [
    "r.status_code"
   ]
  },
  {
   "cell_type": "markdown",
   "metadata": {},
   "source": [
    "### Creating a `BeautifulSoup` object"
   ]
  },
  {
   "cell_type": "code",
   "execution_count": 5,
   "metadata": {},
   "outputs": [],
   "source": [
    "from bs4 import BeautifulSoup"
   ]
  },
  {
   "cell_type": "code",
   "execution_count": 9,
   "metadata": {},
   "outputs": [],
   "source": [
    "soup = BeautifulSoup(r.text, 'lxml')"
   ]
  },
  {
   "cell_type": "markdown",
   "metadata": {},
   "source": [
    "# `soup.find()`\n",
    "\n",
    "Returns either:\n",
    "\n",
    "1. A soup object of the first match\n",
    "2. `None`"
   ]
  },
  {
   "cell_type": "code",
   "execution_count": 10,
   "metadata": {},
   "outputs": [
    {
     "data": {
      "text/plain": [
       "<a class=\"px-2 py-4 bg-blue text-white show-on-focus js-skip-to-content\" href=\"#start-of-content\" tabindex=\"1\">Skip to content</a>"
      ]
     },
     "execution_count": 10,
     "metadata": {},
     "output_type": "execute_result"
    }
   ],
   "source": [
    "soup.find('a')"
   ]
  },
  {
   "cell_type": "markdown",
   "metadata": {},
   "source": [
    "# `soup.find_all()`\n",
    "\n",
    "Returns a **_LIST_** of soup objects that match your query"
   ]
  },
  {
   "cell_type": "code",
   "execution_count": 11,
   "metadata": {},
   "outputs": [],
   "source": [
    "links = soup.find_all('a')"
   ]
  },
  {
   "cell_type": "code",
   "execution_count": 23,
   "metadata": {},
   "outputs": [
    {
     "name": "stdout",
     "output_type": "stream",
     "text": [
      "#start-of-content\n",
      "https://github.com/\n",
      "/features\n",
      "/features/code-review/\n",
      "/features/project-management/\n",
      "/features/integrations\n",
      "/features/actions\n",
      "/features/packages\n",
      "/features/security\n",
      "/features#team-management\n",
      "/features#social-coding\n",
      "/features#documentation\n",
      "/features#code-hosting\n",
      "/customer-stories\n",
      "/security\n",
      "/enterprise\n",
      "/explore\n",
      "/topics\n",
      "/collections\n",
      "/trending\n",
      "https://lab.github.com/\n",
      "https://opensource.guide\n",
      "https://github.com/events\n",
      "https://github.community\n",
      "https://education.github.com\n",
      "/marketplace\n",
      "/pricing\n",
      "/pricing#feature-comparison\n",
      "https://enterprise.github.com/contact\n",
      "/nonprofit\n",
      "https://education.github.com\n",
      "\n",
      "\n",
      "\n",
      "/login?return_to=%2Fapache%2Fspark\n",
      "/join?source_repo=apache%2Fspark\n",
      "/login?return_to=%2Fapache%2Fspark\n",
      "/apache/spark/watchers\n",
      "/login?return_to=%2Fapache%2Fspark\n",
      "/apache/spark/stargazers\n",
      "/login?return_to=%2Fapache%2Fspark\n",
      "/apache/spark/network/members\n",
      "/apache\n",
      "/apache/spark\n",
      "/apache/spark\n",
      "/apache/spark/pulls\n",
      "/apache/spark/projects\n",
      "/apache/spark/security/advisories\n",
      "/apache/spark/pulse\n",
      "/join?source=prompt-code&source_repo=apache%2Fspark\n",
      "/topics/python\n",
      "/topics/scala\n",
      "/topics/r\n",
      "/topics/java\n",
      "/topics/big-data\n",
      "/topics/jdbc\n",
      "/topics/sql\n",
      "/topics/spark\n",
      "/apache/spark/commits/master\n",
      "/apache/spark/branches\n",
      "/apache/spark/packages\n",
      "/apache/spark/releases\n",
      "/apache/spark/graphs/contributors\n",
      "/apache/spark/blob/master/LICENSE\n",
      "/apache/spark/search?l=scala\n",
      "/apache/spark/search?l=java\n",
      "/apache/spark/search?l=python\n",
      "/apache/spark/search?l=hiveql\n",
      "/apache/spark/search?l=r\n",
      "/apache/spark/search?l=tsql\n",
      "/apache/spark/find/master\n",
      "https://help.github.com/articles/which-remote-url-should-i-use\n",
      "/apache/spark/archive/master.zip\n",
      "/login?return_to=https%3A%2F%2Fgithub.com%2Fapache%2Fspark\n",
      "/join?branch=master&source=download&source_repo=apache%2Fspark\n",
      "https://desktop.github.com/\n",
      "https://desktop.github.com/\n",
      "https://developer.apple.com/xcode/\n",
      "https://visualstudio.github.com/\n",
      "/Ngone51\n",
      "/cloud-fan\n",
      "/apache/spark/commits?author=Ngone51\n",
      "/apache/spark/commits?author=cloud-fan\n",
      "/apache/spark/commit/780555bf60f03db761f3e89693a927edc7b51fd9\n",
      "https://github.com/apache/spark/pull/24921\n",
      "https://github.com/apache/spark/pull/26665\n",
      "/apache/spark/commit/780555bf60f03db761f3e89693a927edc7b51fd9\n",
      "/apache/spark/tree/780555bf60f03db761f3e89693a927edc7b51fd9\n",
      "/apache/spark/tree/master/.github\n",
      "/apache/spark/commit/cb68e58f88e8481e76b358f46fd4356d656e8277\n",
      "/apache/spark/tree/master/R\n",
      "/apache/spark/commit/9514b822a70d77a6298ece48e6c053200360302c\n",
      "/apache/spark/tree/master/assembly\n",
      "/apache/spark/commit/8207c835b44cbe40f3c1f1dad71c660c07bae9c6\n",
      "/apache/spark/tree/master/bin\n",
      "/apache/spark/commit/121f9338cefbb1c800fabfea5152899a58176b00\n",
      "/apache/spark/tree/master/build\n",
      "/apache/spark/commit/3bf43fb60d6f8aba23eaa1e43405024725b50f22\n",
      "/apache/spark/tree/master/common\n",
      "/apache/spark/commit/de21f28f8a0a41dd7eb8ed1ff8b35a6d7538958b\n",
      "/apache/spark/tree/master/conf\n",
      "/apache/spark/commit/8f057a961289fa5c4c4863fb36ce22b1c3789de6\n",
      "/apache/spark/tree/master/core\n",
      "/apache/spark/commit/780555bf60f03db761f3e89693a927edc7b51fd9\n",
      "/apache/spark/tree/master/data\n",
      "/apache/spark/commit/925449283dcaef80e0f77e60aea6ef988bd697b4\n",
      "/apache/spark/tree/master/dev\n",
      "/apache/spark/commit/53e19f3678f75f8bc65d352ba0b6c4d2b2cbc0cc\n",
      "/apache/spark/tree/master/docs\n",
      "/apache/spark/commit/de21f28f8a0a41dd7eb8ed1ff8b35a6d7538958b\n",
      "/apache/spark/tree/master/examples\n",
      "/apache/spark/commit/c29494377badd182e587246954d5bb661b58a61f\n",
      "/apache/spark/tree/master/external\n",
      "/apache/spark/commit/54c5087a3ae306ad766df81a5a6279f219b2ea47\n",
      "/apache/spark/tree/master/graph\n",
      "/apache/spark/commit/8207c835b44cbe40f3c1f1dad71c660c07bae9c6\n",
      "/apache/spark/tree/master/graphx\n",
      "/apache/spark/commit/1febd373ea806326d269a60048ee52543a76c918\n",
      "/apache/spark/tree/master/hadoop-cloud\n",
      "/apache/spark/commit/8207c835b44cbe40f3c1f1dad71c660c07bae9c6\n",
      "/apache/spark/tree/master/launcher\n",
      "/apache/spark/commit/80a89873b20aa07e2522bed5da0fc50e616246d9\n",
      "/apache/spark/tree/master/licenses-binary\n",
      "/apache/spark/commit/ef81525a1a9dea54a83e4af2a0d3660bf0fdac35\n",
      "/apache/spark/tree/master/licenses\n",
      "/apache/spark/commit/83751035685c84c681e88ac6e55fbcc9d6d37ef5\n",
      "/apache/spark/tree/master/mllib-local\n",
      "/apache/spark/commit/8207c835b44cbe40f3c1f1dad71c660c07bae9c6\n",
      "/apache/spark/tree/master/mllib\n",
      "/apache/spark/commit/0f40d2a6ee0bba3f95785b8c36171e104c12615a\n",
      "/apache/spark/tree/master/project\n",
      "/apache/spark/commit/c5f644c6ebb871d76f6b6b12b341ba761427492c\n",
      "/apache/spark/tree/master/python\n",
      "/apache/spark/commit/0f40d2a6ee0bba3f95785b8c36171e104c12615a\n",
      "/apache/spark/tree/master/repl\n",
      "/apache/spark/commit/8207c835b44cbe40f3c1f1dad71c660c07bae9c6\n",
      "/apache/spark/tree/master/resource-managers\n",
      "/apache/spark/commit/1febd373ea806326d269a60048ee52543a76c918\n",
      "/apache/spark/tree/master/sbin\n",
      "/apache/spark/commit/bd232b98b470a609472a4ea8df912f8fad06ba06\n",
      "/apache/spark/tree/master/sql\n",
      "/apache/spark/commit/8b0121bea8bc65d37f5ef4dfc80d9faea905e7eb\n",
      "/apache/spark/tree/master/streaming\n",
      "/apache/spark/commit/1febd373ea806326d269a60048ee52543a76c918\n",
      "/apache/spark/tree/master/tools\n",
      "/apache/spark/commit/8207c835b44cbe40f3c1f1dad71c660c07bae9c6\n",
      "/apache/spark/blob/master/.gitattributes\n",
      "/apache/spark/commit/55ab77707891408e635843cf80079747625bd28e\n",
      "/apache/spark/blob/master/.gitignore\n",
      "/apache/spark/commit/cbad616d4cb0c58993a88df14b5e30778c7f7e85\n",
      "/apache/spark/blob/master/CONTRIBUTING.md\n",
      "/apache/spark/commit/eed6de1a6533f259cbd60654d3e537ff7088f296\n",
      "/apache/spark/blob/master/LICENSE\n",
      "/apache/spark/commit/19b8c714369802d9057a98076edea94dd0cc3e9c\n",
      "/apache/spark/blob/master/LICENSE-binary\n",
      "/apache/spark/commit/56be7318cc0a26758fee76e7e0590c6d3434839a\n",
      "/apache/spark/blob/master/NOTICE\n",
      "/apache/spark/commit/19b8c714369802d9057a98076edea94dd0cc3e9c\n",
      "/apache/spark/blob/master/NOTICE-binary\n",
      "/apache/spark/commit/19b8c714369802d9057a98076edea94dd0cc3e9c\n",
      "/apache/spark/blob/master/README.md\n",
      "/apache/spark/commit/8fc5cb628564be94af7eda6051f8ec594de8ed70\n",
      "/apache/spark/blob/master/appveyor.yml\n",
      "/apache/spark/commit/c98e5eb3396a6db92f2420e743afa9ddff319ca2\n",
      "/apache/spark/blob/master/pom.xml\n",
      "/apache/spark/commit/53e19f3678f75f8bc65d352ba0b6c4d2b2cbc0cc\n",
      "/apache/spark/blob/master/scalastyle-config.xml\n",
      "/apache/spark/commit/38240a74dc047796e9f239e44d9bc0bbc66e1f7f\n",
      "#apache-spark\n",
      "https://spark.apache.org/\n",
      "https://amplab.cs.berkeley.edu/jenkins/job/spark-master-test-sbt-hadoop-2.7\n",
      "https://ci.appveyor.com/project/ApacheSoftwareFoundation/spark\n",
      "https://spark-test.github.io/pyspark-coverage-site\n",
      "#online-documentation\n",
      "https://spark.apache.org/documentation.html\n",
      "#building-spark\n",
      "https://maven.apache.org/\n",
      "https://cwiki.apache.org/confluence/display/MAVEN/Parallel+builds+in+Maven+3\n",
      "https://spark.apache.org/docs/latest/building-spark.html\n",
      "https://spark.apache.org/developer-tools.html\n",
      "#interactive-scala-shell\n",
      "#interactive-python-shell\n",
      "#example-programs\n",
      "#running-tests\n",
      "#building-spark\n",
      "https://spark.apache.org/developer-tools.html#individual-tests\n",
      "#a-note-about-hadoop-versions\n",
      "https://spark.apache.org/docs/latest/building-spark.html#specifying-the-hadoop-version-and-enabling-yarn\n",
      "#configuration\n",
      "https://spark.apache.org/docs/latest/configuration.html\n",
      "#contributing\n",
      "https://spark.apache.org/contributing.html\n",
      "https://github.com/site/terms\n",
      "https://github.com/site/privacy\n",
      "https://github.com/security\n",
      "https://githubstatus.com/\n",
      "https://help.github.com\n",
      "https://github.com\n",
      "https://github.com/contact\n",
      "https://github.com/pricing\n",
      "https://developer.github.com\n",
      "https://training.github.com\n",
      "https://github.blog\n",
      "https://github.com/about\n",
      "\n",
      "\n"
     ]
    }
   ],
   "source": [
    "for link in links:\n",
    "    print(link['href'])"
   ]
  },
  {
   "cell_type": "code",
   "execution_count": 53,
   "metadata": {},
   "outputs": [
    {
     "data": {
      "text/plain": [
       "206"
      ]
     },
     "execution_count": 53,
     "metadata": {},
     "output_type": "execute_result"
    }
   ],
   "source": [
    "len(links)"
   ]
  },
  {
   "cell_type": "code",
   "execution_count": 54,
   "metadata": {},
   "outputs": [
    {
     "data": {
      "text/plain": [
       "<a class=\"px-2 py-4 bg-blue text-white show-on-focus js-skip-to-content\" href=\"#start-of-content\" tabindex=\"1\">Skip to content</a>"
      ]
     },
     "execution_count": 54,
     "metadata": {},
     "output_type": "execute_result"
    }
   ],
   "source": [
    "links[0]"
   ]
  },
  {
   "cell_type": "markdown",
   "metadata": {},
   "source": [
    "# Creating a `pandas` DataFrame from a scrape"
   ]
  },
  {
   "cell_type": "code",
   "execution_count": 12,
   "metadata": {},
   "outputs": [],
   "source": [
    "import pandas as pd"
   ]
  },
  {
   "cell_type": "code",
   "execution_count": 15,
   "metadata": {},
   "outputs": [],
   "source": [
    "df = pd.DataFrame(links, columns)"
   ]
  },
  {
   "cell_type": "code",
   "execution_count": 16,
   "metadata": {},
   "outputs": [
    {
     "data": {
      "text/html": [
       "<div>\n",
       "<style scoped>\n",
       "    .dataframe tbody tr th:only-of-type {\n",
       "        vertical-align: middle;\n",
       "    }\n",
       "\n",
       "    .dataframe tbody tr th {\n",
       "        vertical-align: top;\n",
       "    }\n",
       "\n",
       "    .dataframe thead th {\n",
       "        text-align: right;\n",
       "    }\n",
       "</style>\n",
       "<table border=\"1\" class=\"dataframe\">\n",
       "  <thead>\n",
       "    <tr style=\"text-align: right;\">\n",
       "      <th></th>\n",
       "      <th>0</th>\n",
       "    </tr>\n",
       "  </thead>\n",
       "  <tbody>\n",
       "    <tr>\n",
       "      <td>0</td>\n",
       "      <td>[Skip to content]</td>\n",
       "    </tr>\n",
       "    <tr>\n",
       "      <td>1</td>\n",
       "      <td>[\\n, [[]], \\n]</td>\n",
       "    </tr>\n",
       "    <tr>\n",
       "      <td>2</td>\n",
       "      <td>[Features , [→]]</td>\n",
       "    </tr>\n",
       "    <tr>\n",
       "      <td>3</td>\n",
       "      <td>[Code review]</td>\n",
       "    </tr>\n",
       "    <tr>\n",
       "      <td>4</td>\n",
       "      <td>[Project management]</td>\n",
       "    </tr>\n",
       "  </tbody>\n",
       "</table>\n",
       "</div>"
      ],
      "text/plain": [
       "                      0\n",
       "0     [Skip to content]\n",
       "1        [\\n, [[]], \\n]\n",
       "2      [Features , [→]]\n",
       "3         [Code review]\n",
       "4  [Project management]"
      ]
     },
     "execution_count": 16,
     "metadata": {},
     "output_type": "execute_result"
    }
   ],
   "source": [
    "df.head()"
   ]
  },
  {
   "cell_type": "markdown",
   "metadata": {},
   "source": [
    "### Todo List"
   ]
  },
  {
   "cell_type": "code",
   "execution_count": null,
   "metadata": {},
   "outputs": [],
   "source": []
  },
  {
   "cell_type": "markdown",
   "metadata": {},
   "source": [
    "### GA Directory"
   ]
  },
  {
   "cell_type": "code",
   "execution_count": null,
   "metadata": {},
   "outputs": [],
   "source": []
  },
  {
   "cell_type": "markdown",
   "metadata": {},
   "source": [
    "### Basketball Reference"
   ]
  },
  {
   "cell_type": "code",
   "execution_count": null,
   "metadata": {},
   "outputs": [],
   "source": []
  }
 ],
 "metadata": {
  "kernelspec": {
   "display_name": "Python 3",
   "language": "python",
   "name": "python3"
  },
  "language_info": {
   "codemirror_mode": {
    "name": "ipython",
    "version": 3
   },
   "file_extension": ".py",
   "mimetype": "text/x-python",
   "name": "python",
   "nbconvert_exporter": "python",
   "pygments_lexer": "ipython3",
   "version": "3.7.4"
  }
 },
 "nbformat": 4,
 "nbformat_minor": 2
}
