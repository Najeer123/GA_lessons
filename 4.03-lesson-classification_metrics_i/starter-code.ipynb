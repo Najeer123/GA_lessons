{
 "cells": [
  {
   "cell_type": "markdown",
   "metadata": {},
   "source": [
    "<img src=\"http://imgur.com/1ZcRyrc.png\" style=\"float: left; margin: 15px; height: 80px\">\n",
    "\n",
    "# Classification Metrics I\n",
    "\n",
    "_Authors: Matt Brems (DC), Riley Dallas (AUS)_\n",
    "\n",
    "---"
   ]
  },
  {
   "cell_type": "markdown",
   "metadata": {},
   "source": [
    "## Importing libraries\n",
    "---\n",
    "\n",
    "We'll need the following libraries for today's lecture:\n",
    "1. `pandas`\n",
    "4. `KNeighborsClassifier` from `sklearn`'s `neighbors` module\n",
    "5. The `load_breast_cancer` function from `sklearn`'s `datasets` module\n",
    "6. `train_test_split` and `cross_val_score` from `sklearn`'s `model_selection` module\n",
    "7. `StandardScaler` from `sklearn`'s `preprocessing` module\n",
    "8. The `confusion_matrix` function from `sklearn`'s `metrics` module"
   ]
  },
  {
   "cell_type": "code",
   "execution_count": 9,
   "metadata": {},
   "outputs": [],
   "source": [
    "import numpy as np\n",
    "import pandas as pd\n",
    "import seaborn as sb\n",
    "import matplotlib.pyplot as plt\n",
    "import sklearn.datasets as skds\n",
    "import sklearn.preprocessing as skpp\n",
    "import sklearn.model_selection as skms\n",
    "import sklearn.neighbors as sknb\n",
    "import sklearn.metrics as skm\n",
    "\n",
    "%matplotlib inline"
   ]
  },
  {
   "cell_type": "markdown",
   "metadata": {},
   "source": [
    "## Create dataset\n",
    "---\n",
    "\n",
    "Similar to `load_iris` from this morning, we'll call the `load_breast_cancer()` function to create our dataset."
   ]
  },
  {
   "cell_type": "code",
   "execution_count": 25,
   "metadata": {},
   "outputs": [],
   "source": [
    "data = skds.load_breast_cancer()\n",
    "df = pd.DataFrame(data.data, columns=data.feature_names)\n",
    "target = pd.DataFrame(data.target, columns=['cancer_type'])"
   ]
  },
  {
   "cell_type": "markdown",
   "metadata": {},
   "source": [
    "## Create `X` and `y`\n",
    "---\n",
    "\n",
    "The dataset labels benign tumors as 1, and malignant tumors as 0. This is contrary to how you typically label data: the more important class (malignant) should be labeled 1."
   ]
  },
  {
   "cell_type": "code",
   "execution_count": 26,
   "metadata": {},
   "outputs": [
    {
     "data": {
      "text/plain": [
       "array(['malignant', 'benign'], dtype='<U9')"
      ]
     },
     "execution_count": 26,
     "metadata": {},
     "output_type": "execute_result"
    }
   ],
   "source": [
    "data.target_names"
   ]
  },
  {
   "cell_type": "code",
   "execution_count": 30,
   "metadata": {},
   "outputs": [],
   "source": [
    "X = df\n",
    "y = target['cancer_type']"
   ]
  },
  {
   "cell_type": "markdown",
   "metadata": {},
   "source": [
    "## Train/Test Split\n",
    "---\n",
    "\n",
    "In the cell below, train/test split your `X` and `y` variables. \n",
    "\n",
    "**Note** we'll want to create a stratified split."
   ]
  },
  {
   "cell_type": "code",
   "execution_count": 31,
   "metadata": {},
   "outputs": [],
   "source": [
    "X_train, X_test, y_train, y_test = skms.train_test_split(X, y, random_state=42, stratify=target)"
   ]
  },
  {
   "cell_type": "code",
   "execution_count": 32,
   "metadata": {},
   "outputs": [
    {
     "data": {
      "text/plain": [
       "1    267\n",
       "0    159\n",
       "Name: cancer_type, dtype: int64"
      ]
     },
     "execution_count": 32,
     "metadata": {},
     "output_type": "execute_result"
    }
   ],
   "source": [
    "y_train.value_counts()"
   ]
  },
  {
   "cell_type": "markdown",
   "metadata": {},
   "source": [
    "## Scaling our features\n",
    "---\n",
    "\n",
    "Because we're using KNN for our model, we'll want to scale our training and testing sets."
   ]
  },
  {
   "cell_type": "code",
   "execution_count": 33,
   "metadata": {},
   "outputs": [],
   "source": [
    "ss = skpp.StandardScaler()\n",
    "X_train = pd.DataFrame(ss.fit_transform(X_train), columns=X_train.columns)"
   ]
  },
  {
   "cell_type": "code",
   "execution_count": 35,
   "metadata": {},
   "outputs": [
    {
     "data": {
      "text/html": [
       "<div>\n",
       "<style scoped>\n",
       "    .dataframe tbody tr th:only-of-type {\n",
       "        vertical-align: middle;\n",
       "    }\n",
       "\n",
       "    .dataframe tbody tr th {\n",
       "        vertical-align: top;\n",
       "    }\n",
       "\n",
       "    .dataframe thead th {\n",
       "        text-align: right;\n",
       "    }\n",
       "</style>\n",
       "<table border=\"1\" class=\"dataframe\">\n",
       "  <thead>\n",
       "    <tr style=\"text-align: right;\">\n",
       "      <th></th>\n",
       "      <th>mean radius</th>\n",
       "      <th>mean texture</th>\n",
       "      <th>mean perimeter</th>\n",
       "      <th>mean area</th>\n",
       "      <th>mean smoothness</th>\n",
       "      <th>mean compactness</th>\n",
       "      <th>mean concavity</th>\n",
       "      <th>mean concave points</th>\n",
       "      <th>mean symmetry</th>\n",
       "      <th>mean fractal dimension</th>\n",
       "      <th>...</th>\n",
       "      <th>worst radius</th>\n",
       "      <th>worst texture</th>\n",
       "      <th>worst perimeter</th>\n",
       "      <th>worst area</th>\n",
       "      <th>worst smoothness</th>\n",
       "      <th>worst compactness</th>\n",
       "      <th>worst concavity</th>\n",
       "      <th>worst concave points</th>\n",
       "      <th>worst symmetry</th>\n",
       "      <th>worst fractal dimension</th>\n",
       "    </tr>\n",
       "  </thead>\n",
       "  <tbody>\n",
       "    <tr>\n",
       "      <td>0</td>\n",
       "      <td>1.659096</td>\n",
       "      <td>0.217205</td>\n",
       "      <td>1.610620</td>\n",
       "      <td>1.633339</td>\n",
       "      <td>0.576312</td>\n",
       "      <td>0.523545</td>\n",
       "      <td>0.645326</td>\n",
       "      <td>1.198745</td>\n",
       "      <td>-0.000094</td>\n",
       "      <td>-0.124425</td>\n",
       "      <td>...</td>\n",
       "      <td>1.567319</td>\n",
       "      <td>-0.075879</td>\n",
       "      <td>1.607223</td>\n",
       "      <td>1.384969</td>\n",
       "      <td>0.412628</td>\n",
       "      <td>0.461629</td>\n",
       "      <td>0.642584</td>\n",
       "      <td>0.701835</td>\n",
       "      <td>-0.556084</td>\n",
       "      <td>0.388781</td>\n",
       "    </tr>\n",
       "    <tr>\n",
       "      <td>1</td>\n",
       "      <td>-0.338165</td>\n",
       "      <td>-1.389968</td>\n",
       "      <td>-0.401667</td>\n",
       "      <td>-0.387017</td>\n",
       "      <td>-1.985604</td>\n",
       "      <td>-1.257886</td>\n",
       "      <td>-0.820500</td>\n",
       "      <td>-0.949158</td>\n",
       "      <td>-1.684127</td>\n",
       "      <td>-0.964260</td>\n",
       "      <td>...</td>\n",
       "      <td>-0.537720</td>\n",
       "      <td>-1.613244</td>\n",
       "      <td>-0.580788</td>\n",
       "      <td>-0.529160</td>\n",
       "      <td>-1.600400</td>\n",
       "      <td>-0.871596</td>\n",
       "      <td>-0.726165</td>\n",
       "      <td>-0.900606</td>\n",
       "      <td>-0.923646</td>\n",
       "      <td>-0.797233</td>\n",
       "    </tr>\n",
       "    <tr>\n",
       "      <td>2</td>\n",
       "      <td>0.874457</td>\n",
       "      <td>-0.651659</td>\n",
       "      <td>1.010370</td>\n",
       "      <td>0.761353</td>\n",
       "      <td>1.694102</td>\n",
       "      <td>2.359914</td>\n",
       "      <td>1.657179</td>\n",
       "      <td>2.389453</td>\n",
       "      <td>4.483419</td>\n",
       "      <td>1.570465</td>\n",
       "      <td>...</td>\n",
       "      <td>1.259163</td>\n",
       "      <td>-0.683527</td>\n",
       "      <td>1.364776</td>\n",
       "      <td>1.053712</td>\n",
       "      <td>0.978433</td>\n",
       "      <td>0.856293</td>\n",
       "      <td>0.491059</td>\n",
       "      <td>2.096751</td>\n",
       "      <td>1.767211</td>\n",
       "      <td>1.165217</td>\n",
       "    </tr>\n",
       "    <tr>\n",
       "      <td>3</td>\n",
       "      <td>0.920109</td>\n",
       "      <td>-0.498594</td>\n",
       "      <td>0.886180</td>\n",
       "      <td>0.806211</td>\n",
       "      <td>0.358755</td>\n",
       "      <td>0.012174</td>\n",
       "      <td>0.465964</td>\n",
       "      <td>0.918425</td>\n",
       "      <td>0.039744</td>\n",
       "      <td>-0.919986</td>\n",
       "      <td>...</td>\n",
       "      <td>0.759450</td>\n",
       "      <td>-0.098090</td>\n",
       "      <td>0.721243</td>\n",
       "      <td>0.625763</td>\n",
       "      <td>0.408208</td>\n",
       "      <td>-0.095834</td>\n",
       "      <td>0.274268</td>\n",
       "      <td>1.065079</td>\n",
       "      <td>0.345973</td>\n",
       "      <td>-0.157501</td>\n",
       "    </tr>\n",
       "    <tr>\n",
       "      <td>4</td>\n",
       "      <td>2.263981</td>\n",
       "      <td>0.586360</td>\n",
       "      <td>2.301943</td>\n",
       "      <td>2.408951</td>\n",
       "      <td>0.771362</td>\n",
       "      <td>1.747791</td>\n",
       "      <td>1.928079</td>\n",
       "      <td>2.649490</td>\n",
       "      <td>0.079581</td>\n",
       "      <td>-0.190837</td>\n",
       "      <td>...</td>\n",
       "      <td>2.385598</td>\n",
       "      <td>0.014555</td>\n",
       "      <td>2.639868</td>\n",
       "      <td>2.425295</td>\n",
       "      <td>-0.131075</td>\n",
       "      <td>0.816827</td>\n",
       "      <td>0.903190</td>\n",
       "      <td>1.921083</td>\n",
       "      <td>-0.262035</td>\n",
       "      <td>0.088673</td>\n",
       "    </tr>\n",
       "  </tbody>\n",
       "</table>\n",
       "<p>5 rows × 30 columns</p>\n",
       "</div>"
      ],
      "text/plain": [
       "   mean radius  mean texture  mean perimeter  mean area  mean smoothness  \\\n",
       "0     1.659096      0.217205        1.610620   1.633339         0.576312   \n",
       "1    -0.338165     -1.389968       -0.401667  -0.387017        -1.985604   \n",
       "2     0.874457     -0.651659        1.010370   0.761353         1.694102   \n",
       "3     0.920109     -0.498594        0.886180   0.806211         0.358755   \n",
       "4     2.263981      0.586360        2.301943   2.408951         0.771362   \n",
       "\n",
       "   mean compactness  mean concavity  mean concave points  mean symmetry  \\\n",
       "0          0.523545        0.645326             1.198745      -0.000094   \n",
       "1         -1.257886       -0.820500            -0.949158      -1.684127   \n",
       "2          2.359914        1.657179             2.389453       4.483419   \n",
       "3          0.012174        0.465964             0.918425       0.039744   \n",
       "4          1.747791        1.928079             2.649490       0.079581   \n",
       "\n",
       "   mean fractal dimension  ...  worst radius  worst texture  worst perimeter  \\\n",
       "0               -0.124425  ...      1.567319      -0.075879         1.607223   \n",
       "1               -0.964260  ...     -0.537720      -1.613244        -0.580788   \n",
       "2                1.570465  ...      1.259163      -0.683527         1.364776   \n",
       "3               -0.919986  ...      0.759450      -0.098090         0.721243   \n",
       "4               -0.190837  ...      2.385598       0.014555         2.639868   \n",
       "\n",
       "   worst area  worst smoothness  worst compactness  worst concavity  \\\n",
       "0    1.384969          0.412628           0.461629         0.642584   \n",
       "1   -0.529160         -1.600400          -0.871596        -0.726165   \n",
       "2    1.053712          0.978433           0.856293         0.491059   \n",
       "3    0.625763          0.408208          -0.095834         0.274268   \n",
       "4    2.425295         -0.131075           0.816827         0.903190   \n",
       "\n",
       "   worst concave points  worst symmetry  worst fractal dimension  \n",
       "0              0.701835       -0.556084                 0.388781  \n",
       "1             -0.900606       -0.923646                -0.797233  \n",
       "2              2.096751        1.767211                 1.165217  \n",
       "3              1.065079        0.345973                -0.157501  \n",
       "4              1.921083       -0.262035                 0.088673  \n",
       "\n",
       "[5 rows x 30 columns]"
      ]
     },
     "execution_count": 35,
     "metadata": {},
     "output_type": "execute_result"
    }
   ],
   "source": [
    "X_train.head()"
   ]
  },
  {
   "cell_type": "code",
   "execution_count": 36,
   "metadata": {},
   "outputs": [],
   "source": [
    "X_test = pd.DataFrame(ss.transform(X_test), columns=X_test.columns)"
   ]
  },
  {
   "cell_type": "code",
   "execution_count": 37,
   "metadata": {},
   "outputs": [
    {
     "data": {
      "text/html": [
       "<div>\n",
       "<style scoped>\n",
       "    .dataframe tbody tr th:only-of-type {\n",
       "        vertical-align: middle;\n",
       "    }\n",
       "\n",
       "    .dataframe tbody tr th {\n",
       "        vertical-align: top;\n",
       "    }\n",
       "\n",
       "    .dataframe thead th {\n",
       "        text-align: right;\n",
       "    }\n",
       "</style>\n",
       "<table border=\"1\" class=\"dataframe\">\n",
       "  <thead>\n",
       "    <tr style=\"text-align: right;\">\n",
       "      <th></th>\n",
       "      <th>mean radius</th>\n",
       "      <th>mean texture</th>\n",
       "      <th>mean perimeter</th>\n",
       "      <th>mean area</th>\n",
       "      <th>mean smoothness</th>\n",
       "      <th>mean compactness</th>\n",
       "      <th>mean concavity</th>\n",
       "      <th>mean concave points</th>\n",
       "      <th>mean symmetry</th>\n",
       "      <th>mean fractal dimension</th>\n",
       "      <th>...</th>\n",
       "      <th>worst radius</th>\n",
       "      <th>worst texture</th>\n",
       "      <th>worst perimeter</th>\n",
       "      <th>worst area</th>\n",
       "      <th>worst smoothness</th>\n",
       "      <th>worst compactness</th>\n",
       "      <th>worst concavity</th>\n",
       "      <th>worst concave points</th>\n",
       "      <th>worst symmetry</th>\n",
       "      <th>worst fractal dimension</th>\n",
       "    </tr>\n",
       "  </thead>\n",
       "  <tbody>\n",
       "    <tr>\n",
       "      <td>0</td>\n",
       "      <td>-0.378111</td>\n",
       "      <td>-0.584130</td>\n",
       "      <td>-0.376001</td>\n",
       "      <td>-0.450976</td>\n",
       "      <td>1.236483</td>\n",
       "      <td>0.156651</td>\n",
       "      <td>-0.620108</td>\n",
       "      <td>-0.474851</td>\n",
       "      <td>1.151568</td>\n",
       "      <td>0.477434</td>\n",
       "      <td>...</td>\n",
       "      <td>-0.364903</td>\n",
       "      <td>-0.629584</td>\n",
       "      <td>-0.394313</td>\n",
       "      <td>-0.444823</td>\n",
       "      <td>0.669009</td>\n",
       "      <td>-0.358532</td>\n",
       "      <td>-0.617998</td>\n",
       "      <td>-0.501782</td>\n",
       "      <td>0.243362</td>\n",
       "      <td>0.079595</td>\n",
       "    </tr>\n",
       "    <tr>\n",
       "      <td>1</td>\n",
       "      <td>1.116982</td>\n",
       "      <td>0.307243</td>\n",
       "      <td>1.084884</td>\n",
       "      <td>0.989985</td>\n",
       "      <td>0.568810</td>\n",
       "      <td>0.512138</td>\n",
       "      <td>0.385560</td>\n",
       "      <td>1.040903</td>\n",
       "      <td>0.688006</td>\n",
       "      <td>-0.289072</td>\n",
       "      <td>...</td>\n",
       "      <td>1.015553</td>\n",
       "      <td>-0.047321</td>\n",
       "      <td>0.936752</td>\n",
       "      <td>0.853167</td>\n",
       "      <td>0.699951</td>\n",
       "      <td>0.724327</td>\n",
       "      <td>0.239125</td>\n",
       "      <td>1.239257</td>\n",
       "      <td>0.226516</td>\n",
       "      <td>0.050759</td>\n",
       "    </tr>\n",
       "    <tr>\n",
       "      <td>2</td>\n",
       "      <td>0.252453</td>\n",
       "      <td>-0.043904</td>\n",
       "      <td>0.225077</td>\n",
       "      <td>0.109028</td>\n",
       "      <td>-0.457457</td>\n",
       "      <td>-0.099414</td>\n",
       "      <td>-0.365290</td>\n",
       "      <td>-0.000544</td>\n",
       "      <td>0.278768</td>\n",
       "      <td>-0.589309</td>\n",
       "      <td>...</td>\n",
       "      <td>0.009881</td>\n",
       "      <td>0.076430</td>\n",
       "      <td>0.068731</td>\n",
       "      <td>-0.112313</td>\n",
       "      <td>-0.047088</td>\n",
       "      <td>0.289580</td>\n",
       "      <td>-0.444109</td>\n",
       "      <td>0.517236</td>\n",
       "      <td>0.076428</td>\n",
       "      <td>0.034205</td>\n",
       "    </tr>\n",
       "    <tr>\n",
       "      <td>3</td>\n",
       "      <td>-0.341019</td>\n",
       "      <td>-0.241987</td>\n",
       "      <td>-0.295692</td>\n",
       "      <td>-0.453002</td>\n",
       "      <td>1.934164</td>\n",
       "      <td>1.190797</td>\n",
       "      <td>-0.503213</td>\n",
       "      <td>0.125313</td>\n",
       "      <td>-0.336900</td>\n",
       "      <td>1.349091</td>\n",
       "      <td>...</td>\n",
       "      <td>-0.239975</td>\n",
       "      <td>-0.212322</td>\n",
       "      <td>-0.224300</td>\n",
       "      <td>-0.354220</td>\n",
       "      <td>0.585022</td>\n",
       "      <td>0.247030</td>\n",
       "      <td>-0.698781</td>\n",
       "      <td>-0.067825</td>\n",
       "      <td>-0.505544</td>\n",
       "      <td>0.259019</td>\n",
       "    </tr>\n",
       "    <tr>\n",
       "      <td>4</td>\n",
       "      <td>0.149737</td>\n",
       "      <td>0.899241</td>\n",
       "      <td>0.098403</td>\n",
       "      <td>0.043622</td>\n",
       "      <td>-0.690017</td>\n",
       "      <td>-0.705264</td>\n",
       "      <td>-0.062228</td>\n",
       "      <td>0.116992</td>\n",
       "      <td>-0.633870</td>\n",
       "      <td>-1.192552</td>\n",
       "      <td>...</td>\n",
       "      <td>-0.085897</td>\n",
       "      <td>0.952204</td>\n",
       "      <td>-0.137798</td>\n",
       "      <td>-0.204707</td>\n",
       "      <td>-0.051509</td>\n",
       "      <td>-0.603964</td>\n",
       "      <td>-0.046583</td>\n",
       "      <td>0.323704</td>\n",
       "      <td>-0.666353</td>\n",
       "      <td>-0.839419</td>\n",
       "    </tr>\n",
       "  </tbody>\n",
       "</table>\n",
       "<p>5 rows × 30 columns</p>\n",
       "</div>"
      ],
      "text/plain": [
       "   mean radius  mean texture  mean perimeter  mean area  mean smoothness  \\\n",
       "0    -0.378111     -0.584130       -0.376001  -0.450976         1.236483   \n",
       "1     1.116982      0.307243        1.084884   0.989985         0.568810   \n",
       "2     0.252453     -0.043904        0.225077   0.109028        -0.457457   \n",
       "3    -0.341019     -0.241987       -0.295692  -0.453002         1.934164   \n",
       "4     0.149737      0.899241        0.098403   0.043622        -0.690017   \n",
       "\n",
       "   mean compactness  mean concavity  mean concave points  mean symmetry  \\\n",
       "0          0.156651       -0.620108            -0.474851       1.151568   \n",
       "1          0.512138        0.385560             1.040903       0.688006   \n",
       "2         -0.099414       -0.365290            -0.000544       0.278768   \n",
       "3          1.190797       -0.503213             0.125313      -0.336900   \n",
       "4         -0.705264       -0.062228             0.116992      -0.633870   \n",
       "\n",
       "   mean fractal dimension  ...  worst radius  worst texture  worst perimeter  \\\n",
       "0                0.477434  ...     -0.364903      -0.629584        -0.394313   \n",
       "1               -0.289072  ...      1.015553      -0.047321         0.936752   \n",
       "2               -0.589309  ...      0.009881       0.076430         0.068731   \n",
       "3                1.349091  ...     -0.239975      -0.212322        -0.224300   \n",
       "4               -1.192552  ...     -0.085897       0.952204        -0.137798   \n",
       "\n",
       "   worst area  worst smoothness  worst compactness  worst concavity  \\\n",
       "0   -0.444823          0.669009          -0.358532        -0.617998   \n",
       "1    0.853167          0.699951           0.724327         0.239125   \n",
       "2   -0.112313         -0.047088           0.289580        -0.444109   \n",
       "3   -0.354220          0.585022           0.247030        -0.698781   \n",
       "4   -0.204707         -0.051509          -0.603964        -0.046583   \n",
       "\n",
       "   worst concave points  worst symmetry  worst fractal dimension  \n",
       "0             -0.501782        0.243362                 0.079595  \n",
       "1              1.239257        0.226516                 0.050759  \n",
       "2              0.517236        0.076428                 0.034205  \n",
       "3             -0.067825       -0.505544                 0.259019  \n",
       "4              0.323704       -0.666353                -0.839419  \n",
       "\n",
       "[5 rows x 30 columns]"
      ]
     },
     "execution_count": 37,
     "metadata": {},
     "output_type": "execute_result"
    }
   ],
   "source": [
    "X_test.head()"
   ]
  },
  {
   "cell_type": "markdown",
   "metadata": {},
   "source": [
    "## Instantiate and fitting our model\n",
    "---\n",
    "\n",
    "In the cells provided, create and fit an instance of `KNeighborsClassifier`. You can use the default parameters."
   ]
  },
  {
   "cell_type": "code",
   "execution_count": 38,
   "metadata": {},
   "outputs": [],
   "source": [
    "knn = sknb.KNeighborsClassifier()"
   ]
  },
  {
   "cell_type": "code",
   "execution_count": 40,
   "metadata": {},
   "outputs": [
    {
     "data": {
      "text/plain": [
       "KNeighborsClassifier(algorithm='auto', leaf_size=30, metric='minkowski',\n",
       "                     metric_params=None, n_jobs=None, n_neighbors=5, p=2,\n",
       "                     weights='uniform')"
      ]
     },
     "execution_count": 40,
     "metadata": {},
     "output_type": "execute_result"
    }
   ],
   "source": [
    "knn.fit(X_train, y_train)"
   ]
  },
  {
   "cell_type": "markdown",
   "metadata": {},
   "source": [
    "## Predictions\n",
    "---\n",
    "\n",
    "Use our newly fitted KNN model to create predictions from `X_test_scaled`."
   ]
  },
  {
   "cell_type": "code",
   "execution_count": 43,
   "metadata": {},
   "outputs": [],
   "source": [
    "y_hat = knn.predict(X_test)"
   ]
  },
  {
   "cell_type": "markdown",
   "metadata": {},
   "source": [
    "## Confusion Matrix\n",
    "---\n",
    "\n",
    "We'll create a confusion matrix using the `confusion_matrix` function from `sklearn`'s `metrics` module."
   ]
  },
  {
   "cell_type": "code",
   "execution_count": 44,
   "metadata": {},
   "outputs": [],
   "source": [
    "cm = skm.confusion_matrix(y_test, y_hat)"
   ]
  },
  {
   "cell_type": "code",
   "execution_count": 45,
   "metadata": {},
   "outputs": [
    {
     "data": {
      "text/plain": [
       "array([[50,  3],\n",
       "       [ 0, 90]], dtype=int64)"
      ]
     },
     "execution_count": 45,
     "metadata": {},
     "output_type": "execute_result"
    }
   ],
   "source": [
    "# cm[0] is the predicted -ve +ve values.\n",
    "cm"
   ]
  },
  {
   "cell_type": "markdown",
   "metadata": {},
   "source": [
    "## Confusion DataFrame\n",
    "---\n",
    "\n",
    "The confusion matrix we just created isn't very explanatory, so let's drop it into a pandas `DataFrame`."
   ]
  },
  {
   "cell_type": "code",
   "execution_count": 48,
   "metadata": {},
   "outputs": [],
   "source": [
    "cm_df = pd.DataFrame(cm, columns = ['pred_benign', 'pred_malignant'], index=['actual_benign', 'actual_malignant'])"
   ]
  },
  {
   "cell_type": "code",
   "execution_count": 49,
   "metadata": {},
   "outputs": [
    {
     "data": {
      "text/html": [
       "<div>\n",
       "<style scoped>\n",
       "    .dataframe tbody tr th:only-of-type {\n",
       "        vertical-align: middle;\n",
       "    }\n",
       "\n",
       "    .dataframe tbody tr th {\n",
       "        vertical-align: top;\n",
       "    }\n",
       "\n",
       "    .dataframe thead th {\n",
       "        text-align: right;\n",
       "    }\n",
       "</style>\n",
       "<table border=\"1\" class=\"dataframe\">\n",
       "  <thead>\n",
       "    <tr style=\"text-align: right;\">\n",
       "      <th></th>\n",
       "      <th>pred_benign</th>\n",
       "      <th>pred_malignant</th>\n",
       "    </tr>\n",
       "  </thead>\n",
       "  <tbody>\n",
       "    <tr>\n",
       "      <td>actual_benign</td>\n",
       "      <td>50</td>\n",
       "      <td>3</td>\n",
       "    </tr>\n",
       "    <tr>\n",
       "      <td>actual_malignant</td>\n",
       "      <td>0</td>\n",
       "      <td>90</td>\n",
       "    </tr>\n",
       "  </tbody>\n",
       "</table>\n",
       "</div>"
      ],
      "text/plain": [
       "                  pred_benign  pred_malignant\n",
       "actual_benign              50               3\n",
       "actual_malignant            0              90"
      ]
     },
     "execution_count": 49,
     "metadata": {},
     "output_type": "execute_result"
    }
   ],
   "source": [
    "cm_df"
   ]
  },
  {
   "cell_type": "markdown",
   "metadata": {},
   "source": [
    "## Calculate recall\n",
    "---\n",
    "\n",
    "<details>\n",
    "    <summary>Need a hint?</summary>\n",
    "    Recall = Sensitivity, and there are no p's in sensitivity.\n",
    "</details>"
   ]
  },
  {
   "cell_type": "code",
   "execution_count": null,
   "metadata": {},
   "outputs": [],
   "source": []
  },
  {
   "cell_type": "markdown",
   "metadata": {},
   "source": [
    "## How many Type I errors are there?\n",
    "---\n",
    "\n",
    "<details>\n",
    "    <summary>Need a hint?</summary>\n",
    "    Type I = False positive\n",
    "</details>"
   ]
  },
  {
   "cell_type": "code",
   "execution_count": null,
   "metadata": {},
   "outputs": [],
   "source": []
  },
  {
   "cell_type": "markdown",
   "metadata": {},
   "source": [
    "## How many Type II errors are there?\n",
    "---\n",
    "<details>\n",
    "    <summary>Need a hint?</summary>\n",
    "    Type II = False negatives\n",
    "</details>"
   ]
  },
  {
   "cell_type": "code",
   "execution_count": null,
   "metadata": {},
   "outputs": [],
   "source": []
  },
  {
   "cell_type": "markdown",
   "metadata": {},
   "source": [
    "## Which error is worse (Type I vs Type II)?\n",
    "---"
   ]
  },
  {
   "cell_type": "code",
   "execution_count": null,
   "metadata": {},
   "outputs": [],
   "source": []
  },
  {
   "cell_type": "markdown",
   "metadata": {},
   "source": [
    "## Calculate the sensitivity\n",
    "---\n",
    "\n",
    "<details>\n",
    "    <summary>Need a hint?</summary>\n",
    "    There are no p's in sensitivity: TP/P\n",
    "</details>"
   ]
  },
  {
   "cell_type": "code",
   "execution_count": null,
   "metadata": {},
   "outputs": [],
   "source": []
  },
  {
   "cell_type": "markdown",
   "metadata": {},
   "source": [
    "## Calculate the specificity\n",
    "---\n",
    "\n",
    "<details>\n",
    "    <summary>Need a hint?</summary>\n",
    "    There is a p in specificity, therefore there are no p's in the calculation: TN/N\n",
    "</details>"
   ]
  },
  {
   "cell_type": "code",
   "execution_count": null,
   "metadata": {},
   "outputs": [],
   "source": []
  },
  {
   "cell_type": "code",
   "execution_count": null,
   "metadata": {},
   "outputs": [],
   "source": []
  }
 ],
 "metadata": {
  "kernelspec": {
   "display_name": "Python 3",
   "language": "python",
   "name": "python3"
  },
  "language_info": {
   "codemirror_mode": {
    "name": "ipython",
    "version": 3
   },
   "file_extension": ".py",
   "mimetype": "text/x-python",
   "name": "python",
   "nbconvert_exporter": "python",
   "pygments_lexer": "ipython3",
   "version": "3.7.4"
  }
 },
 "nbformat": 4,
 "nbformat_minor": 2
}
