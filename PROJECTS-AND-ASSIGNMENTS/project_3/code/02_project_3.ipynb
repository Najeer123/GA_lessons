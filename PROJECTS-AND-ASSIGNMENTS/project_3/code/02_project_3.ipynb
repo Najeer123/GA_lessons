{
 "cells": [
  {
   "cell_type": "markdown",
   "metadata": {},
   "source": [
    "# Project 3: Web APIs & Classification"
   ]
  },
  {
   "cell_type": "markdown",
   "metadata": {},
   "source": [
    "## Problem Statement"
   ]
  },
  {
   "cell_type": "markdown",
   "metadata": {},
   "source": [
    "Given posts from two Using Reddit's API, you'll collect posts from two subreddits, r/worldnews and r/todayilearned, we will use NLP to train a classifier on which subreddit a given post came from."
   ]
  },
  {
   "cell_type": "markdown",
   "metadata": {},
   "source": [
    "## Executive Summary\n",
    "Naive bayes was found to be more accurate at classifying titles into subreddits than the comparison model, basic decision tree.\n",
    "\n",
    "### Contents:\n",
    "- [Scraping reddit for data](#Scraping-reddit-for-data)\n",
    "- [Explore and clean data](#Explore-and-clean-data)\n",
    "- [Building model](#Building-model)\n",
    "- [Building second model](#Building-second-model)\n",
    "- [Conclusions and Recommendations](#Conclusions-and-Recommendations)"
   ]
  },
  {
   "cell_type": "code",
   "execution_count": 1,
   "metadata": {},
   "outputs": [],
   "source": [
    "import numpy as np\n",
    "import pandas as pd\n",
    "import pleiades as ple\n",
    "from sklearn.model_selection import train_test_split\n",
    "from sklearn.pipeline import Pipeline\n",
    "from sklearn.model_selection import GridSearchCV\n",
    "from sklearn.feature_extraction.text import TfidfVectorizer\n",
    "from sklearn.tree import DecisionTreeClassifier\n",
    "import data_plots as dp\n",
    "from sklearn.naive_bayes import MultinomialNB\n",
    "\n",
    "%matplotlib inline"
   ]
  },
  {
   "cell_type": "markdown",
   "metadata": {},
   "source": [
    "## Import data"
   ]
  },
  {
   "cell_type": "code",
   "execution_count": 2,
   "metadata": {},
   "outputs": [],
   "source": [
    "import_path = r'..\\datasets\\worldnews.csv'\n",
    "data = pd.read_csv(import_path)"
   ]
  },
  {
   "cell_type": "code",
   "execution_count": 3,
   "metadata": {},
   "outputs": [],
   "source": [
    "import_path = r'..\\datasets\\todayilearned.csv'\n",
    "data2 = pd.read_csv(import_path)"
   ]
  },
  {
   "cell_type": "markdown",
   "metadata": {},
   "source": [
    "## Explore and clean data"
   ]
  },
  {
   "cell_type": "code",
   "execution_count": 4,
   "metadata": {},
   "outputs": [],
   "source": [
    "data3 = pd.concat([data, data2], join='inner', ignore_index=True)"
   ]
  },
  {
   "cell_type": "code",
   "execution_count": 5,
   "metadata": {},
   "outputs": [],
   "source": [
    "export_path = r'..\\datasets\\reddit.csv'\n",
    "data3.to_csv(export_path)"
   ]
  },
  {
   "cell_type": "code",
   "execution_count": 6,
   "metadata": {},
   "outputs": [
    {
     "data": {
      "text/html": [
       "<div>\n",
       "<style scoped>\n",
       "    .dataframe tbody tr th:only-of-type {\n",
       "        vertical-align: middle;\n",
       "    }\n",
       "\n",
       "    .dataframe tbody tr th {\n",
       "        vertical-align: top;\n",
       "    }\n",
       "\n",
       "    .dataframe thead th {\n",
       "        text-align: right;\n",
       "    }\n",
       "</style>\n",
       "<table border=\"1\" class=\"dataframe\">\n",
       "  <thead>\n",
       "    <tr style=\"text-align: right;\">\n",
       "      <th></th>\n",
       "      <th>approved_at_utc</th>\n",
       "      <th>subreddit</th>\n",
       "      <th>selftext</th>\n",
       "      <th>author_fullname</th>\n",
       "      <th>saved</th>\n",
       "      <th>mod_reason_title</th>\n",
       "      <th>gilded</th>\n",
       "      <th>clicked</th>\n",
       "      <th>title</th>\n",
       "      <th>link_flair_richtext</th>\n",
       "      <th>...</th>\n",
       "      <th>parent_whitelist_status</th>\n",
       "      <th>stickied</th>\n",
       "      <th>url</th>\n",
       "      <th>subreddit_subscribers</th>\n",
       "      <th>created_utc</th>\n",
       "      <th>num_crossposts</th>\n",
       "      <th>media</th>\n",
       "      <th>is_video</th>\n",
       "      <th>link_flair_template_id</th>\n",
       "      <th>author_cakeday</th>\n",
       "    </tr>\n",
       "  </thead>\n",
       "  <tbody>\n",
       "    <tr>\n",
       "      <th>0</th>\n",
       "      <td>NaN</td>\n",
       "      <td>worldnews</td>\n",
       "      <td>NaN</td>\n",
       "      <td>t2_4p0y4poi</td>\n",
       "      <td>False</td>\n",
       "      <td>NaN</td>\n",
       "      <td>0</td>\n",
       "      <td>False</td>\n",
       "      <td>Greta Thunberg arrives in Lisbon today for UNc...</td>\n",
       "      <td>[]</td>\n",
       "      <td>...</td>\n",
       "      <td>all_ads</td>\n",
       "      <td>False</td>\n",
       "      <td>https://www.cbsnews.com/news/greta-thunberg-ar...</td>\n",
       "      <td>22599869</td>\n",
       "      <td>1.575409e+09</td>\n",
       "      <td>5</td>\n",
       "      <td>NaN</td>\n",
       "      <td>False</td>\n",
       "      <td>NaN</td>\n",
       "      <td>NaN</td>\n",
       "    </tr>\n",
       "    <tr>\n",
       "      <th>1</th>\n",
       "      <td>NaN</td>\n",
       "      <td>worldnews</td>\n",
       "      <td>NaN</td>\n",
       "      <td>t2_2yqt</td>\n",
       "      <td>False</td>\n",
       "      <td>NaN</td>\n",
       "      <td>0</td>\n",
       "      <td>False</td>\n",
       "      <td>'So If You're Poor, You're Dead'? Watch These ...</td>\n",
       "      <td>[]</td>\n",
       "      <td>...</td>\n",
       "      <td>all_ads</td>\n",
       "      <td>False</td>\n",
       "      <td>https://www.commondreams.org/news/2019/12/03/s...</td>\n",
       "      <td>22599869</td>\n",
       "      <td>1.575393e+09</td>\n",
       "      <td>8</td>\n",
       "      <td>NaN</td>\n",
       "      <td>False</td>\n",
       "      <td>NaN</td>\n",
       "      <td>NaN</td>\n",
       "    </tr>\n",
       "    <tr>\n",
       "      <th>2</th>\n",
       "      <td>NaN</td>\n",
       "      <td>worldnews</td>\n",
       "      <td>NaN</td>\n",
       "      <td>t2_2nmahwux</td>\n",
       "      <td>False</td>\n",
       "      <td>NaN</td>\n",
       "      <td>1</td>\n",
       "      <td>False</td>\n",
       "      <td>US Navy ‘invited’ to go to Taiwan and ‘have fu...</td>\n",
       "      <td>[]</td>\n",
       "      <td>...</td>\n",
       "      <td>all_ads</td>\n",
       "      <td>False</td>\n",
       "      <td>https://www.scmp.com/news/china/military/artic...</td>\n",
       "      <td>22599869</td>\n",
       "      <td>1.575393e+09</td>\n",
       "      <td>3</td>\n",
       "      <td>NaN</td>\n",
       "      <td>False</td>\n",
       "      <td>NaN</td>\n",
       "      <td>NaN</td>\n",
       "    </tr>\n",
       "    <tr>\n",
       "      <th>3</th>\n",
       "      <td>NaN</td>\n",
       "      <td>worldnews</td>\n",
       "      <td>NaN</td>\n",
       "      <td>t2_etf58</td>\n",
       "      <td>False</td>\n",
       "      <td>NaN</td>\n",
       "      <td>0</td>\n",
       "      <td>False</td>\n",
       "      <td>Trump Impeachment Report Released by House Panel</td>\n",
       "      <td>[]</td>\n",
       "      <td>...</td>\n",
       "      <td>all_ads</td>\n",
       "      <td>False</td>\n",
       "      <td>https://www.nytimes.com/2019/12/03/us/politics...</td>\n",
       "      <td>22599869</td>\n",
       "      <td>1.575400e+09</td>\n",
       "      <td>1</td>\n",
       "      <td>NaN</td>\n",
       "      <td>False</td>\n",
       "      <td>9ce4c7a8-dd0c-11e6-a0a7-0e5f1a4285f8</td>\n",
       "      <td>NaN</td>\n",
       "    </tr>\n",
       "    <tr>\n",
       "      <th>4</th>\n",
       "      <td>NaN</td>\n",
       "      <td>worldnews</td>\n",
       "      <td>NaN</td>\n",
       "      <td>t2_4g3lx</td>\n",
       "      <td>False</td>\n",
       "      <td>NaN</td>\n",
       "      <td>0</td>\n",
       "      <td>False</td>\n",
       "      <td>France's president just fact-checked Trump in ...</td>\n",
       "      <td>[]</td>\n",
       "      <td>...</td>\n",
       "      <td>all_ads</td>\n",
       "      <td>False</td>\n",
       "      <td>https://www.cnn.com/politics/live-news/nato-su...</td>\n",
       "      <td>22599869</td>\n",
       "      <td>1.575388e+09</td>\n",
       "      <td>1</td>\n",
       "      <td>NaN</td>\n",
       "      <td>False</td>\n",
       "      <td>NaN</td>\n",
       "      <td>NaN</td>\n",
       "    </tr>\n",
       "  </tbody>\n",
       "</table>\n",
       "<p>5 rows × 102 columns</p>\n",
       "</div>"
      ],
      "text/plain": [
       "   approved_at_utc  subreddit  selftext author_fullname  saved  \\\n",
       "0              NaN  worldnews       NaN     t2_4p0y4poi  False   \n",
       "1              NaN  worldnews       NaN         t2_2yqt  False   \n",
       "2              NaN  worldnews       NaN     t2_2nmahwux  False   \n",
       "3              NaN  worldnews       NaN        t2_etf58  False   \n",
       "4              NaN  worldnews       NaN        t2_4g3lx  False   \n",
       "\n",
       "   mod_reason_title  gilded  clicked  \\\n",
       "0               NaN       0    False   \n",
       "1               NaN       0    False   \n",
       "2               NaN       1    False   \n",
       "3               NaN       0    False   \n",
       "4               NaN       0    False   \n",
       "\n",
       "                                               title link_flair_richtext  ...  \\\n",
       "0  Greta Thunberg arrives in Lisbon today for UNc...                  []  ...   \n",
       "1  'So If You're Poor, You're Dead'? Watch These ...                  []  ...   \n",
       "2  US Navy ‘invited’ to go to Taiwan and ‘have fu...                  []  ...   \n",
       "3   Trump Impeachment Report Released by House Panel                  []  ...   \n",
       "4  France's president just fact-checked Trump in ...                  []  ...   \n",
       "\n",
       "  parent_whitelist_status  stickied  \\\n",
       "0                 all_ads     False   \n",
       "1                 all_ads     False   \n",
       "2                 all_ads     False   \n",
       "3                 all_ads     False   \n",
       "4                 all_ads     False   \n",
       "\n",
       "                                                 url subreddit_subscribers  \\\n",
       "0  https://www.cbsnews.com/news/greta-thunberg-ar...              22599869   \n",
       "1  https://www.commondreams.org/news/2019/12/03/s...              22599869   \n",
       "2  https://www.scmp.com/news/china/military/artic...              22599869   \n",
       "3  https://www.nytimes.com/2019/12/03/us/politics...              22599869   \n",
       "4  https://www.cnn.com/politics/live-news/nato-su...              22599869   \n",
       "\n",
       "    created_utc  num_crossposts media  is_video  \\\n",
       "0  1.575409e+09               5   NaN     False   \n",
       "1  1.575393e+09               8   NaN     False   \n",
       "2  1.575393e+09               3   NaN     False   \n",
       "3  1.575400e+09               1   NaN     False   \n",
       "4  1.575388e+09               1   NaN     False   \n",
       "\n",
       "                 link_flair_template_id  author_cakeday  \n",
       "0                                   NaN             NaN  \n",
       "1                                   NaN             NaN  \n",
       "2                                   NaN             NaN  \n",
       "3  9ce4c7a8-dd0c-11e6-a0a7-0e5f1a4285f8             NaN  \n",
       "4                                   NaN             NaN  \n",
       "\n",
       "[5 rows x 102 columns]"
      ]
     },
     "execution_count": 6,
     "metadata": {},
     "output_type": "execute_result"
    }
   ],
   "source": [
    "data3.head()"
   ]
  },
  {
   "cell_type": "code",
   "execution_count": 7,
   "metadata": {},
   "outputs": [],
   "source": [
    "df = data3[['title', 'subreddit']]\n",
    "\n",
    "X = df['title']\n",
    "y = df['subreddit'].values"
   ]
  },
  {
   "cell_type": "markdown",
   "metadata": {},
   "source": [
    "#### Remove unwanted characters.\n",
    "\n",
    "TIL is removed here as it makes the model overfit."
   ]
  },
  {
   "cell_type": "code",
   "execution_count": 8,
   "metadata": {},
   "outputs": [],
   "source": [
    "reddit_lingo = {\n",
    "    'TIL': '',\n",
    "    '[tT]oday [iI] [lL]earned': '',\n",
    "    'ff+uu+': 'ffuuu'\n",
    "}"
   ]
  },
  {
   "cell_type": "code",
   "execution_count": 9,
   "metadata": {
    "scrolled": true
   },
   "outputs": [
    {
     "name": "stdout",
     "output_type": "stream",
     "text": [
      "before: 'So If You're Poor, You're Dead'? Watch These Brits Gasp When They Find Out Cost of Healthcare in the United States\n",
      "after: so if you re poor you re dead watch these brit gasp when they find out cost of healthcare in the united state\n"
     ]
    }
   ],
   "source": [
    "cz = ple.CZ()\n",
    "print('before:', X[1])\n",
    "X = cz.text_cleaner(X, cz.contractions, reddit_lingo,\n",
    "                    r'[^a-zA-Z ]', cz.lemmatize_sentence)\n",
    "print('after:', X[1])"
   ]
  },
  {
   "cell_type": "markdown",
   "metadata": {},
   "source": [
    "## Building model"
   ]
  },
  {
   "cell_type": "code",
   "execution_count": 10,
   "metadata": {},
   "outputs": [],
   "source": [
    "X_train, X_test, y_train, y_test = train_test_split(\n",
    "    X, y, random_state=1, stratify=y)"
   ]
  },
  {
   "cell_type": "markdown",
   "metadata": {},
   "source": [
    "#### Tuning hyperparameters"
   ]
  },
  {
   "cell_type": "code",
   "execution_count": 11,
   "metadata": {},
   "outputs": [
    {
     "data": {
      "text/plain": [
       "GridSearchCV(cv=5, error_score='raise-deprecating',\n",
       "             estimator=Pipeline(memory=None,\n",
       "                                steps=[('tvec',\n",
       "                                        TfidfVectorizer(analyzer='word',\n",
       "                                                        binary=False,\n",
       "                                                        decode_error='strict',\n",
       "                                                        dtype=<class 'numpy.float64'>,\n",
       "                                                        encoding='utf-8',\n",
       "                                                        input='content',\n",
       "                                                        lowercase=True,\n",
       "                                                        max_df=1.0,\n",
       "                                                        max_features=None,\n",
       "                                                        min_df=1,\n",
       "                                                        ngram_range=(1, 1),\n",
       "                                                        norm='l2',\n",
       "                                                        preprocessor=None,\n",
       "                                                        smooth_idf=True,\n",
       "                                                        stop_words...\n",
       "                                        MultinomialNB(alpha=1.0,\n",
       "                                                      class_prior=None,\n",
       "                                                      fit_prior=True))],\n",
       "                                verbose=False),\n",
       "             iid='warn', n_jobs=-1,\n",
       "             param_grid={'tvec__max_df': [0.85, 0.9, 0.95],\n",
       "                         'tvec__max_features': [1000, 2000, 3000],\n",
       "                         'tvec__min_df': [2, 4, 6],\n",
       "                         'tvec__ngram_range': [(1, 1), (1, 2)],\n",
       "                         'tvec__stop_words': [None, 'english']},\n",
       "             pre_dispatch='2*n_jobs', refit=True, return_train_score=False,\n",
       "             scoring=None, verbose=0)"
      ]
     },
     "execution_count": 11,
     "metadata": {},
     "output_type": "execute_result"
    }
   ],
   "source": [
    "pipe = Pipeline([\n",
    "    ('tvec', TfidfVectorizer()),\n",
    "    ('nb', MultinomialNB())\n",
    "])\n",
    "params = {\n",
    "    'tvec__stop_words': [None, 'english'],\n",
    "    'tvec__ngram_range': [(1, 1), (1, 2)],\n",
    "    'tvec__max_df': [.85, .9, .95],\n",
    "    'tvec__min_df': [2, 4, 6],\n",
    "    'tvec__max_features': [1000, 2000, 3000],\n",
    "}\n",
    "gs = GridSearchCV(pipe, param_grid=params, cv=5, n_jobs=-1)\n",
    "gs.fit(X_train, y_train)"
   ]
  },
  {
   "cell_type": "code",
   "execution_count": 12,
   "metadata": {},
   "outputs": [
    {
     "name": "stdout",
     "output_type": "stream",
     "text": [
      "best score: 0.9316081330868762\n"
     ]
    }
   ],
   "source": [
    "print('best score:', gs.best_score_)"
   ]
  },
  {
   "cell_type": "code",
   "execution_count": 13,
   "metadata": {
    "scrolled": true
   },
   "outputs": [
    {
     "name": "stdout",
     "output_type": "stream",
     "text": [
      "best params: {'tvec__max_df': 0.85, 'tvec__max_features': 3000, 'tvec__min_df': 2, 'tvec__ngram_range': (1, 1), 'tvec__stop_words': None}\n"
     ]
    }
   ],
   "source": [
    "print('best params:', gs.best_params_)"
   ]
  },
  {
   "cell_type": "code",
   "execution_count": 14,
   "metadata": {},
   "outputs": [
    {
     "name": "stdout",
     "output_type": "stream",
     "text": [
      "TfidfVectorizer:\n",
      "the    82.959176\n",
      "of     55.344176\n",
      "in     55.192617\n",
      "to     55.143583\n",
      "and    40.479415\n",
      "dtype: float64\n",
      "\n"
     ]
    }
   ],
   "source": [
    "tvec = TfidfVectorizer(stop_words=None, ngram_range=(\n",
    "    1, 1), max_df=0.85, min_df=2, max_features=2000)\n",
    "X_train_tvec = tvec.fit_transform(X_train)\n",
    "X_train_tvec = pd.DataFrame(X_train_tvec.toarray(),\n",
    "                            columns=tvec.get_feature_names())\n",
    "X_test_tvec = tvec.transform(X_test)\n",
    "X_test_tvec = pd.DataFrame(X_test_tvec.toarray(),\n",
    "                           columns=tvec.get_feature_names())\n",
    "print('TfidfVectorizer:')\n",
    "print(X_train_tvec.sum().sort_values(ascending=False)[:5])\n",
    "print()"
   ]
  },
  {
   "cell_type": "code",
   "execution_count": 15,
   "metadata": {},
   "outputs": [],
   "source": [
    "nb = MultinomialNB()"
   ]
  },
  {
   "cell_type": "code",
   "execution_count": 16,
   "metadata": {},
   "outputs": [
    {
     "data": {
      "text/plain": [
       "MultinomialNB(alpha=1.0, class_prior=None, fit_prior=True)"
      ]
     },
     "execution_count": 16,
     "metadata": {},
     "output_type": "execute_result"
    }
   ],
   "source": [
    "nb.fit(X_train_tvec, y_train)"
   ]
  },
  {
   "cell_type": "code",
   "execution_count": 17,
   "metadata": {},
   "outputs": [],
   "source": [
    "y_pred = nb.predict(X_test_tvec)"
   ]
  },
  {
   "cell_type": "code",
   "execution_count": 19,
   "metadata": {},
   "outputs": [
    {
     "name": "stdout",
     "output_type": "stream",
     "text": [
      "model accuracy on itself: 0.9833641404805915\n",
      "model accuracy on test set: 0.9279778393351801\n"
     ]
    }
   ],
   "source": [
    "print('model accuracy on itself:', nb.score(X_train_tvec, y_train))\n",
    "print('model accuracy on test set:', nb.score(X_test_tvec, y_test))"
   ]
  },
  {
   "cell_type": "markdown",
   "metadata": {},
   "source": [
    "#### Plot ROC"
   ]
  },
  {
   "cell_type": "code",
   "execution_count": 18,
   "metadata": {},
   "outputs": [
    {
     "data": {
      "image/png": "[encoded data removed]",
      "text/plain": [
       "<Figure size 432x288 with 1 Axes>"
      ]
     },
     "metadata": {
      "needs_background": "light"
     },
     "output_type": "display_data"
    }
   ],
   "source": [
    "roc = dp.Roc()\n",
    "roc.plot(y_test, y_pred)"
   ]
  },
  {
   "cell_type": "markdown",
   "metadata": {},
   "source": [
    "## Building second model\n",
    "\n",
    "#### Tuning hyperparameters"
   ]
  },
  {
   "cell_type": "code",
   "execution_count": 20,
   "metadata": {},
   "outputs": [
    {
     "data": {
      "text/plain": [
       "GridSearchCV(cv=5, error_score='raise-deprecating',\n",
       "             estimator=Pipeline(memory=None,\n",
       "                                steps=[('tvec',\n",
       "                                        TfidfVectorizer(analyzer='word',\n",
       "                                                        binary=False,\n",
       "                                                        decode_error='strict',\n",
       "                                                        dtype=<class 'numpy.float64'>,\n",
       "                                                        encoding='utf-8',\n",
       "                                                        input='content',\n",
       "                                                        lowercase=True,\n",
       "                                                        max_df=1.0,\n",
       "                                                        max_features=None,\n",
       "                                                        min_df=1,\n",
       "                                                        ngram_range=(1, 1),\n",
       "                                                        norm='l2',\n",
       "                                                        preprocessor=None,\n",
       "                                                        smooth_idf=True,\n",
       "                                                        stop_words...\n",
       "                                                               min_weight_fraction_leaf=0.0,\n",
       "                                                               presort=False,\n",
       "                                                               random_state=None,\n",
       "                                                               splitter='best'))],\n",
       "                                verbose=False),\n",
       "             iid='warn', n_jobs=-1,\n",
       "             param_grid={'tvec__max_df': [0.85, 0.9, 0.95],\n",
       "                         'tvec__max_features': [1000, 2000, 3000],\n",
       "                         'tvec__min_df': [2, 4, 6],\n",
       "                         'tvec__ngram_range': [(1, 1), (1, 2)],\n",
       "                         'tvec__stop_words': [None, 'english']},\n",
       "             pre_dispatch='2*n_jobs', refit=True, return_train_score=False,\n",
       "             scoring=None, verbose=0)"
      ]
     },
     "execution_count": 20,
     "metadata": {},
     "output_type": "execute_result"
    }
   ],
   "source": [
    "pipe = Pipeline([\n",
    "    ('tvec', TfidfVectorizer()),\n",
    "    ('dt', DecisionTreeClassifier())\n",
    "])\n",
    "params = {\n",
    "    'tvec__stop_words': [None, 'english'],\n",
    "    'tvec__ngram_range': [(1, 1), (1, 2)],\n",
    "    'tvec__max_df': [.85, .9, .95],\n",
    "    'tvec__min_df': [2, 4, 6],\n",
    "    'tvec__max_features': [1000, 2000, 3000],\n",
    "}\n",
    "gs = GridSearchCV(pipe, param_grid=params, cv=5, n_jobs=-1)\n",
    "gs.fit(X_train, y_train)"
   ]
  },
  {
   "cell_type": "code",
   "execution_count": 21,
   "metadata": {},
   "outputs": [
    {
     "name": "stdout",
     "output_type": "stream",
     "text": [
      "best score: 0.8706099815157117\n"
     ]
    }
   ],
   "source": [
    "print('best score:', gs.best_score_)"
   ]
  },
  {
   "cell_type": "code",
   "execution_count": 22,
   "metadata": {},
   "outputs": [],
   "source": [
    "def get_params(dict):\n",
    "    from re import match\n",
    "    params = {}\n",
    "    pattern = r'^([a-zA-Z0-9_]+)__([a-zA-Z0-9_]+)'\n",
    "    for k, v in dict.items():\n",
    "        if isinstance(v, str):\n",
    "            v = \"'\" + v + \"'\"\n",
    "        m = match(pattern, k)\n",
    "        key = m.group(1)\n",
    "        kwarg = f'{m.group(2)}={v}'\n",
    "        if key in params:\n",
    "            params[key].append(kwarg)\n",
    "        else:\n",
    "            params[key] = [kwarg]\n",
    "    for k, v in params.items():\n",
    "        joined_list = ', '.join(map(str, v))\n",
    "        return f'{k}: {joined_list}'"
   ]
  },
  {
   "cell_type": "code",
   "execution_count": 23,
   "metadata": {},
   "outputs": [
    {
     "name": "stdout",
     "output_type": "stream",
     "text": [
      "best params: tvec: max_df=0.95, max_features=3000, min_df=6, ngram_range=(1, 2), stop_words=None\n"
     ]
    }
   ],
   "source": [
    "print('best params:', get_params(gs.best_params_))"
   ]
  },
  {
   "cell_type": "code",
   "execution_count": 24,
   "metadata": {
    "scrolled": true
   },
   "outputs": [
    {
     "name": "stdout",
     "output_type": "stream",
     "text": [
      "TfidfVectorizer:\n",
      "the    100.452095\n",
      "in      71.324191\n",
      "to      70.034446\n",
      "of      68.716345\n",
      "and     50.633335\n",
      "dtype: float64\n"
     ]
    }
   ],
   "source": [
    "tvec = TfidfVectorizer(max_df=0.95, max_features=3000, min_df=6, ngram_range=(1, 2), stop_words=None)\n",
    "X_train = tvec.fit_transform(X_train)\n",
    "X_train = pd.DataFrame(X_train.toarray(), columns=tvec.get_feature_names())\n",
    "X_test = tvec.transform(X_test)\n",
    "X_test = pd.DataFrame(X_test.toarray(), columns=tvec.get_feature_names())\n",
    "print('TfidfVectorizer:')\n",
    "print(X_train.sum().sort_values(ascending=False)[:5])"
   ]
  },
  {
   "cell_type": "markdown",
   "metadata": {},
   "source": [
    "#### Visualize impact of decision tree hyperparameters."
   ]
  },
  {
   "cell_type": "code",
   "execution_count": 25,
   "metadata": {},
   "outputs": [
    {
     "data": {
      "image/png": "[encoded data removed]",
      "text/plain": [
       "<Figure size 432x288 with 1 Axes>"
      ]
     },
     "metadata": {
      "needs_background": "light"
     },
     "output_type": "display_data"
    }
   ],
   "source": [
    "max_depths = np.linspace(1, 10, 10)\n",
    "train_auc_scores = []\n",
    "test_auc_scores = []\n",
    "roc = dp.Roc()\n",
    "for max_depth in max_depths:\n",
    "    dt = DecisionTreeClassifier(max_depth=max_depth)\n",
    "    dt.fit(X_train, y_train)\n",
    "\n",
    "    y_pred_train = dt.predict(X_train)\n",
    "    train_auc_scores.append(roc.auc_score(y_train, y_pred_train))\n",
    "\n",
    "    y_pred = dt.predict(X_test)\n",
    "    test_auc_scores.append(roc.auc_score(y_test, y_pred))\n",
    "\n",
    "auc_scores = [train_auc_scores, test_auc_scores]\n",
    "roc.plot_auc(max_depths, auc_scores, title='AUC score vs Tree depth',\n",
    "             xlabel='Tree depth', labels=['tain AUC', 'test AUC'])"
   ]
  },
  {
   "cell_type": "code",
   "execution_count": 27,
   "metadata": {},
   "outputs": [
    {
     "data": {
      "image/png": "[encoded data removed]",
      "text/plain": [
       "<Figure size 432x288 with 1 Axes>"
      ]
     },
     "metadata": {
      "needs_background": "light"
     },
     "output_type": "display_data"
    }
   ],
   "source": [
    "min_samples_splits = np.linspace(0.1, 1.0, 10, endpoint=True)\n",
    "train_auc_scores = []\n",
    "test_auc_scores = []\n",
    "roc = dp.Roc()\n",
    "for min_samples_split in min_samples_splits:\n",
    "    dt = DecisionTreeClassifier(min_samples_split=min_samples_split)\n",
    "    dt.fit(X_train, y_train)\n",
    "\n",
    "    y_pred_train = dt.predict(X_train)\n",
    "    train_auc_scores.append(roc.auc_score(y_train, y_pred_train))\n",
    "\n",
    "    y_pred = dt.predict(X_test)\n",
    "    test_auc_scores.append(roc.auc_score(y_test, y_pred))\n",
    "    \n",
    "auc_scores = [train_auc_scores, test_auc_scores]\n",
    "roc.plot_auc(min_samples_splits, auc_scores, title='AUC score vs Min samples split',\n",
    "             xlabel='Min samples split', labels=['tain AUC', 'test AUC'])"
   ]
  },
  {
   "cell_type": "code",
   "execution_count": 28,
   "metadata": {},
   "outputs": [
    {
     "data": {
      "image/png": "[encoded data removed]",
      "text/plain": [
       "<Figure size 432x288 with 1 Axes>"
      ]
     },
     "metadata": {
      "needs_background": "light"
     },
     "output_type": "display_data"
    }
   ],
   "source": [
    "min_samples_leafs = np.linspace(0.1, 0.5, 5, endpoint=True)\n",
    "train_auc_scores = []\n",
    "test_auc_scores = []\n",
    "roc = dp.Roc()\n",
    "for min_samples_leaf in min_samples_leafs:\n",
    "    dt = DecisionTreeClassifier(min_samples_leaf=min_samples_leaf)\n",
    "    dt.fit(X_train, y_train)\n",
    "\n",
    "    y_pred_train = dt.predict(X_train)\n",
    "    train_auc_scores.append(roc.auc_score(y_train, y_pred_train))\n",
    "\n",
    "    y_pred = dt.predict(X_test)\n",
    "    test_auc_scores.append(roc.auc_score(y_test, y_pred))\n",
    "\n",
    "auc_scores = [train_auc_scores, test_auc_scores]\n",
    "roc.plot_auc(min_samples_leafs, auc_scores, title='AUC score vs Min samples leaf',\n",
    "             xlabel='Min samples leaf', labels=['tain AUC', 'test AUC'])"
   ]
  },
  {
   "cell_type": "code",
   "execution_count": 29,
   "metadata": {},
   "outputs": [
    {
     "name": "stdout",
     "output_type": "stream",
     "text": [
      "best score: 0.8207024029574861\n",
      "best params: {'max_depth': 3, 'min_samples_leaf': 0.05, 'min_samples_split': 0.2}\n"
     ]
    }
   ],
   "source": [
    "dt = DecisionTreeClassifier()\n",
    "params = {\n",
    "    'max_depth': [3, 4, 5],\n",
    "    'min_samples_split': [0.2, 0.3, 0.4],\n",
    "    'min_samples_leaf': [0.05, 0.1, 0.15]\n",
    "}\n",
    "gs = GridSearchCV(dt, param_grid=params, cv=5, n_jobs=-1)\n",
    "gs.fit(X_train, y_train)\n",
    "\n",
    "print('best score:', gs.best_score_)\n",
    "print('best params:', gs.best_params_)"
   ]
  },
  {
   "cell_type": "markdown",
   "metadata": {},
   "source": [
    "#### Plot ROC"
   ]
  },
  {
   "cell_type": "code",
   "execution_count": 30,
   "metadata": {},
   "outputs": [
    {
     "data": {
      "image/png": "[encoded data removed]",
      "text/plain": [
       "<Figure size 432x288 with 1 Axes>"
      ]
     },
     "metadata": {
      "needs_background": "light"
     },
     "output_type": "display_data"
    }
   ],
   "source": [
    "y_pred = gs.predict(X_test)\n",
    "\n",
    "roc.plot(y_test, y_pred)"
   ]
  },
  {
   "cell_type": "markdown",
   "metadata": {},
   "source": [
    "## Conclusions and Recommendations"
   ]
  },
  {
   "cell_type": "markdown",
   "metadata": {},
   "source": [
    "I found the simple naive bayes to produce better results than a single decision tree. Some of the findings were suprising, for instance, the fact that removal of stopwords reduced the accuracy of the model."
   ]
  },
  {
   "cell_type": "markdown",
   "metadata": {},
   "source": [
    "#### Model weaknesses"
   ]
  },
  {
   "cell_type": "markdown",
   "metadata": {},
   "source": [
    "The dataset of that the model is trained is likely not representative of the content of the subreddit in the long run. This is because a subreddit like r/worldnews changes with current news and events. As such, there needs to be a way for the model to recognize the type of content in the subreddit apart from individual words.\n",
    "\n",
    "The single decision tree model used as comparison with simple naive bayes comes with many variations. In the process of building the model I found that the accuracy of the model varied substantially. An emsemble approach such as bagged trees or random forest may produce better results."
   ]
  },
  {
   "cell_type": "code",
   "execution_count": null,
   "metadata": {},
   "outputs": [],
   "source": []
  }
 ],
 "metadata": {
  "kernelspec": {
   "display_name": "Python 3",
   "language": "python",
   "name": "python3"
  },
  "language_info": {
   "codemirror_mode": {
    "name": "ipython",
    "version": 3
   },
   "file_extension": ".py",
   "mimetype": "text/x-python",
   "name": "python",
   "nbconvert_exporter": "python",
   "pygments_lexer": "ipython3",
   "version": "3.7.4"
  }
 },
 "nbformat": 4,
 "nbformat_minor": 2
}
