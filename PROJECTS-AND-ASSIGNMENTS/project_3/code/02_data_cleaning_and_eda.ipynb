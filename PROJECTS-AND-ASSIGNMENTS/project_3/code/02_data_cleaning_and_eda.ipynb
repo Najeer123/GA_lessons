{
 "cells": [
  {
   "cell_type": "markdown",
   "metadata": {},
   "source": [
    "# Project 3: Web APIs & Classification"
   ]
  },
  {
   "cell_type": "markdown",
   "metadata": {},
   "source": [
    "## Problem Statement"
   ]
  },
  {
   "cell_type": "markdown",
   "metadata": {},
   "source": [
    "Given posts from two Using Reddit's API, you'll collect posts from two subreddits, r/worldnews and r/todayilearned, we will use NLP to train a classifier on which subreddit a given post came from."
   ]
  },
  {
   "cell_type": "markdown",
   "metadata": {},
   "source": [
    "## Executive Summary\n",
    "\n",
    "### Contents:\n",
    "- [Scraping reddit for data](#Scraping-reddit-for-data)\n",
    "- [2018 Data Import and Cleaning](#2018-Data-Import-and-Cleaning)\n",
    "- [Exploratory Data Analysis](#Exploratory-Data-Analysis)\n",
    "- [Data Visualization](#Visualize-the-data)\n",
    "- [Descriptive and Inferential Statistics](#Descriptive-and-Inferential-Statistics)\n",
    "- [Outside Research](#Outside-Research)\n",
    "- [Conclusions and Recommendations](#Conclusions-and-Recommendations)"
   ]
  },
  {
   "cell_type": "code",
   "execution_count": 2,
   "metadata": {},
   "outputs": [],
   "source": [
    "import pandas as pd\n",
    "\n",
    "%matplotlib inline"
   ]
  },
  {
   "cell_type": "markdown",
   "metadata": {},
   "source": [
    "## Import data"
   ]
  },
  {
   "cell_type": "code",
   "execution_count": 3,
   "metadata": {},
   "outputs": [],
   "source": [
    "import_path = r'..\\datasets\\worldnews.csv'\n",
    "data = pd.read_csv(import_path)"
   ]
  },
  {
   "cell_type": "markdown",
   "metadata": {},
   "source": [
    "## Explore and clean data"
   ]
  },
  {
   "cell_type": "code",
   "execution_count": 6,
   "metadata": {},
   "outputs": [
    {
     "data": {
      "text/html": [
       "<div>\n",
       "<style scoped>\n",
       "    .dataframe tbody tr th:only-of-type {\n",
       "        vertical-align: middle;\n",
       "    }\n",
       "\n",
       "    .dataframe tbody tr th {\n",
       "        vertical-align: top;\n",
       "    }\n",
       "\n",
       "    .dataframe thead th {\n",
       "        text-align: right;\n",
       "    }\n",
       "</style>\n",
       "<table border=\"1\" class=\"dataframe\">\n",
       "  <thead>\n",
       "    <tr style=\"text-align: right;\">\n",
       "      <th></th>\n",
       "      <th>approved_at_utc</th>\n",
       "      <th>subreddit</th>\n",
       "      <th>selftext</th>\n",
       "      <th>author_fullname</th>\n",
       "      <th>saved</th>\n",
       "      <th>mod_reason_title</th>\n",
       "      <th>gilded</th>\n",
       "      <th>clicked</th>\n",
       "      <th>title</th>\n",
       "      <th>link_flair_richtext</th>\n",
       "      <th>...</th>\n",
       "      <th>url</th>\n",
       "      <th>subreddit_subscribers</th>\n",
       "      <th>created_utc</th>\n",
       "      <th>num_crossposts</th>\n",
       "      <th>media</th>\n",
       "      <th>is_video</th>\n",
       "      <th>crosspost_parent_list</th>\n",
       "      <th>link_flair_template_id</th>\n",
       "      <th>crosspost_parent</th>\n",
       "      <th>author_cakeday</th>\n",
       "    </tr>\n",
       "  </thead>\n",
       "  <tbody>\n",
       "    <tr>\n",
       "      <td>0</td>\n",
       "      <td>NaN</td>\n",
       "      <td>worldnews</td>\n",
       "      <td>NaN</td>\n",
       "      <td>t2_4p0y4poi</td>\n",
       "      <td>False</td>\n",
       "      <td>NaN</td>\n",
       "      <td>0</td>\n",
       "      <td>False</td>\n",
       "      <td>Greta Thunberg arrives in Lisbon today for UNc...</td>\n",
       "      <td>[]</td>\n",
       "      <td>...</td>\n",
       "      <td>https://www.cbsnews.com/news/greta-thunberg-ar...</td>\n",
       "      <td>22598319</td>\n",
       "      <td>1.575409e+09</td>\n",
       "      <td>1</td>\n",
       "      <td>NaN</td>\n",
       "      <td>False</td>\n",
       "      <td>NaN</td>\n",
       "      <td>NaN</td>\n",
       "      <td>NaN</td>\n",
       "      <td>NaN</td>\n",
       "    </tr>\n",
       "    <tr>\n",
       "      <td>1</td>\n",
       "      <td>NaN</td>\n",
       "      <td>worldnews</td>\n",
       "      <td>NaN</td>\n",
       "      <td>t2_2yqt</td>\n",
       "      <td>False</td>\n",
       "      <td>NaN</td>\n",
       "      <td>0</td>\n",
       "      <td>False</td>\n",
       "      <td>'So If You're Poor, You're Dead'? Watch These ...</td>\n",
       "      <td>[]</td>\n",
       "      <td>...</td>\n",
       "      <td>https://www.commondreams.org/news/2019/12/03/s...</td>\n",
       "      <td>22598319</td>\n",
       "      <td>1.575393e+09</td>\n",
       "      <td>4</td>\n",
       "      <td>NaN</td>\n",
       "      <td>False</td>\n",
       "      <td>NaN</td>\n",
       "      <td>NaN</td>\n",
       "      <td>NaN</td>\n",
       "      <td>NaN</td>\n",
       "    </tr>\n",
       "    <tr>\n",
       "      <td>2</td>\n",
       "      <td>NaN</td>\n",
       "      <td>worldnews</td>\n",
       "      <td>NaN</td>\n",
       "      <td>t2_4g3lx</td>\n",
       "      <td>False</td>\n",
       "      <td>NaN</td>\n",
       "      <td>0</td>\n",
       "      <td>False</td>\n",
       "      <td>France's president just fact-checked Trump in ...</td>\n",
       "      <td>[]</td>\n",
       "      <td>...</td>\n",
       "      <td>https://www.cnn.com/politics/live-news/nato-su...</td>\n",
       "      <td>22598319</td>\n",
       "      <td>1.575388e+09</td>\n",
       "      <td>1</td>\n",
       "      <td>NaN</td>\n",
       "      <td>False</td>\n",
       "      <td>NaN</td>\n",
       "      <td>NaN</td>\n",
       "      <td>NaN</td>\n",
       "      <td>NaN</td>\n",
       "    </tr>\n",
       "    <tr>\n",
       "      <td>3</td>\n",
       "      <td>NaN</td>\n",
       "      <td>worldnews</td>\n",
       "      <td>NaN</td>\n",
       "      <td>t2_2nmahwux</td>\n",
       "      <td>False</td>\n",
       "      <td>NaN</td>\n",
       "      <td>1</td>\n",
       "      <td>False</td>\n",
       "      <td>US Navy ‘invited’ to go to Taiwan and ‘have fu...</td>\n",
       "      <td>[]</td>\n",
       "      <td>...</td>\n",
       "      <td>https://www.scmp.com/news/china/military/artic...</td>\n",
       "      <td>22598319</td>\n",
       "      <td>1.575393e+09</td>\n",
       "      <td>1</td>\n",
       "      <td>NaN</td>\n",
       "      <td>False</td>\n",
       "      <td>NaN</td>\n",
       "      <td>NaN</td>\n",
       "      <td>NaN</td>\n",
       "      <td>NaN</td>\n",
       "    </tr>\n",
       "    <tr>\n",
       "      <td>4</td>\n",
       "      <td>NaN</td>\n",
       "      <td>worldnews</td>\n",
       "      <td>NaN</td>\n",
       "      <td>t2_4wcibogo</td>\n",
       "      <td>False</td>\n",
       "      <td>NaN</td>\n",
       "      <td>2</td>\n",
       "      <td>False</td>\n",
       "      <td>Trump says \"I don't know Prince Andrew\" but ph...</td>\n",
       "      <td>[]</td>\n",
       "      <td>...</td>\n",
       "      <td>https://www.businessinsider.com/trump-claims-d...</td>\n",
       "      <td>22598319</td>\n",
       "      <td>1.575384e+09</td>\n",
       "      <td>5</td>\n",
       "      <td>NaN</td>\n",
       "      <td>False</td>\n",
       "      <td>NaN</td>\n",
       "      <td>NaN</td>\n",
       "      <td>NaN</td>\n",
       "      <td>NaN</td>\n",
       "    </tr>\n",
       "  </tbody>\n",
       "</table>\n",
       "<p>5 rows × 104 columns</p>\n",
       "</div>"
      ],
      "text/plain": [
       "   approved_at_utc  subreddit  selftext author_fullname  saved  \\\n",
       "0              NaN  worldnews       NaN     t2_4p0y4poi  False   \n",
       "1              NaN  worldnews       NaN         t2_2yqt  False   \n",
       "2              NaN  worldnews       NaN        t2_4g3lx  False   \n",
       "3              NaN  worldnews       NaN     t2_2nmahwux  False   \n",
       "4              NaN  worldnews       NaN     t2_4wcibogo  False   \n",
       "\n",
       "   mod_reason_title  gilded  clicked  \\\n",
       "0               NaN       0    False   \n",
       "1               NaN       0    False   \n",
       "2               NaN       0    False   \n",
       "3               NaN       1    False   \n",
       "4               NaN       2    False   \n",
       "\n",
       "                                               title link_flair_richtext  ...  \\\n",
       "0  Greta Thunberg arrives in Lisbon today for UNc...                  []  ...   \n",
       "1  'So If You're Poor, You're Dead'? Watch These ...                  []  ...   \n",
       "2  France's president just fact-checked Trump in ...                  []  ...   \n",
       "3  US Navy ‘invited’ to go to Taiwan and ‘have fu...                  []  ...   \n",
       "4  Trump says \"I don't know Prince Andrew\" but ph...                  []  ...   \n",
       "\n",
       "                                                 url  subreddit_subscribers  \\\n",
       "0  https://www.cbsnews.com/news/greta-thunberg-ar...               22598319   \n",
       "1  https://www.commondreams.org/news/2019/12/03/s...               22598319   \n",
       "2  https://www.cnn.com/politics/live-news/nato-su...               22598319   \n",
       "3  https://www.scmp.com/news/china/military/artic...               22598319   \n",
       "4  https://www.businessinsider.com/trump-claims-d...               22598319   \n",
       "\n",
       "    created_utc num_crossposts  media  is_video crosspost_parent_list  \\\n",
       "0  1.575409e+09              1    NaN     False                   NaN   \n",
       "1  1.575393e+09              4    NaN     False                   NaN   \n",
       "2  1.575388e+09              1    NaN     False                   NaN   \n",
       "3  1.575393e+09              1    NaN     False                   NaN   \n",
       "4  1.575384e+09              5    NaN     False                   NaN   \n",
       "\n",
       "   link_flair_template_id crosspost_parent  author_cakeday  \n",
       "0                     NaN              NaN             NaN  \n",
       "1                     NaN              NaN             NaN  \n",
       "2                     NaN              NaN             NaN  \n",
       "3                     NaN              NaN             NaN  \n",
       "4                     NaN              NaN             NaN  \n",
       "\n",
       "[5 rows x 104 columns]"
      ]
     },
     "execution_count": 6,
     "metadata": {},
     "output_type": "execute_result"
    }
   ],
   "source": [
    "data.head()"
   ]
  },
  {
   "cell_type": "code",
   "execution_count": 7,
   "metadata": {},
   "outputs": [
    {
     "name": "stdout",
     "output_type": "stream",
     "text": [
      "<class 'pandas.core.frame.DataFrame'>\n",
      "RangeIndex: 795 entries, 0 to 794\n",
      "Columns: 104 entries, approved_at_utc to author_cakeday\n",
      "dtypes: bool(29), float64(29), int64(10), object(36)\n",
      "memory usage: 488.5+ KB\n"
     ]
    }
   ],
   "source": [
    "data.info()"
   ]
  },
  {
   "cell_type": "code",
   "execution_count": 13,
   "metadata": {},
   "outputs": [
    {
     "name": "stdout",
     "output_type": "stream",
     "text": [
      "approved_at_utc 795\n",
      "selftext 795\n",
      "mod_reason_title 795\n",
      "link_flair_css_class 556\n",
      "author_flair_background_color 795\n",
      "author_flair_template_id 795\n",
      "secure_media 795\n",
      "category 795\n",
      "link_flair_text 556\n",
      "approved_by 795\n",
      "thumbnail 795\n",
      "author_flair_css_class 794\n",
      "content_categories 795\n",
      "mod_note 795\n",
      "removed_by_category 795\n",
      "banned_by 795\n",
      "selftext_html 795\n",
      "likes 795\n",
      "suggested_sort 795\n",
      "banned_at_utc 795\n",
      "view_count 795\n",
      "author_flair_text 794\n",
      "removed_by 795\n",
      "num_reports 795\n",
      "distinguished 795\n",
      "mod_reason_by 795\n",
      "removal_reason 795\n",
      "link_flair_background_color 795\n",
      "report_reasons 795\n",
      "discussion_type 795\n",
      "author_flair_text_color 794\n",
      "media 795\n",
      "crosspost_parent_list 774\n",
      "link_flair_template_id 791\n",
      "crosspost_parent 774\n",
      "author_cakeday 794\n"
     ]
    }
   ],
   "source": [
    "for k, v in data.isnull().sum().iteritems():\n",
    "    if v != 0:\n",
    "        print(k, v)"
   ]
  },
  {
   "cell_type": "code",
   "execution_count": null,
   "metadata": {},
   "outputs": [],
   "source": []
  }
 ],
 "metadata": {
  "kernelspec": {
   "display_name": "Python 3",
   "language": "python",
   "name": "python3"
  },
  "language_info": {
   "codemirror_mode": {
    "name": "ipython",
    "version": 3
   },
   "file_extension": ".py",
   "mimetype": "text/x-python",
   "name": "python",
   "nbconvert_exporter": "python",
   "pygments_lexer": "ipython3",
   "version": "3.7.4"
  }
 },
 "nbformat": 4,
 "nbformat_minor": 2
}
