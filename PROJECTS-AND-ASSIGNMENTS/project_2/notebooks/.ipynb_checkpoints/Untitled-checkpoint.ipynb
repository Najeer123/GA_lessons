{
 "cells": [
  {
   "cell_type": "markdown",
   "metadata": {},
   "source": [
    "# Project 2: predicting sales prices with the Aimes Iowa Housing dataset"
   ]
  },
  {
   "cell_type": "markdown",
   "metadata": {},
   "source": [
    "## Problem Statement\n",
    "\n",
    "ABC Real Estate Agents needs a way to predict property sales prices so they may give potential customers a reliable estimate of the value of their property before they decide to engage them to find a buyer.\n",
    "\n",
    "Currently, 50% of customers express dissatisfaction when the price potential buyers the company finds for their property to be much lower than the price estimates of the company's agents, sometimes resulting in wasted time for the company's agents when sellers change their minds about selling their properties. While such disappointments can be avoided by giving lower property price estimates, there is industry pressure to give a high valuation estimate as it gives sellers the impression that the agent is skilled.\n",
    "\n",
    "Using data science to come up with a more reliable property price estimate, we can potentially increase customer satisfaction while quoting prices that are competitive in the industry."
   ]
  },
  {
   "cell_type": "code",
   "execution_count": 1,
   "metadata": {},
   "outputs": [],
   "source": [
    "from python_imports import *"
   ]
  },
  {
   "cell_type": "code",
   "execution_count": 43,
   "metadata": {},
   "outputs": [],
   "source": [
    "# Load data.\n",
    "import_path = r'..\\datasets\\clean_train.csv'\n",
    "# Dataset contains NA strings that should not be considered null values.\n",
    "data = pd.read_csv(import_path, keep_default_na=False, na_values=[''])\n",
    "\n",
    "import_path = r'..\\datasets\\clean_test.csv'\n",
    "# Dataset contains NA strings that should not be considered null values.\n",
    "data2 = pd.read_csv(import_path, keep_default_na=False, na_values=[''])"
   ]
  },
  {
   "cell_type": "code",
   "execution_count": 44,
   "metadata": {},
   "outputs": [],
   "source": [
    "# Separate the target variable from the dataset.\n",
    "df_target = data['saleprice']"
   ]
  },
  {
   "cell_type": "code",
   "execution_count": 45,
   "metadata": {},
   "outputs": [],
   "source": [
    "features = [x for x in data.columns if x != 'saleprice']\n",
    "# Join train and test datasets in preparation for preprocessing.\n",
    "df_features = data[features].append(data2)"
   ]
  },
  {
   "cell_type": "code",
   "execution_count": 46,
   "metadata": {},
   "outputs": [
    {
     "data": {
      "text/plain": [
       "0"
      ]
     },
     "execution_count": 46,
     "metadata": {},
     "output_type": "execute_result"
    }
   ],
   "source": [
    "# Confirm join is successful. Since join='outer', nulls will be present if the DataFrames were not joined correctly.\n",
    "np.sum(df_features.isnull().sum())"
   ]
  },
  {
   "cell_type": "code",
   "execution_count": 47,
   "metadata": {},
   "outputs": [
    {
     "data": {
      "text/plain": [
       "(2901, 77)"
      ]
     },
     "execution_count": 47,
     "metadata": {},
     "output_type": "execute_result"
    }
   ],
   "source": [
    "df_features.shape"
   ]
  },
  {
   "cell_type": "code",
   "execution_count": 48,
   "metadata": {},
   "outputs": [
    {
     "data": {
      "text/plain": [
       "Index(['ms_subclass', 'ms_zoning', 'lot_frontage', 'lot_area', 'street',\n",
       "       'alley', 'lot_shape', 'land_contour', 'utilities', 'lot_config',\n",
       "       'land_slope', 'neighborhood', 'condition_1', 'condition_2', 'bldg_type',\n",
       "       'house_style', 'overall_qual', 'overall_cond', 'year_built',\n",
       "       'year_remod/add', 'roof_style', 'roof_matl', 'exterior_1st',\n",
       "       'exterior_2nd', 'mas_vnr_type', 'mas_vnr_area', 'exter_qual',\n",
       "       'exter_cond', 'foundation', 'bsmt_qual', 'bsmt_cond', 'bsmt_exposure',\n",
       "       'bsmtfin_type_1', 'bsmtfin_sf_1', 'bsmtfin_type_2', 'bsmtfin_sf_2',\n",
       "       'bsmt_unf_sf', 'total_bsmt_sf', 'heating', 'heating_qc', 'central_air',\n",
       "       'electrical', '1st_flr_sf', '2nd_flr_sf', 'low_qual_fin_sf',\n",
       "       'gr_liv_area', 'bsmt_full_bath', 'bsmt_half_bath', 'full_bath',\n",
       "       'half_bath', 'bedroom_abvgr', 'kitchen_abvgr', 'kitchen_qual',\n",
       "       'totrms_abvgrd', 'functional', 'fireplaces', 'fireplace_qu',\n",
       "       'garage_type', 'garage_finish', 'garage_cars', 'garage_area',\n",
       "       'garage_qual', 'garage_cond', 'paved_drive', 'wood_deck_sf',\n",
       "       'open_porch_sf', 'enclosed_porch', '3ssn_porch', 'screen_porch',\n",
       "       'pool_area', 'pool_qc', 'fence', 'misc_feature', 'misc_val', 'mo_sold',\n",
       "       'yr_sold', 'sale_type'],\n",
       "      dtype='object')"
      ]
     },
     "execution_count": 48,
     "metadata": {},
     "output_type": "execute_result"
    }
   ],
   "source": [
    "df_features.columns"
   ]
  },
  {
   "cell_type": "code",
   "execution_count": 49,
   "metadata": {},
   "outputs": [],
   "source": [
    "# Convert ordinal values to numbers.\n",
    "ordinal_vars = ['Lot Shape', 'Utilities', 'Land Slope', 'Exter Qual', 'Exter Cond', 'Bsmt Qual', 'Bsmt Cond', 'Bsmt Exposure', 'BsmtFin Type 1', 'BsmtFin Type 2', 'Heating QC', 'Electrical', 'Kitchen Qual', 'Functional', 'Fireplace Qu', 'Garage Finish', 'Garage Qual', 'Garage Cond', 'Paved Drive', 'Pool QC', 'Fence']\n",
    "ordinal_vars = [x.lower().replace(' ', '_') for x in ordinal_vars]"
   ]
  },
  {
   "cell_type": "code",
   "execution_count": 50,
   "metadata": {},
   "outputs": [],
   "source": [
    "ordinal_values = [\n",
    "    ['IR3', 'IR2', 'IR1', 'Reg'],\n",
    "    ['ELO', 'NoSeWa', 'NoSewr', 'AllPub'],\n",
    "    ['Sev', 'Mod', 'Gtl'],\n",
    "    ['Po', 'Fa', 'TA', 'Gd', 'Ex'],\n",
    "    ['Po', 'Fa', 'TA', 'Gd', 'Ex'],\n",
    "    ['NA', 'Po', 'Fa', 'TA', 'Gd', 'Ex'],\n",
    "    ['NA', 'Po', 'Fa', 'TA', 'Gd', 'Ex'],\n",
    "    ['NA', 'No', 'Mn', 'Av', 'Gd'],\n",
    "    ['NA', 'Unf', 'LwQ', 'Rec', 'BLQ', 'ALQ', 'GLQ'],\n",
    "    ['NA', 'Unf', 'LwQ', 'Rec', 'BLQ', 'ALQ', 'GLQ'],\n",
    "    ['Po', 'Fa', 'TA', 'Gd', 'Ex'],\n",
    "    ['Mix', 'FuseP', 'FuseF', 'FuseA', 'SBrkr'],\n",
    "    ['Po', 'Fa', 'TA', 'Gd', 'Ex'],\n",
    "    ['Sal', 'Sev', 'Maj2', 'Maj1', 'Mod', 'Min2', 'Min1', 'Typ'],\n",
    "    ['NA', 'Po', 'Fa', 'TA', 'Gd', 'Ex'],\n",
    "    ['NA', 'Unf', 'RFn', 'Fin'],\n",
    "    ['NA', 'Po', 'Fa', 'TA', 'Gd', 'Ex'],\n",
    "    ['NA', 'Po', 'Fa', 'TA', 'Gd', 'Ex'],\n",
    "    ['N', 'P', 'Y'],\n",
    "    ['NA', 'Fa', 'TA', 'Gd', 'Ex'],\n",
    "    ['NA', 'MnWw', 'GdWo', 'MnPrv', 'GdPrv']\n",
    "]"
   ]
  },
  {
   "cell_type": "code",
   "execution_count": 51,
   "metadata": {},
   "outputs": [],
   "source": [
    "ordinals = zip(ordinal_vars, ordinal_values)"
   ]
  },
  {
   "cell_type": "code",
   "execution_count": 52,
   "metadata": {},
   "outputs": [
    {
     "data": {
      "text/plain": [
       "{'lot_shape': ['IR3', 'IR2', 'IR1', 'Reg'],\n",
       " 'utilities': ['ELO', 'NoSeWa', 'NoSewr', 'AllPub'],\n",
       " 'land_slope': ['Sev', 'Mod', 'Gtl'],\n",
       " 'exter_qual': ['Po', 'Fa', 'TA', 'Gd', 'Ex'],\n",
       " 'exter_cond': ['Po', 'Fa', 'TA', 'Gd', 'Ex'],\n",
       " 'bsmt_qual': ['NA', 'Po', 'Fa', 'TA', 'Gd', 'Ex'],\n",
       " 'bsmt_cond': ['NA', 'Po', 'Fa', 'TA', 'Gd', 'Ex'],\n",
       " 'bsmt_exposure': ['NA', 'No', 'Mn', 'Av', 'Gd'],\n",
       " 'bsmtfin_type_1': ['NA', 'Unf', 'LwQ', 'Rec', 'BLQ', 'ALQ', 'GLQ'],\n",
       " 'bsmtfin_type_2': ['NA', 'Unf', 'LwQ', 'Rec', 'BLQ', 'ALQ', 'GLQ'],\n",
       " 'heating_qc': ['Po', 'Fa', 'TA', 'Gd', 'Ex'],\n",
       " 'electrical': ['Mix', 'FuseP', 'FuseF', 'FuseA', 'SBrkr'],\n",
       " 'kitchen_qual': ['Po', 'Fa', 'TA', 'Gd', 'Ex'],\n",
       " 'functional': ['Sal', 'Sev', 'Maj2', 'Maj1', 'Mod', 'Min2', 'Min1', 'Typ'],\n",
       " 'fireplace_qu': ['NA', 'Po', 'Fa', 'TA', 'Gd', 'Ex'],\n",
       " 'garage_finish': ['NA', 'Unf', 'RFn', 'Fin'],\n",
       " 'garage_qual': ['NA', 'Po', 'Fa', 'TA', 'Gd', 'Ex'],\n",
       " 'garage_cond': ['NA', 'Po', 'Fa', 'TA', 'Gd', 'Ex'],\n",
       " 'paved_drive': ['N', 'P', 'Y'],\n",
       " 'pool_qc': ['NA', 'Fa', 'TA', 'Gd', 'Ex'],\n",
       " 'fence': ['NA', 'MnWw', 'GdWo', 'MnPrv', 'GdPrv']}"
      ]
     },
     "execution_count": 52,
     "metadata": {},
     "output_type": "execute_result"
    }
   ],
   "source": [
    "ordinal_map = {k: v for k, v in ordinals}\n",
    "ordinal_map"
   ]
  },
  {
   "cell_type": "code",
   "execution_count": 53,
   "metadata": {},
   "outputs": [],
   "source": [
    "df_ord = ordinal_scale(df_features, ordinal_map)"
   ]
  },
  {
   "cell_type": "code",
   "execution_count": 54,
   "metadata": {},
   "outputs": [],
   "source": [
    "nominal = ['MS SubClass', 'MS Zoning', 'Street', 'alley', 'Land Contour', 'Lot Config', 'Neighborhood', 'Condition 1', 'Condition 2', 'Bldg Type', 'House Style', 'Roof Style', 'Roof Matl', 'Exterior 1', 'Exterior 2', 'Mas Vnr Type', 'Foundation', 'Heating', 'Central Air', 'Garage Type', 'Misc Feature', 'Sale Type', 'Sale Condition']\n",
    "nominal = [x.lower().replace(' ', '_') for x in nominal]"
   ]
  },
  {
   "cell_type": "code",
   "execution_count": 55,
   "metadata": {},
   "outputs": [],
   "source": [
    "non_norminal = [x for x in df_features if x not in nominal]\n",
    "df_non_nominal = df_features[non_norminal]"
   ]
  },
  {
   "cell_type": "code",
   "execution_count": 56,
   "metadata": {},
   "outputs": [
    {
     "data": {
      "text/plain": [
       "(2901, 57)"
      ]
     },
     "execution_count": 56,
     "metadata": {},
     "output_type": "execute_result"
    }
   ],
   "source": [
    "df_non_nominal.shape"
   ]
  },
  {
   "cell_type": "code",
   "execution_count": 59,
   "metadata": {
    "scrolled": true
   },
   "outputs": [
    {
     "name": "stdout",
     "output_type": "stream",
     "text": [
      "returning list of dropped features.\n"
     ]
    }
   ],
   "source": [
    "# Eliminate features with a Variance Inflation Factor of more than 5.0, as these are highly correlated with each other.\n",
    "dropped_features = vif_feature_select(df_non_nominal, drop_list=True)"
   ]
  },
  {
   "cell_type": "code",
   "execution_count": 60,
   "metadata": {},
   "outputs": [
    {
     "data": {
      "text/plain": [
       "91"
      ]
     },
     "execution_count": 60,
     "metadata": {},
     "output_type": "execute_result"
    }
   ],
   "source": [
    "len(dropped_features)"
   ]
  },
  {
   "cell_type": "code",
   "execution_count": 18,
   "metadata": {
    "scrolled": true
   },
   "outputs": [
    {
     "ename": "NameError",
     "evalue": "name 'df_vif' is not defined",
     "output_type": "error",
     "traceback": [
      "\u001b[1;31m---------------------------------------------------------------------------\u001b[0m",
      "\u001b[1;31mNameError\u001b[0m                                 Traceback (most recent call last)",
      "\u001b[1;32m<ipython-input-18-354b51dca856>\u001b[0m in \u001b[0;36m<module>\u001b[1;34m\u001b[0m\n\u001b[1;32m----> 1\u001b[1;33m \u001b[0mdf_vif\u001b[0m\u001b[1;33m.\u001b[0m\u001b[0mcolumns\u001b[0m\u001b[1;33m\u001b[0m\u001b[1;33m\u001b[0m\u001b[0m\n\u001b[0m",
      "\u001b[1;31mNameError\u001b[0m: name 'df_vif' is not defined"
     ]
    }
   ],
   "source": [
    "df_vif.columns"
   ]
  },
  {
   "cell_type": "code",
   "execution_count": null,
   "metadata": {},
   "outputs": [],
   "source": [
    "df_features.shape"
   ]
  },
  {
   "cell_type": "code",
   "execution_count": null,
   "metadata": {},
   "outputs": [],
   "source": [
    "df_features.columns"
   ]
  },
  {
   "cell_type": "code",
   "execution_count": null,
   "metadata": {},
   "outputs": [],
   "source": [
    "df_dum = pd.get_dummies(data=df_features, columns=nominal, drop_first=True)"
   ]
  },
  {
   "cell_type": "code",
   "execution_count": null,
   "metadata": {},
   "outputs": [],
   "source": [
    "df_dum.shape"
   ]
  },
  {
   "cell_type": "code",
   "execution_count": null,
   "metadata": {},
   "outputs": [],
   "source": [
    "# Eliminate features with a Variance Inflation Factor of more than 5.0, as these are highly correlated with each other.\n",
    "df_dum = vif_feature_select(df_dum)"
   ]
  },
  {
   "cell_type": "code",
   "execution_count": null,
   "metadata": {},
   "outputs": [],
   "source": [
    "df_dum.columns"
   ]
  },
  {
   "cell_type": "code",
   "execution_count": null,
   "metadata": {
    "scrolled": false
   },
   "outputs": [],
   "source": [
    "# The distribution plot gives us a rough idea\n",
    "# subplot_dist(df_ord)"
   ]
  },
  {
   "cell_type": "code",
   "execution_count": null,
   "metadata": {},
   "outputs": [],
   "source": []
  }
 ],
 "metadata": {
  "kernelspec": {
   "display_name": "Python 3",
   "language": "python",
   "name": "python3"
  },
  "language_info": {
   "codemirror_mode": {
    "name": "ipython",
    "version": 3
   },
   "file_extension": ".py",
   "mimetype": "text/x-python",
   "name": "python",
   "nbconvert_exporter": "python",
   "pygments_lexer": "ipython3",
   "version": "3.7.3"
  }
 },
 "nbformat": 4,
 "nbformat_minor": 2
}
