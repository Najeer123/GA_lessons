{
 "cells": [
  {
   "cell_type": "markdown",
   "metadata": {},
   "source": [
    "<img src=\"http://imgur.com/1ZcRyrc.png\" style=\"float: left; margin: 15px; height: 80px\">\n",
    "\n",
    "# Lab 1.01: Data Structures and Python with Pokemon\n",
    "\n",
    "### Building \"Pokemon Stay\"\n",
    "\n",
    "---\n",
    "You are an analyst at a \"scrappy\" online gaming company that specializes in remakes of last year's fads.\n",
    "\n",
    "Your boss, who runs the product development team, is convinced that Pokemon Go's fatal flaw was that you had to actually move around outside. She has design mock-ups for a new game called Pokemon Stay: in this version players still need to move, but just from website to website. Pokemon gyms are now popular online destinations, and catching Pokemon in the \"wild\" simply requires browsing the internet for hours in the comfort of your home.\n",
    "\n",
    "She wants you to program a prototype version of the game."
   ]
  },
  {
   "cell_type": "markdown",
   "metadata": {},
   "source": [
    "## Before we start\n",
    "\n",
    "---\n",
    "We're going to take a quick minute to explore nesting behavior of dictionaries and lists. Consider the following data:"
   ]
  },
  {
   "cell_type": "code",
   "execution_count": 1,
   "metadata": {},
   "outputs": [],
   "source": [
    "dsi_lecture_times = {\n",
    "    'WC': {\n",
    "        'LA': {\n",
    "            'M': [9, 2],\n",
    "            'T': [9, 2],\n",
    "            'W': [9, 2],\n",
    "            'Th': [9],\n",
    "            'F': [9]},\n",
    "        'SEA': {\n",
    "            'M': [9, 2],\n",
    "            'T': [9, 2],\n",
    "            'W': [9, 2],\n",
    "            'Th': [9],\n",
    "            'F': [9]},\n",
    "        'DEN': {\n",
    "            'M': [10, 3],\n",
    "            'T': [10, 3],\n",
    "            'W': [10, 3],\n",
    "            'Th': [10],\n",
    "            'F': [10]},\n",
    "        'SF': {\n",
    "            'M': [9, 2],\n",
    "            'T': [9, 2],\n",
    "            'W': [9, 2],\n",
    "            'Th': [9],\n",
    "            'F': [9]}},\n",
    "    'EC': {\n",
    "        'BOS': {\n",
    "            'M': [10, 3],\n",
    "            'T': [10, 3],\n",
    "            'W': [10, 3],\n",
    "            'Th': [10],\n",
    "            'F': [10]},\n",
    "        'NYC': {\n",
    "            'M': [10, 3],\n",
    "            'T': [10, 3],\n",
    "            'W': [10, 3],\n",
    "            'Th': [10],\n",
    "            'F': [10]},\n",
    "        'DC': {\n",
    "            'M': [10, 3],\n",
    "            'T': [10, 3],\n",
    "            'W': [10, 3],\n",
    "            'Th': [10],\n",
    "            'F': [10]},\n",
    "        'ATX': {\n",
    "            'M': [9, 2],\n",
    "            'T': [9, 2],\n",
    "            'W': [9, 2],\n",
    "            'Th': [9],\n",
    "            'F': [9]},\n",
    "        'CHI': {\n",
    "            'M': [9, 2],\n",
    "            'T': [9, 2],\n",
    "            'W': [9, 2],\n",
    "            'Th': [9],\n",
    "            'F': [9]},\n",
    "        'ATL': {\n",
    "            'M': [10, 3],\n",
    "            'T': [10, 3],\n",
    "            'W': [10, 3],\n",
    "            'Th': [10],\n",
    "            'F': [10]}}\n",
    "    }"
   ]
  },
  {
   "cell_type": "markdown",
   "metadata": {},
   "source": [
    "This dictionary contains the start times for the global lectures for each of the 10 DSI-CC campuses. The top level indicates the coast. The next level contains the 2 or 3 letter city codes corresponding to the campuses. The next level contains the 5 days of the week; each day of the week contains a list of 1 or 2 integers corresponding to the start time(s) of the day's lectures.\n",
    "\n",
    "Let's set our objective as accessing the **start time of the second Wednesday lecture in Chicago**.\n",
    "\n",
    "Let's look at how the whole dict is rendered as an output in a Jupyter."
   ]
  },
  {
   "cell_type": "code",
   "execution_count": 2,
   "metadata": {},
   "outputs": [
    {
     "data": {
      "text/plain": [
       "2"
      ]
     },
     "execution_count": 2,
     "metadata": {},
     "output_type": "execute_result"
    }
   ],
   "source": [
    "dsi_lecture_times['EC']['CHI']['W'][1]"
   ]
  },
  {
   "cell_type": "markdown",
   "metadata": {},
   "source": [
    "We can see that curly braces (i.e., `{}`) and individual spaces are used to separate layers. Because this can be hard to see, oftentimes we'll use the `keys` method on a dictionary to see what the current level of a dictionary contains. If we approach a dict one level at a time, it's easy to drill down to our objective."
   ]
  },
  {
   "cell_type": "code",
   "execution_count": 3,
   "metadata": {},
   "outputs": [
    {
     "data": {
      "text/plain": [
       "dict_keys(['WC', 'EC'])"
      ]
     },
     "execution_count": 3,
     "metadata": {},
     "output_type": "execute_result"
    }
   ],
   "source": [
    "dsi_lecture_times.keys()"
   ]
  },
  {
   "cell_type": "markdown",
   "metadata": {},
   "source": [
    "Once you identify the key you want to access, use square brackets (i.e., `[]`) to access the value associated with that key."
   ]
  },
  {
   "cell_type": "code",
   "execution_count": 4,
   "metadata": {},
   "outputs": [
    {
     "data": {
      "text/plain": [
       "{'BOS': {'M': [10, 3], 'T': [10, 3], 'W': [10, 3], 'Th': [10], 'F': [10]},\n",
       " 'NYC': {'M': [10, 3], 'T': [10, 3], 'W': [10, 3], 'Th': [10], 'F': [10]},\n",
       " 'DC': {'M': [10, 3], 'T': [10, 3], 'W': [10, 3], 'Th': [10], 'F': [10]},\n",
       " 'ATX': {'M': [9, 2], 'T': [9, 2], 'W': [9, 2], 'Th': [9], 'F': [9]},\n",
       " 'CHI': {'M': [9, 2], 'T': [9, 2], 'W': [9, 2], 'Th': [9], 'F': [9]},\n",
       " 'ATL': {'M': [10, 3], 'T': [10, 3], 'W': [10, 3], 'Th': [10], 'F': [10]}}"
      ]
     },
     "execution_count": 4,
     "metadata": {},
     "output_type": "execute_result"
    }
   ],
   "source": [
    "dsi_lecture_times['EC']"
   ]
  },
  {
   "cell_type": "markdown",
   "metadata": {},
   "source": [
    "It appears that we're still working with a dict. Let's check the type."
   ]
  },
  {
   "cell_type": "code",
   "execution_count": 5,
   "metadata": {},
   "outputs": [
    {
     "data": {
      "text/plain": [
       "dict"
      ]
     },
     "execution_count": 5,
     "metadata": {},
     "output_type": "execute_result"
    }
   ],
   "source": [
    "type(dsi_lecture_times['EC'])"
   ]
  },
  {
   "cell_type": "markdown",
   "metadata": {},
   "source": [
    "It is, in fact, a dictionary. This means that we can use dictionary methods on it. Let's look at the keys."
   ]
  },
  {
   "cell_type": "code",
   "execution_count": 6,
   "metadata": {},
   "outputs": [
    {
     "data": {
      "text/plain": [
       "dict_keys(['BOS', 'NYC', 'DC', 'ATX', 'CHI', 'ATL'])"
      ]
     },
     "execution_count": 6,
     "metadata": {},
     "output_type": "execute_result"
    }
   ],
   "source": [
    "dsi_lecture_times['EC'].keys()"
   ]
  },
  {
   "cell_type": "markdown",
   "metadata": {},
   "source": [
    "We can continue to add `[]` with our desired key because **`dsi_lecture_times['EC']`** points directly to a dict and operates in the same way a variable name pointing to a dict would."
   ]
  },
  {
   "cell_type": "code",
   "execution_count": 7,
   "metadata": {},
   "outputs": [
    {
     "data": {
      "text/plain": [
       "{'M': [9, 2], 'T': [9, 2], 'W': [9, 2], 'Th': [9], 'F': [9]}"
      ]
     },
     "execution_count": 7,
     "metadata": {},
     "output_type": "execute_result"
    }
   ],
   "source": [
    "dsi_lecture_times['EC']['CHI']"
   ]
  },
  {
   "cell_type": "markdown",
   "metadata": {},
   "source": [
    "At this point, you can probably guess how we can access the times for Wednesday. Just add the `['W']` key."
   ]
  },
  {
   "cell_type": "code",
   "execution_count": 8,
   "metadata": {},
   "outputs": [
    {
     "data": {
      "text/plain": [
       "[9, 2]"
      ]
     },
     "execution_count": 8,
     "metadata": {},
     "output_type": "execute_result"
    }
   ],
   "source": [
    "dsi_lecture_times['EC']['CHI']['W']"
   ]
  },
  {
   "cell_type": "markdown",
   "metadata": {},
   "source": [
    "Let's check the type of this final level."
   ]
  },
  {
   "cell_type": "code",
   "execution_count": 9,
   "metadata": {},
   "outputs": [
    {
     "data": {
      "text/plain": [
       "list"
      ]
     },
     "execution_count": 9,
     "metadata": {},
     "output_type": "execute_result"
    }
   ],
   "source": [
    "type(dsi_lecture_times['EC']['CHI']['W'])"
   ]
  },
  {
   "cell_type": "markdown",
   "metadata": {},
   "source": [
    "Because it is a `list` and lists are 0-indexed, to capture the time of the 2nd lecture, we'll use `[1]`. So, to directly access the time of the afternoon lecture in Chicago on Wedensdays, we'll use the following:"
   ]
  },
  {
   "cell_type": "code",
   "execution_count": 10,
   "metadata": {},
   "outputs": [
    {
     "data": {
      "text/plain": [
       "2"
      ]
     },
     "execution_count": 10,
     "metadata": {},
     "output_type": "execute_result"
    }
   ],
   "source": [
    "dsi_lecture_times['EC']['CHI']['W'][1]"
   ]
  },
  {
   "cell_type": "markdown",
   "metadata": {},
   "source": [
    "**Don't get overwhelmed trying to go directly to your target.** Drill down through your data one level at a time, and you're less likely to get lost.\n",
    "___\n",
    "\n",
    "Now, let's [dig(lett)](https://pokemondb.net/pokedex/diglett) into some Pokemon data.\n",
    "\n",
    "![diglett](images/diglett.jpg)\n",
    "\n",
    "Remember, nested dicts aren't aren't [magik(arp)](https://pokemondb.net/pokedex/magikarp).\n",
    "\n",
    "![magikarp](images/magikarp.jpg)"
   ]
  },
  {
   "cell_type": "markdown",
   "metadata": {},
   "source": [
    "## 1. Defining a player\n",
    "\n",
    "---\n",
    "Each player needs to have a set of charactaristics, stored in variables, such as an id, a username, play data, etc. A great structure to house these variables is a `dictionary`, because the `values` can contain any python datatype includeing `list`, `dict`, `tuple`, `int`, `float`, `bool`, or `str`. \n",
    "\n",
    "The player characteristics (keys to the player dict) are:\n",
    "\n",
    "    player_id : id code unique to each player (integer)\n",
    "    player_name : entered name of the player (string)\n",
    "    time_played : number of time played the game in minutes (float)\n",
    "    player_pokemon: the player's captured pokemon (dictionary)\n",
    "    gyms_visited: ids of the gyms that a player has visited (list)"
   ]
  },
  {
   "cell_type": "markdown",
   "metadata": {},
   "source": [
    "### A) Create a `dict` for a single player.\n",
    "\n",
    "* The `player_id` should be 1\n",
    "* Since the player doesn't have a name yet, you may set the `player_name` equal to `None`\n",
    "* The rest of the fields should be populated properly depending on the datatype, i.e., `0.0` or an empty iterable of the appropriate type."
   ]
  },
  {
   "cell_type": "code",
   "execution_count": 11,
   "metadata": {},
   "outputs": [],
   "source": [
    "player_1 = {'player_id': 1, 'player_name': None, 'time_played': 0.0, 'player_pokemon': {}, 'gyms_visited': []}"
   ]
  },
  {
   "cell_type": "markdown",
   "metadata": {},
   "source": [
    "### B) Create a `dict` to house your dataset of players.\n",
    "\n",
    "* Because only `player_1` exists, there should only be one `key:value` pair. \n",
    "* The `keys` of this `dict` should be the `player_id`, and the `values` should be the dictionaries with single-player info, including the `player_id` (slightly redundant)."
   ]
  },
  {
   "cell_type": "code",
   "execution_count": 12,
   "metadata": {},
   "outputs": [],
   "source": [
    "poke_players = {1: player_1}"
   ]
  },
  {
   "cell_type": "markdown",
   "metadata": {},
   "source": [
    "To see the contents of a variable, just run a code cell with the variable name in it."
   ]
  },
  {
   "cell_type": "code",
   "execution_count": 13,
   "metadata": {},
   "outputs": [
    {
     "data": {
      "text/plain": [
       "{'player_id': 1,\n",
       " 'player_name': None,\n",
       " 'time_played': 0.0,\n",
       " 'player_pokemon': {},\n",
       " 'gyms_visited': []}"
      ]
     },
     "execution_count": 13,
     "metadata": {},
     "output_type": "execute_result"
    }
   ],
   "source": [
    "poke_players[1]"
   ]
  },
  {
   "cell_type": "markdown",
   "metadata": {},
   "source": [
    "### C) Update player 1's info with your own.\n",
    "\n",
    "* By indexing your `poke_players` dictionary, update the `player_name` field to your own name.\n",
    "* Display the contents of `poke_players` to check your work."
   ]
  },
  {
   "cell_type": "code",
   "execution_count": 14,
   "metadata": {},
   "outputs": [],
   "source": [
    "poke_players[1]['player_name'] = 'Clarence'"
   ]
  },
  {
   "cell_type": "code",
   "execution_count": 15,
   "metadata": {},
   "outputs": [
    {
     "data": {
      "text/plain": [
       "{1: {'player_id': 1,\n",
       "  'player_name': 'Clarence',\n",
       "  'time_played': 0.0,\n",
       "  'player_pokemon': {},\n",
       "  'gyms_visited': []}}"
      ]
     },
     "execution_count": 15,
     "metadata": {},
     "output_type": "execute_result"
    }
   ],
   "source": [
    "poke_players"
   ]
  },
  {
   "cell_type": "markdown",
   "metadata": {},
   "source": [
    "### D) Define a function that adds a player to `poke_players`.\n",
    "\n",
    "Your functions should...\n",
    "\n",
    "* Take arguments for `players_dict`, `player_id`, and `player_name`.\n",
    "* Create a player with the above values and populate the `gyms_visited`, `player_pokemon`, and `time_played` in the same way you did for `player_1` above.\n",
    "* Prints the name of the player added.\n",
    "* `return` the updated dictionary."
   ]
  },
  {
   "cell_type": "code",
   "execution_count": 16,
   "metadata": {},
   "outputs": [],
   "source": [
    "def add_player(players_dict, player_id, player_name):\n",
    "    player = {\n",
    "            'player_id': player_id, \n",
    "            'player_name': player_name, \n",
    "            'time_played': 0.0, \n",
    "            'player_pokemon': {}, \n",
    "            'gyms_visited': []\n",
    "        }\n",
    "    if player_id not in players_dict.keys():\n",
    "        players_dict[player_id] = player\n",
    "        print(f'{player_name} added!')\n",
    "    else:\n",
    "        print(f'{player_name} already added.')\n",
    "    \n",
    "    return players_dict"
   ]
  },
  {
   "cell_type": "markdown",
   "metadata": {},
   "source": [
    "### E) Add a new player\n",
    "\n",
    "* Add a second player to the `poke_players` dictionary using the `add_player` function. The id should be 2, but the name is up to you!\n",
    "* Reassign and overwrite the `poke_players` dictionary.\n",
    "* Display the contents of `poke_players` to check your work."
   ]
  },
  {
   "cell_type": "code",
   "execution_count": 17,
   "metadata": {},
   "outputs": [
    {
     "name": "stdout",
     "output_type": "stream",
     "text": [
      "Misty added!\n"
     ]
    }
   ],
   "source": [
    "poke_players = add_player(poke_players, 2, 'Misty')"
   ]
  },
  {
   "cell_type": "code",
   "execution_count": 18,
   "metadata": {},
   "outputs": [
    {
     "data": {
      "text/plain": [
       "{1: {'player_id': 1,\n",
       "  'player_name': 'Clarence',\n",
       "  'time_played': 0.0,\n",
       "  'player_pokemon': {},\n",
       "  'gyms_visited': []},\n",
       " 2: {'player_id': 2,\n",
       "  'player_name': 'Misty',\n",
       "  'time_played': 0.0,\n",
       "  'player_pokemon': {},\n",
       "  'gyms_visited': []}}"
      ]
     },
     "execution_count": 18,
     "metadata": {},
     "output_type": "execute_result"
    }
   ],
   "source": [
    "poke_players"
   ]
  },
  {
   "cell_type": "markdown",
   "metadata": {},
   "source": [
    "## 2. Defining \"gym\" locations\n",
    "\n",
    "---\n",
    "\n",
    "As the sole programmer, Pokemon Stay will have to start small. To begin, there will be 10 different gym location websites on the internet. The gym locations are:\n",
    "\n",
    "    1. 'reddit.com'\n",
    "    2. 'amazon.com'\n",
    "    3. 'twitter.com'\n",
    "    4. 'linkedin.com'\n",
    "    5. 'ebay.com'\n",
    "    6. 'netflix.com'\n",
    "    7. 'stackoverflow.com'\n",
    "    8. 'github.com'\n",
    "    9. 'quora.com'\n",
    "    10. 'google.com'\n",
    "\n",
    "* Set up a list of all the gym locations. This will be a list of strings. Print the list to check your work.\n",
    "* For each player in `poke_players`, use `sample` (imported from `random` below) to randomly select 2 gyms and add these gyms to the `gyms_visited` field.\n",
    "* Display the contents of `poke_players` to check your work."
   ]
  },
  {
   "cell_type": "code",
   "execution_count": 19,
   "metadata": {},
   "outputs": [],
   "source": [
    "from random import sample\n",
    "\n",
    "gym_locations = ['reddit.com', 'amazon.com', 'twitter.com', 'linkedin.com',\n",
    "                 'ebay.com', 'netflix.com', 'stackoverflow.com', 'github.com',\n",
    "                 'quora.com', 'google.com']\n",
    "\n",
    "for k, v in poke_players.items():\n",
    "    v['gyms_visited'].extend(sample(gym_locations, 2))"
   ]
  },
  {
   "cell_type": "code",
   "execution_count": 20,
   "metadata": {},
   "outputs": [
    {
     "data": {
      "text/plain": [
       "{1: {'player_id': 1,\n",
       "  'player_name': 'Clarence',\n",
       "  'time_played': 0.0,\n",
       "  'player_pokemon': {},\n",
       "  'gyms_visited': ['linkedin.com', 'google.com']},\n",
       " 2: {'player_id': 2,\n",
       "  'player_name': 'Misty',\n",
       "  'time_played': 0.0,\n",
       "  'player_pokemon': {},\n",
       "  'gyms_visited': ['ebay.com', 'amazon.com']}}"
      ]
     },
     "execution_count": 20,
     "metadata": {},
     "output_type": "execute_result"
    }
   ],
   "source": [
    "poke_players"
   ]
  },
  {
   "cell_type": "code",
   "execution_count": 21,
   "metadata": {},
   "outputs": [
    {
     "data": {
      "text/plain": [
       "[0.8, 'apple', 1]"
      ]
     },
     "execution_count": 21,
     "metadata": {},
     "output_type": "execute_result"
    }
   ],
   "source": [
    "# Run this cell a few times to understand sample. Play around with the function!\n",
    "this_list = ['apple', 1, ('a','b','c'), 0.8]\n",
    "sample(this_list, 3)"
   ]
  },
  {
   "cell_type": "markdown",
   "metadata": {},
   "source": [
    "## 3. Create a pokedex\n",
    "\n",
    "---\n",
    "\n",
    "We also need to create some pokemon to catch! Let's store the attributes of each pokemon in a `dictionary`, since each pokemon has many characteristics we'd like to store.\n",
    "\n",
    "\n",
    "Each pokemon will be defined by these characteristics (keys to the pokemon dict):\n",
    "\n",
    "    poke_id : unique identifier for each pokemon (integer, sequential)\n",
    "    poke_name : the name of the pokemon (string)\n",
    "    poke_type : the category of pokemon (string)\n",
    "    hp : base hitpoints (integer between 400 and 500)\n",
    "    attack : base attack (integer between 50 and 100)\n",
    "    defense : base defense (integer between 50 and 100)\n",
    "    special_attack : base special attack (integer between 100 and 150)\n",
    "    special_defense : base sepecial defense (integer between 100 and 150)\n",
    "    speed : base speed (integer between 0 and 100)\n",
    "    \n",
    "**Note**: All integer ranges are inclusive on both ends."
   ]
  },
  {
   "cell_type": "markdown",
   "metadata": {},
   "source": [
    "### A) Create a function called `create_pokemon`\n",
    "\n",
    "* The function should take arguments for `poke_id`, `poke_name`, and `poke_type`.\n",
    "* Assign these arguments along with random stats into a `dict` using the guidelines above.\n",
    "* Use `np.random.randint` to generate values for the numeric attributes based on the conditions above. If you're not clear on how this function works, there is a cell below with an example. Play around with it!\n",
    "* The function should return a `dict` for the pokemon.\n",
    "* Without assigning it to a variable, check the function's output by calling it with the following arguments:\n",
    "  * `poke_id = 1`\n",
    "  * `poke_name = 'charmander'`\n",
    "  * `poke_type = 'fire'`"
   ]
  },
  {
   "cell_type": "code",
   "execution_count": 22,
   "metadata": {},
   "outputs": [],
   "source": [
    "import numpy as np\n",
    "\n",
    "def create_pokemon(poke_id, poke_name, poke_type):\n",
    "    pokemon = {\n",
    "        'poke_id': poke_id,\n",
    "        'poke_name': poke_name,\n",
    "        'poke_type': poke_type,\n",
    "        'hp': np.random.randint(400, 501),\n",
    "        'attack': np.random.randint(50, 101),\n",
    "        'defense': np.random.randint(50, 101),\n",
    "        'special_attack': np.random.randint(100, 151),\n",
    "        'special_defense': np.random.randint(100, 151),\n",
    "        'speed': np.random.randint(0, 101)\n",
    "    }\n",
    "    return pokemon"
   ]
  },
  {
   "cell_type": "code",
   "execution_count": 23,
   "metadata": {},
   "outputs": [
    {
     "data": {
      "text/plain": [
       "{'poke_id': 1,\n",
       " 'poke_name': 'charmander',\n",
       " 'poke_type': 'fire',\n",
       " 'hp': 433,\n",
       " 'attack': 60,\n",
       " 'defense': 59,\n",
       " 'special_attack': 148,\n",
       " 'special_defense': 141,\n",
       " 'speed': 85}"
      ]
     },
     "execution_count": 23,
     "metadata": {},
     "output_type": "execute_result"
    }
   ],
   "source": [
    "create_pokemon(1, 'charmander', 'fire')"
   ]
  },
  {
   "cell_type": "code",
   "execution_count": 24,
   "metadata": {},
   "outputs": [
    {
     "data": {
      "text/plain": [
       "0"
      ]
     },
     "execution_count": 24,
     "metadata": {},
     "output_type": "execute_result"
    }
   ],
   "source": [
    "# Play around with this cell to understand np.random.randint!\n",
    "import numpy as np\n",
    "np.random.randint(0,1)"
   ]
  },
  {
   "cell_type": "markdown",
   "metadata": {},
   "source": [
    "### B) Populate the `pokedex`!\n",
    "\n",
    "Now we need some pokemon to catch. Let's create a dictionary to store the information!\n",
    "\n",
    "* Instantiate an empyt dictionary called `pokedex`.\n",
    "* Define a function called `create_and_add_to_pokedex`. This function should...\n",
    "  * Take arguments for `pokedex`,  `poke_id`, `poke_name`, and `poke_type`.\n",
    "  * Use the `create_pokemon` function you created earlier to create a pokemon using the provided `poke_id`, `poke_name`, and `poke_type`.\n",
    "  * Add a new `key:value` pair to the `pokedex` dictionary where:\n",
    "    * the `key` is the `poke_id`, and\n",
    "    * the `value` is the newly-created pokemon dict, including the `poke_id` (this is slightly redundant, but that's ok!)\n",
    "  * Prints the name of the pokemon added to the pokedex using the string `format` method or `f` strings.\n",
    "* Add the following 3 pokemon to your `pokedex` using `create_and_add_to_pokedex`:\n",
    "\n",
    "|Id|Name|Type|\n",
    "|---|---|---|\n",
    "|1|charmander|fire|\n",
    "|2|squirtle|water|\n",
    "|3|bulasaur|poison|\n",
    "\n",
    "Display your `pokedex` to check your work. It should look something like...\n",
    "\n",
    "```python\n",
    "{1: {'attack': 64,\n",
    "  'defense': 59,\n",
    "  'hp': 495,\n",
    "  'poke_id': 1,\n",
    "  'poke_name': 'charmander',\n",
    "  'poke_type': 'fire',\n",
    "  'special_attack': 100,\n",
    "  ...\n",
    "```"
   ]
  },
  {
   "cell_type": "code",
   "execution_count": 25,
   "metadata": {},
   "outputs": [],
   "source": [
    "pokedex = {}"
   ]
  },
  {
   "cell_type": "code",
   "execution_count": 26,
   "metadata": {},
   "outputs": [],
   "source": [
    "def create_and_add_to_pokedex(pokedex, poke_id, poke_name, poke_type):\n",
    "    pokedex[poke_id] = create_pokemon(poke_id, poke_name, poke_type)\n",
    "    print(f'{poke_name} added!')"
   ]
  },
  {
   "cell_type": "code",
   "execution_count": 27,
   "metadata": {},
   "outputs": [
    {
     "name": "stdout",
     "output_type": "stream",
     "text": [
      "charmander added!\n",
      "squirtle added!\n",
      "bulbasaur added!\n"
     ]
    }
   ],
   "source": [
    "additions = [\n",
    "    [1, 'charmander', 'fire'],\n",
    "    [2, 'squirtle', 'water'],\n",
    "    [3, 'bulbasaur', 'poison']\n",
    "]\n",
    "\n",
    "for x, y, z in additions:\n",
    "    if x not in pokedex.keys():\n",
    "        create_and_add_to_pokedex(pokedex, x, y, z)"
   ]
  },
  {
   "cell_type": "code",
   "execution_count": 28,
   "metadata": {},
   "outputs": [
    {
     "data": {
      "text/plain": [
       "{1: {'poke_id': 1,\n",
       "  'poke_name': 'charmander',\n",
       "  'poke_type': 'fire',\n",
       "  'hp': 414,\n",
       "  'attack': 68,\n",
       "  'defense': 62,\n",
       "  'special_attack': 142,\n",
       "  'special_defense': 140,\n",
       "  'speed': 38},\n",
       " 2: {'poke_id': 2,\n",
       "  'poke_name': 'squirtle',\n",
       "  'poke_type': 'water',\n",
       "  'hp': 446,\n",
       "  'attack': 56,\n",
       "  'defense': 86,\n",
       "  'special_attack': 112,\n",
       "  'special_defense': 129,\n",
       "  'speed': 47},\n",
       " 3: {'poke_id': 3,\n",
       "  'poke_name': 'bulbasaur',\n",
       "  'poke_type': 'poison',\n",
       "  'hp': 485,\n",
       "  'attack': 87,\n",
       "  'defense': 50,\n",
       "  'special_attack': 125,\n",
       "  'special_defense': 149,\n",
       "  'speed': 61}}"
      ]
     },
     "execution_count": 28,
     "metadata": {},
     "output_type": "execute_result"
    }
   ],
   "source": [
    "pokedex"
   ]
  },
  {
   "cell_type": "markdown",
   "metadata": {},
   "source": [
    "## 4. Let's capture some pokemon!\n",
    "\n",
    "---\n",
    "\n",
    "Each player in `poke_players` should have a nested dictionary with the key `'player_pokemon'`. This is intended to be the place where we keep track of which of the pokemon each player has.\n",
    "\n",
    "The keys of the `'player_pokemon'` dictionaries are the `poke_id`s that correspond to the ids in the `pokedex` dictionary you created earlier, and the values are the individual pokemon dicts. \n",
    "\n",
    "Essentially, we are replicating the structure of our `pokedex` for each user, only showing the Pokemon a particular user has captured nested within their individual player dictionary.\n",
    "\n",
    "* Define a function called `add_pokemon_to_player` that...\n",
    "  * Takes arguents for `player_id`, `poke_id`, `poke_players`, and `pokedex`.\n",
    "  * Adds the desired pokemon to the `player_pokemon` field of the specified player\n",
    "  * Prints which pokemon was added to which player.\n",
    "  * Returns the modified `poke_players`."
   ]
  },
  {
   "cell_type": "code",
   "execution_count": 29,
   "metadata": {},
   "outputs": [],
   "source": [
    "def add_pokemon_to_player(player_id, poke_id, poke_players, pokedex):\n",
    "    if poke_id not in poke_players[player_id]['player_pokemon'].keys():\n",
    "        poke_players[player_id]['player_pokemon'][poke_id] = pokedex[poke_id]\n",
    "        return poke_players\n",
    "    else:\n",
    "        print(f'{poke_players[player_id][player_name]} already has a {pokedex[poke_id][poke_name]}.')\n",
    "        return poke_players"
   ]
  },
  {
   "cell_type": "markdown",
   "metadata": {},
   "source": [
    "* Call your function three times to add \n",
    "  * `squirtle` to player 1\n",
    "  * `charmander` to player 2\n",
    "  * `bulbasaur` to player 2\n",
    "* Overwrite your `poke_player` variable each time with the updated dictionary.\n",
    "* Display the contents of `poke_players` to check your work."
   ]
  },
  {
   "cell_type": "code",
   "execution_count": 30,
   "metadata": {},
   "outputs": [],
   "source": [
    "poke_players = add_pokemon_to_player(1, 2, poke_players, pokedex)\n",
    "poke_players = add_pokemon_to_player(2, 1, poke_players, pokedex)\n",
    "poke_players = add_pokemon_to_player(2, 3, poke_players, pokedex)"
   ]
  },
  {
   "cell_type": "code",
   "execution_count": 31,
   "metadata": {},
   "outputs": [
    {
     "data": {
      "text/plain": [
       "{1: {'player_id': 1,\n",
       "  'player_name': 'Clarence',\n",
       "  'time_played': 0.0,\n",
       "  'player_pokemon': {2: {'poke_id': 2,\n",
       "    'poke_name': 'squirtle',\n",
       "    'poke_type': 'water',\n",
       "    'hp': 446,\n",
       "    'attack': 56,\n",
       "    'defense': 86,\n",
       "    'special_attack': 112,\n",
       "    'special_defense': 129,\n",
       "    'speed': 47}},\n",
       "  'gyms_visited': ['linkedin.com', 'google.com']},\n",
       " 2: {'player_id': 2,\n",
       "  'player_name': 'Misty',\n",
       "  'time_played': 0.0,\n",
       "  'player_pokemon': {1: {'poke_id': 1,\n",
       "    'poke_name': 'charmander',\n",
       "    'poke_type': 'fire',\n",
       "    'hp': 414,\n",
       "    'attack': 68,\n",
       "    'defense': 62,\n",
       "    'special_attack': 142,\n",
       "    'special_defense': 140,\n",
       "    'speed': 38},\n",
       "   3: {'poke_id': 3,\n",
       "    'poke_name': 'bulbasaur',\n",
       "    'poke_type': 'poison',\n",
       "    'hp': 485,\n",
       "    'attack': 87,\n",
       "    'defense': 50,\n",
       "    'special_attack': 125,\n",
       "    'special_defense': 149,\n",
       "    'speed': 61}},\n",
       "  'gyms_visited': ['ebay.com', 'amazon.com']}}"
      ]
     },
     "execution_count": 31,
     "metadata": {},
     "output_type": "execute_result"
    }
   ],
   "source": [
    "poke_players"
   ]
  },
  {
   "cell_type": "markdown",
   "metadata": {},
   "source": [
    "## 5. What gyms have players visited?\n",
    "\n",
    "### A) Checking gyms\n",
    "\n",
    "Write a nested for-loop that:\n",
    "\n",
    "1. Iterates through the `gyms` list of gym locations you defined before.\n",
    "2. For each gym, iterate through each player in the `poke_players` dictionary with a second, internal for-loop, checking if the player has visited that gym (stored in the `'gyms_visited'` list).\n",
    "3. If the player has visited the gym, print out \"{player_name} has visited {gym}.\", filling in `{player_name}` and `{gym}` with the current player's name and current gym location."
   ]
  },
  {
   "cell_type": "code",
   "execution_count": 32,
   "metadata": {},
   "outputs": [
    {
     "name": "stdout",
     "output_type": "stream",
     "text": [
      "Clarence has visited linkedin.com.\n",
      "Clarence has visited google.com.\n",
      "Misty has visited amazon.com.\n",
      "Misty has visited ebay.com.\n"
     ]
    }
   ],
   "source": [
    "for k, v in poke_players.items():\n",
    "    for gym in gym_locations:\n",
    "        if gym in v['gyms_visited']:\n",
    "            print(f'{poke_players[k][\"player_name\"]} has visited {gym}.')"
   ]
  },
  {
   "cell_type": "markdown",
   "metadata": {},
   "source": [
    "### B) Computational Complexity\n",
    "\n",
    "How many times did that loop run? If you have N gyms and also M players, how many times would it run as a function of N and M? \n",
    "\n",
    "(You can write your answer as Markdown text.)"
   ]
  },
  {
   "cell_type": "markdown",
   "metadata": {},
   "source": [
    "$10 \\text{ gyms x } 2 \\text{ players } = 20$"
   ]
  },
  {
   "cell_type": "markdown",
   "metadata": {},
   "source": []
  },
  {
   "cell_type": "markdown",
   "metadata": {},
   "source": [
    "## 6. Calculate player \"power\".\n",
    "\n",
    "---\n",
    "\n",
    "Define a function that will calculate a player's \"power\". Player power is defined as the sum of the base statistics all of their pokemon.\n",
    "\n",
    "$$\n",
    "\\text{player power } = \\sum_{i = 1}^{n}\\text{attack}_i + \\text{defense}_i + \\text{special attack}_i + \\text{special defense}_i\n",
    "$$\n",
    "\n",
    "Where $i$ is an individual pokemon in a player's `player_pokemon`. ($\\sum$ just means sum, so you're just adding up all the attributes listed above for all the pokemon in the player's `player_pokemon`).\n",
    "\n",
    "Your function should:\n",
    "\n",
    "*  Accept a `poke_players` dictionary and a `player_id` as arguments.\n",
    "*  For the specified player_id, look up that player's pokemon.\n",
    "*  Find and aggregate the attack and defense values for each of the player's pokemon.\n",
    "*  Print \"{player_name}'s power is {player_power}.\", where the `player_power` is the sum of the base statistics for all of their pokemon.\n",
    "*  Return the player's power value.\n",
    "\n",
    "Check your work by looping through all players in your `poke_players` dict."
   ]
  },
  {
   "cell_type": "code",
   "execution_count": 33,
   "metadata": {},
   "outputs": [],
   "source": [
    "def get_power(player_id, player_dict = poke_players):\n",
    "    sum = 0\n",
    "    for pokemon in poke_players[player_id]['player_pokemon'].values():\n",
    "        sum += pokemon['attack'] + pokemon['defense'] + pokemon['special_attack'] + pokemon['special_defense']\n",
    "    print(f\"{poke_players[player_id]['player_name']}'s power is {sum}.\")\n",
    "    return sum"
   ]
  },
  {
   "cell_type": "code",
   "execution_count": 34,
   "metadata": {},
   "outputs": [
    {
     "name": "stdout",
     "output_type": "stream",
     "text": [
      "Clarence's power is 383.\n",
      "Misty's power is 823.\n"
     ]
    }
   ],
   "source": [
    "for player in poke_players:\n",
    "    get_power(player)"
   ]
  },
  {
   "cell_type": "markdown",
   "metadata": {},
   "source": [
    "## 7. Load a pokedex file containing all the pokemon\n",
    "\n",
    "---\n",
    "\n",
    "### Load data using the `with open()` method.\n",
    "\n",
    "While you were putting together the prototype code, your colleagues were preparing a dataset of Pokemon and their attributes (This was a rush job, so they may have picked some crazy values for some...). Your task is to load the data into a list of lists so you can manipulate it.\n",
    "\n",
    "* The `type` of the data should be a `list`\n",
    "  * The `type` of each element in that list should be a `list`\n",
    "    * The `type` of each element in the sub-list should be `str` or `float`.\n",
    "\n",
    "The code provided loads the data into one looooong `str`. To get it into the correct format:\n",
    "* Use the string `.replace()` method to remove `\"`. \n",
    "* Use the string `.split()` method to create a new row for each line. New lines are denoted with a `'\\n'`.\n",
    "* Use `.split()` again on each line, splitting on commas to separate your individual values.\n",
    "* Iterate through your data. Use `try/except` to cast numeric data as type `float`. \n",
    "\n",
    "Your end result is effectively a matrix. Each list $i$ in the outer list is a row, and the $j$th elements of list together form the *j*th column, which represents a data attribute. The first three lists in your pokedex list should look like this:\n",
    "\n",
    "    ['PokedexNumber', 'Name', 'Type', 'Total', 'HP', 'Attack', 'Defense', 'SpecialAttack', 'SpecialDefense', 'Speed']\n",
    "    [1.0, 'Bulbasaur', 'GrassPoison', 318.0, 45.0, 49.0, 49.0, 65.0, 65.0, 45.0]\n",
    "    [2.0, 'Ivysaur', 'GrassPoison', 405.0, 60.0, 62.0, 63.0, 80.0, 80.0, 60.0]\n",
    "    \n",
    "In the above example, `new_pd[1][3]` would return the value `[318.0]`, which occupies the 4th index of the 2nd row (Python is 0-indexed).\n",
    "    \n",
    "**WARNING:** Don't print or display your entire new pokedex! Viewing that many entries will clog up your notebook and make it difficult to read."
   ]
  },
  {
   "cell_type": "code",
   "execution_count": 35,
   "metadata": {},
   "outputs": [],
   "source": [
    "# Code to read in pokedex info\n",
    "raw_pd = ''\n",
    "pokedex_file = 'pokedex_basic.csv'\n",
    "with open(pokedex_file, 'r') as f:\n",
    "    raw_pd = f.read()\n",
    "    \n",
    "# the pokedex string is assigned to the raw_pd variable"
   ]
  },
  {
   "cell_type": "code",
   "execution_count": 36,
   "metadata": {},
   "outputs": [],
   "source": [
    "new_pd = []\n",
    "# Your code here\n",
    "clean_pd = raw_pd.replace('\"', '')\n",
    "clean_pd = clean_pd.split('\\n')"
   ]
  },
  {
   "cell_type": "code",
   "execution_count": 37,
   "metadata": {},
   "outputs": [],
   "source": [
    "for line in clean_pd:\n",
    "    new_pd.append(line.split(','))"
   ]
  },
  {
   "cell_type": "code",
   "execution_count": 38,
   "metadata": {},
   "outputs": [],
   "source": [
    "for pokemon in new_pd:\n",
    "    for i in range(len(pokemon)):\n",
    "        try:\n",
    "            pokemon[i] = float(pokemon[i])\n",
    "        except ValueError:\n",
    "            pass"
   ]
  },
  {
   "cell_type": "markdown",
   "metadata": {},
   "source": [
    "To preview the top 3 rows of your list of lists, use the code below:"
   ]
  },
  {
   "cell_type": "code",
   "execution_count": 39,
   "metadata": {},
   "outputs": [
    {
     "data": {
      "text/plain": [
       "[['PokedexNumber',\n",
       "  'Name',\n",
       "  'Type',\n",
       "  'Total',\n",
       "  'HP',\n",
       "  'Attack',\n",
       "  'Defense',\n",
       "  'SpecialAttack',\n",
       "  'SpecialDefense',\n",
       "  'Speed'],\n",
       " [1.0, 'Bulbasaur', 'GrassPoison', 318.0, 45.0, 49.0, 49.0, 65.0, 65.0, 45.0],\n",
       " [2.0, 'Ivysaur', 'GrassPoison', 405.0, 60.0, 62.0, 63.0, 80.0, 80.0, 60.0]]"
      ]
     },
     "execution_count": 39,
     "metadata": {},
     "output_type": "execute_result"
    }
   ],
   "source": [
    "new_pd[:3]"
   ]
  },
  {
   "cell_type": "markdown",
   "metadata": {},
   "source": [
    "## 8. Changing Types\n",
    "\n",
    "---\n",
    "\n",
    "### A) Convert your data into a dictionary.\n",
    "\n",
    "Your `dict` should...\n",
    "* have `keys` of the new `pokedex` as the `PokedexNumber`\n",
    "* have `values` containing data for each pokemon in a dictionary form, just like our `pokedex` from before\n",
    "  * Keep in mind, the `keys` here are a little bit different than the original `pokedex`.\n",
    "  * Be careful of the header, you do not want to include that as a pokemon.\n",
    "* **WARNING:** Don't display your entire `pokedex` when turning this in! Viewing that many entries will clog up your notebook and make it difficult to read. If youd like to visualize your `pokedex`, index with a few of its `keys`.\n",
    "\n",
    "Your `new_pd_dict` should be organized like...\n",
    "\n",
    "```python\n",
    "{1.0: {'Attack': 49.0,\n",
    "  'Defense': 49.0,\n",
    "  'HP': 45.0,\n",
    "  'Name': 'Bulbasaur',\n",
    "  'PokedexNumber': 1.0,\n",
    "  'SpecialAttack': 65.0,\n",
    "  'SpecialDefense': 65.0,\n",
    "  'Speed': 45.0,\n",
    "  'Total': 318.0,\n",
    "  'Type': 'GrassPoison'},\n",
    " 2.0: {'Attack': 62.0,\n",
    "  'Defense': 63.0,\n",
    "  'HP': 60.0,\n",
    "  'Name': 'Ivysaur',\n",
    "```"
   ]
  },
  {
   "cell_type": "code",
   "execution_count": 40,
   "metadata": {},
   "outputs": [],
   "source": [
    "pokemon_keys = new_pd[0]"
   ]
  },
  {
   "cell_type": "code",
   "execution_count": 41,
   "metadata": {},
   "outputs": [
    {
     "data": {
      "text/plain": [
       "['PokedexNumber',\n",
       " 'Name',\n",
       " 'Type',\n",
       " 'Total',\n",
       " 'HP',\n",
       " 'Attack',\n",
       " 'Defense',\n",
       " 'SpecialAttack',\n",
       " 'SpecialDefense',\n",
       " 'Speed']"
      ]
     },
     "execution_count": 41,
     "metadata": {},
     "output_type": "execute_result"
    }
   ],
   "source": [
    "pokemon_keys"
   ]
  },
  {
   "cell_type": "code",
   "execution_count": 42,
   "metadata": {},
   "outputs": [],
   "source": [
    "new_pd_dict = {}\n",
    "for i in range(1, len(new_pd)):\n",
    "    dict = {}\n",
    "    for i2 in range(len(new_pd[i])):\n",
    "        dict[pokemon_keys[i2]] = new_pd[i][i2]\n",
    "    new_pd_dict[float(i)] = dict"
   ]
  },
  {
   "cell_type": "code",
   "execution_count": 43,
   "metadata": {},
   "outputs": [
    {
     "name": "stdout",
     "output_type": "stream",
     "text": [
      "{'PokedexNumber': 1.0, 'Name': 'Bulbasaur', 'Type': 'GrassPoison', 'Total': 318.0, 'HP': 45.0, 'Attack': 49.0, 'Defense': 49.0, 'SpecialAttack': 65.0, 'SpecialDefense': 65.0, 'Speed': 45.0}\n",
      "{'PokedexNumber': 2.0, 'Name': 'Ivysaur', 'Type': 'GrassPoison', 'Total': 405.0, 'HP': 60.0, 'Attack': 62.0, 'Defense': 63.0, 'SpecialAttack': 80.0, 'SpecialDefense': 80.0, 'Speed': 60.0}\n",
      "{'PokedexNumber': 3.0, 'Name': 'Venusaur', 'Type': 'GrassPoison', 'Total': 525.0, 'HP': 80.0, 'Attack': 82.0, 'Defense': 83.0, 'SpecialAttack': 100.0, 'SpecialDefense': 100.0, 'Speed': 80.0}\n",
      "{'PokedexNumber': 3.0, 'Name': 'VenusaurMega Venusaur', 'Type': 'GrassPoison', 'Total': 625.0, 'HP': 80.0, 'Attack': 100.0, 'Defense': 123.0, 'SpecialAttack': 122.0, 'SpecialDefense': 120.0, 'Speed': 80.0}\n"
     ]
    }
   ],
   "source": [
    "keys = [float(x) for x in range(1, 5)]\n",
    "\n",
    "for key in keys:\n",
    "    print(new_pd_dict[key])"
   ]
  },
  {
   "cell_type": "markdown",
   "metadata": {},
   "source": [
    "Your new pokedex is oriented by index, meaning that each entry is a row value (the `PokedexNumber` we set at the key would become the index for the row, all the keys for a given Pokemon would become the column headers, and their values would be the row values for that Pokemon). If you've set this up correctly (including naming your dict **`new_pd_dict`**), the following code should display the top 10 lines of your Pokedex formatted in a Pandas DataFrame."
   ]
  },
  {
   "cell_type": "code",
   "execution_count": 44,
   "metadata": {},
   "outputs": [
    {
     "data": {
      "text/html": [
       "<div>\n",
       "<style scoped>\n",
       "    .dataframe tbody tr th:only-of-type {\n",
       "        vertical-align: middle;\n",
       "    }\n",
       "\n",
       "    .dataframe tbody tr th {\n",
       "        vertical-align: top;\n",
       "    }\n",
       "\n",
       "    .dataframe thead th {\n",
       "        text-align: right;\n",
       "    }\n",
       "</style>\n",
       "<table border=\"1\" class=\"dataframe\">\n",
       "  <thead>\n",
       "    <tr style=\"text-align: right;\">\n",
       "      <th></th>\n",
       "      <th>Attack</th>\n",
       "      <th>Defense</th>\n",
       "      <th>HP</th>\n",
       "      <th>Name</th>\n",
       "      <th>PokedexNumber</th>\n",
       "      <th>SpecialAttack</th>\n",
       "      <th>SpecialDefense</th>\n",
       "      <th>Speed</th>\n",
       "      <th>Total</th>\n",
       "      <th>Type</th>\n",
       "    </tr>\n",
       "  </thead>\n",
       "  <tbody>\n",
       "    <tr>\n",
       "      <th>1.0</th>\n",
       "      <td>49</td>\n",
       "      <td>49</td>\n",
       "      <td>45</td>\n",
       "      <td>Bulbasaur</td>\n",
       "      <td>1</td>\n",
       "      <td>65</td>\n",
       "      <td>65</td>\n",
       "      <td>45</td>\n",
       "      <td>318</td>\n",
       "      <td>GrassPoison</td>\n",
       "    </tr>\n",
       "    <tr>\n",
       "      <th>2.0</th>\n",
       "      <td>62</td>\n",
       "      <td>63</td>\n",
       "      <td>60</td>\n",
       "      <td>Ivysaur</td>\n",
       "      <td>2</td>\n",
       "      <td>80</td>\n",
       "      <td>80</td>\n",
       "      <td>60</td>\n",
       "      <td>405</td>\n",
       "      <td>GrassPoison</td>\n",
       "    </tr>\n",
       "    <tr>\n",
       "      <th>3.0</th>\n",
       "      <td>82</td>\n",
       "      <td>83</td>\n",
       "      <td>80</td>\n",
       "      <td>Venusaur</td>\n",
       "      <td>3</td>\n",
       "      <td>100</td>\n",
       "      <td>100</td>\n",
       "      <td>80</td>\n",
       "      <td>525</td>\n",
       "      <td>GrassPoison</td>\n",
       "    </tr>\n",
       "    <tr>\n",
       "      <th>4.0</th>\n",
       "      <td>100</td>\n",
       "      <td>123</td>\n",
       "      <td>80</td>\n",
       "      <td>VenusaurMega Venusaur</td>\n",
       "      <td>3</td>\n",
       "      <td>122</td>\n",
       "      <td>120</td>\n",
       "      <td>80</td>\n",
       "      <td>625</td>\n",
       "      <td>GrassPoison</td>\n",
       "    </tr>\n",
       "    <tr>\n",
       "      <th>5.0</th>\n",
       "      <td>52</td>\n",
       "      <td>43</td>\n",
       "      <td>39</td>\n",
       "      <td>Charmander</td>\n",
       "      <td>4</td>\n",
       "      <td>60</td>\n",
       "      <td>50</td>\n",
       "      <td>65</td>\n",
       "      <td>309</td>\n",
       "      <td>Fire</td>\n",
       "    </tr>\n",
       "    <tr>\n",
       "      <th>6.0</th>\n",
       "      <td>64</td>\n",
       "      <td>58</td>\n",
       "      <td>58</td>\n",
       "      <td>Charmeleon</td>\n",
       "      <td>5</td>\n",
       "      <td>80</td>\n",
       "      <td>65</td>\n",
       "      <td>80</td>\n",
       "      <td>405</td>\n",
       "      <td>Fire</td>\n",
       "    </tr>\n",
       "    <tr>\n",
       "      <th>7.0</th>\n",
       "      <td>84</td>\n",
       "      <td>78</td>\n",
       "      <td>78</td>\n",
       "      <td>Charizard</td>\n",
       "      <td>6</td>\n",
       "      <td>109</td>\n",
       "      <td>85</td>\n",
       "      <td>100</td>\n",
       "      <td>534</td>\n",
       "      <td>FireFlying</td>\n",
       "    </tr>\n",
       "    <tr>\n",
       "      <th>8.0</th>\n",
       "      <td>130</td>\n",
       "      <td>111</td>\n",
       "      <td>78</td>\n",
       "      <td>CharizardMega Charizard X</td>\n",
       "      <td>6</td>\n",
       "      <td>130</td>\n",
       "      <td>85</td>\n",
       "      <td>100</td>\n",
       "      <td>634</td>\n",
       "      <td>FireDragon</td>\n",
       "    </tr>\n",
       "    <tr>\n",
       "      <th>9.0</th>\n",
       "      <td>104</td>\n",
       "      <td>78</td>\n",
       "      <td>78</td>\n",
       "      <td>CharizardMega Charizard Y</td>\n",
       "      <td>6</td>\n",
       "      <td>159</td>\n",
       "      <td>115</td>\n",
       "      <td>100</td>\n",
       "      <td>634</td>\n",
       "      <td>FireFlying</td>\n",
       "    </tr>\n",
       "    <tr>\n",
       "      <th>10.0</th>\n",
       "      <td>48</td>\n",
       "      <td>65</td>\n",
       "      <td>44</td>\n",
       "      <td>Squirtle</td>\n",
       "      <td>7</td>\n",
       "      <td>50</td>\n",
       "      <td>64</td>\n",
       "      <td>43</td>\n",
       "      <td>314</td>\n",
       "      <td>Water</td>\n",
       "    </tr>\n",
       "  </tbody>\n",
       "</table>\n",
       "</div>"
      ],
      "text/plain": [
       "     Attack Defense  HP                       Name PokedexNumber  \\\n",
       "1.0      49      49  45                  Bulbasaur             1   \n",
       "2.0      62      63  60                    Ivysaur             2   \n",
       "3.0      82      83  80                   Venusaur             3   \n",
       "4.0     100     123  80      VenusaurMega Venusaur             3   \n",
       "5.0      52      43  39                 Charmander             4   \n",
       "6.0      64      58  58                 Charmeleon             5   \n",
       "7.0      84      78  78                  Charizard             6   \n",
       "8.0     130     111  78  CharizardMega Charizard X             6   \n",
       "9.0     104      78  78  CharizardMega Charizard Y             6   \n",
       "10.0     48      65  44                   Squirtle             7   \n",
       "\n",
       "     SpecialAttack SpecialDefense Speed Total         Type  \n",
       "1.0             65             65    45   318  GrassPoison  \n",
       "2.0             80             80    60   405  GrassPoison  \n",
       "3.0            100            100    80   525  GrassPoison  \n",
       "4.0            122            120    80   625  GrassPoison  \n",
       "5.0             60             50    65   309         Fire  \n",
       "6.0             80             65    80   405         Fire  \n",
       "7.0            109             85   100   534   FireFlying  \n",
       "8.0            130             85   100   634   FireDragon  \n",
       "9.0            159            115   100   634   FireFlying  \n",
       "10.0            50             64    43   314        Water  "
      ]
     },
     "execution_count": 44,
     "metadata": {},
     "output_type": "execute_result"
    }
   ],
   "source": [
    "import pandas as pd\n",
    "pd.DataFrame(new_pd_dict).T.head(10)"
   ]
  },
  {
   "cell_type": "markdown",
   "metadata": {},
   "source": [
    "### (OPTIONAL) B) Orient your `new_pd_dict` by columns.\n",
    "\n",
    "Your goal in this exercise is to orient the pokedex dict by columns, meaning:\n",
    "\n",
    "* The keys of the dictionary are the column names\n",
    "* The values of the dictionary are a **column vector** (this can be a list or a tuple) of that feature.\n",
    "* **BONUS:** Do this with list and/or dictionary comprehensions only\n",
    "\n",
    "You may find it's easier to work from your `new_pd` list of lists rather than your `new_pd_dict`."
   ]
  },
  {
   "cell_type": "code",
   "execution_count": 45,
   "metadata": {},
   "outputs": [],
   "source": [
    "# Your code here\n",
    "col_pd_dict = {k: [] for k in pokemon_keys}"
   ]
  },
  {
   "cell_type": "code",
   "execution_count": 46,
   "metadata": {},
   "outputs": [],
   "source": [
    "for k, pokemon in new_pd_dict.items():\n",
    "    for k2, v2 in pokemon.items():\n",
    "        col_pd_dict[k2].append(v2)"
   ]
  },
  {
   "cell_type": "code",
   "execution_count": 47,
   "metadata": {},
   "outputs": [
    {
     "data": {
      "text/plain": [
       "['Bulbasaur',\n",
       " 'Ivysaur',\n",
       " 'Venusaur',\n",
       " 'VenusaurMega Venusaur',\n",
       " 'Charmander',\n",
       " 'Charmeleon',\n",
       " 'Charizard',\n",
       " 'CharizardMega Charizard X',\n",
       " 'CharizardMega Charizard Y',\n",
       " 'Squirtle']"
      ]
     },
     "execution_count": 47,
     "metadata": {},
     "output_type": "execute_result"
    }
   ],
   "source": [
    "col_pd_dict['Name'][:10]"
   ]
  },
  {
   "cell_type": "markdown",
   "metadata": {},
   "source": [
    "You can pass this data through to a pandas DataFrame as well, using the example code below:\n",
    "\n",
    "```pd.DataFrame(your_dict_name).head(10)```"
   ]
  },
  {
   "cell_type": "markdown",
   "metadata": {},
   "source": [
    "## (OPTIONAL) 9. Write a function to filter your pokedex!\n",
    "---\n",
    "\n",
    "Your goal in this exercise is to search your pokedex based on your own defined criteria! Build a function that...\n",
    "\n",
    "* Takes arguments of: \n",
    "  * a pokedex dict (can be either the row or column oriented dict, pick the one of your choice!)\n",
    "  * a `filter_options` dict (described below)\n",
    "* For parameters in your `filter_options` dict, your function should return:\n",
    "  * pokemon that are >= (greater than or equal to) the value you passed in your `filter_options` for that field for continuous values\n",
    "  * pokemon of that name or type for string values (equal)\n",
    "* Return a list of the individual pokemon dictionaries that meet your search criteia!\n",
    "\n",
    "Example:\n",
    "\n",
    "```python\n",
    "\n",
    "# Only filter based on parameters passed\n",
    "filter_options = {\n",
    "    'Attack':   25,\n",
    "    'Defense':  30,\n",
    "    'Type':     'Electric'\n",
    "}\n",
    "\n",
    "# Return records with attack >= 24, defense >= 30, and type == \"Electric\"\n",
    "# Also anticipate that other paramters can also be passed such as \"SpecialAttack\", \"Speed\", etc.\n",
    "filtered_pokedex(pokedex_data, filter_options)\n",
    "\n",
    "# Example output:\n",
    "[{'Attack': 30.0,\n",
    "  'Defense': 50.0,\n",
    "  'HP': 40.0,\n",
    "  'Name': 'Voltorb',\n",
    "  'SpecialAttack': 55.0,\n",
    "  'SpecialDefense': 55.0,\n",
    "  'Speed': 100.0,\n",
    "  'Total': 330.0,\n",
    "  'Type': 'Electric'},\n",
    "  {'Attack': 30.0,\n",
    "  'Defense': 33.0,\n",
    "  'HP': 32.0,\n",
    "  'Name': 'Pikachu',\n",
    "  'SpecialAttack': 55.0,\n",
    "  'SpecialDefense': 55.0,\n",
    "  'Speed': 100.0,\n",
    "  'Total': 330.0,\n",
    "  'Type': 'Electric'},\n",
    "  ... etc\n",
    "  ]\n",
    "\n",
    "```\n",
    "\n"
   ]
  },
  {
   "cell_type": "code",
   "execution_count": 48,
   "metadata": {},
   "outputs": [],
   "source": [
    "def filter(condition, data):\n",
    "    # Try and see if the argument is a string or a number.\n",
    "    try:\n",
    "        float(condition)\n",
    "    # If it is a string, fliter for string.\n",
    "    except ValueError:\n",
    "        if data.lower() == condition:\n",
    "            return True\n",
    "    # If it is a number, filter for number bigger or equal to the number.\n",
    "    if data >= condition:\n",
    "            return True\n",
    "\n",
    "# The function needs to be able to take any arbitriary number of arguments.\n",
    "def filtered_pokedex(pokedex_data, **filter_options):\n",
    "    \n",
    "    # A set meant to collect the indexes of all keys that do not fit the filter criteria.\n",
    "    # It is a set as there is no need for repeat keys when checking for multiple criteria.\n",
    "    failed_key_index = set([])\n",
    "    # Because needing to remember whether keyword arguments have caps or not when searching for them is just silly.\n",
    "    output_pokedex = {k.lower(): v for k, v in pokedex_data.items()}\n",
    "    \n",
    "    for arg in filter_options:\n",
    "        # Makes the search non case sensitive.\n",
    "        if arg.lower() in output_pokedex.keys():\n",
    "            for i in range(len(output_pokedex[arg.lower()])):\n",
    "                if not filter(filter_options[arg], output_pokedex[arg.lower()][i]):\n",
    "                    failed_key_index.add(i)\n",
    "        else:\n",
    "            # Print warning if search criteria is invalid.\n",
    "            print(f'{arg} parameter does not exist')\n",
    "    output_pokedex = {k: [] for k, v in pokedex_data.items()}\n",
    "    for i in range(len(pokedex_data['PokedexNumber'])):\n",
    "        if i not in failed_key_index:\n",
    "            for k in pokedex_data:\n",
    "                output_pokedex[k].append(pokedex_data[k][i])\n",
    "    return output_pokedex"
   ]
  },
  {
   "cell_type": "code",
   "execution_count": 49,
   "metadata": {
    "scrolled": true
   },
   "outputs": [
    {
     "name": "stdout",
     "output_type": "stream",
     "text": [
      "asd parameter does not exist\n"
     ]
    },
    {
     "data": {
      "text/plain": [
       "{'PokedexNumber': [5.0,\n",
       "  38.0,\n",
       "  58.0,\n",
       "  59.0,\n",
       "  77.0,\n",
       "  78.0,\n",
       "  126.0,\n",
       "  136.0,\n",
       "  156.0,\n",
       "  157.0,\n",
       "  240.0,\n",
       "  244.0,\n",
       "  255.0,\n",
       "  324.0,\n",
       "  467.0,\n",
       "  498.0,\n",
       "  514.0,\n",
       "  554.0,\n",
       "  555.0,\n",
       "  631.0],\n",
       " 'Name': ['Charmeleon',\n",
       "  'Ninetales',\n",
       "  'Growlithe',\n",
       "  'Arcanine',\n",
       "  'Ponyta',\n",
       "  'Rapidash',\n",
       "  'Magmar',\n",
       "  'Flareon',\n",
       "  'Quilava',\n",
       "  'Typhlosion',\n",
       "  'Magby',\n",
       "  'Entei',\n",
       "  'Torchic',\n",
       "  'Torkoal',\n",
       "  'Magmortar',\n",
       "  'Tepig',\n",
       "  'Simisear',\n",
       "  'Darumaka',\n",
       "  'DarmanitanStandard Mode',\n",
       "  'Heatmor'],\n",
       " 'Type': ['Fire',\n",
       "  'Fire',\n",
       "  'Fire',\n",
       "  'Fire',\n",
       "  'Fire',\n",
       "  'Fire',\n",
       "  'Fire',\n",
       "  'Fire',\n",
       "  'Fire',\n",
       "  'Fire',\n",
       "  'Fire',\n",
       "  'Fire',\n",
       "  'Fire',\n",
       "  'Fire',\n",
       "  'Fire',\n",
       "  'Fire',\n",
       "  'Fire',\n",
       "  'Fire',\n",
       "  'Fire',\n",
       "  'Fire'],\n",
       " 'Total': [405.0,\n",
       "  505.0,\n",
       "  350.0,\n",
       "  555.0,\n",
       "  410.0,\n",
       "  500.0,\n",
       "  495.0,\n",
       "  525.0,\n",
       "  405.0,\n",
       "  534.0,\n",
       "  365.0,\n",
       "  580.0,\n",
       "  310.0,\n",
       "  470.0,\n",
       "  540.0,\n",
       "  308.0,\n",
       "  498.0,\n",
       "  315.0,\n",
       "  480.0,\n",
       "  484.0],\n",
       " 'HP': [58.0,\n",
       "  73.0,\n",
       "  55.0,\n",
       "  90.0,\n",
       "  50.0,\n",
       "  65.0,\n",
       "  65.0,\n",
       "  65.0,\n",
       "  58.0,\n",
       "  78.0,\n",
       "  45.0,\n",
       "  115.0,\n",
       "  45.0,\n",
       "  70.0,\n",
       "  75.0,\n",
       "  65.0,\n",
       "  75.0,\n",
       "  70.0,\n",
       "  105.0,\n",
       "  85.0],\n",
       " 'Attack': [64.0,\n",
       "  76.0,\n",
       "  70.0,\n",
       "  110.0,\n",
       "  85.0,\n",
       "  100.0,\n",
       "  95.0,\n",
       "  130.0,\n",
       "  64.0,\n",
       "  84.0,\n",
       "  75.0,\n",
       "  115.0,\n",
       "  60.0,\n",
       "  85.0,\n",
       "  95.0,\n",
       "  63.0,\n",
       "  98.0,\n",
       "  90.0,\n",
       "  140.0,\n",
       "  97.0],\n",
       " 'Defense': [58.0,\n",
       "  75.0,\n",
       "  45.0,\n",
       "  80.0,\n",
       "  55.0,\n",
       "  70.0,\n",
       "  57.0,\n",
       "  60.0,\n",
       "  58.0,\n",
       "  78.0,\n",
       "  37.0,\n",
       "  85.0,\n",
       "  40.0,\n",
       "  140.0,\n",
       "  67.0,\n",
       "  45.0,\n",
       "  63.0,\n",
       "  45.0,\n",
       "  55.0,\n",
       "  66.0],\n",
       " 'SpecialAttack': [80.0,\n",
       "  81.0,\n",
       "  70.0,\n",
       "  100.0,\n",
       "  65.0,\n",
       "  80.0,\n",
       "  100.0,\n",
       "  95.0,\n",
       "  80.0,\n",
       "  109.0,\n",
       "  70.0,\n",
       "  90.0,\n",
       "  70.0,\n",
       "  85.0,\n",
       "  125.0,\n",
       "  45.0,\n",
       "  98.0,\n",
       "  15.0,\n",
       "  30.0,\n",
       "  105.0],\n",
       " 'SpecialDefense': [65.0,\n",
       "  100.0,\n",
       "  50.0,\n",
       "  80.0,\n",
       "  65.0,\n",
       "  80.0,\n",
       "  85.0,\n",
       "  110.0,\n",
       "  65.0,\n",
       "  85.0,\n",
       "  55.0,\n",
       "  75.0,\n",
       "  50.0,\n",
       "  70.0,\n",
       "  95.0,\n",
       "  45.0,\n",
       "  63.0,\n",
       "  45.0,\n",
       "  55.0,\n",
       "  66.0],\n",
       " 'Speed': [80.0,\n",
       "  100.0,\n",
       "  60.0,\n",
       "  95.0,\n",
       "  90.0,\n",
       "  105.0,\n",
       "  93.0,\n",
       "  65.0,\n",
       "  80.0,\n",
       "  100.0,\n",
       "  83.0,\n",
       "  100.0,\n",
       "  45.0,\n",
       "  20.0,\n",
       "  83.0,\n",
       "  45.0,\n",
       "  101.0,\n",
       "  50.0,\n",
       "  95.0,\n",
       "  65.0]}"
      ]
     },
     "execution_count": 49,
     "metadata": {},
     "output_type": "execute_result"
    }
   ],
   "source": [
    "filtered_pokedex(col_pd_dict, type='fire', attack=60, asd=30)"
   ]
  }
 ],
 "metadata": {
  "anaconda-cloud": {},
  "kernelspec": {
   "display_name": "Python 3",
   "language": "python",
   "name": "python3"
  },
  "language_info": {
   "codemirror_mode": {
    "name": "ipython",
    "version": 3
   },
   "file_extension": ".py",
   "mimetype": "text/x-python",
   "name": "python",
   "nbconvert_exporter": "python",
   "pygments_lexer": "ipython3",
   "version": "3.7.3"
  }
 },
 "nbformat": 4,
 "nbformat_minor": 2
}
