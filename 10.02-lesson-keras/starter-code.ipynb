{
 "cells": [
  {
   "cell_type": "markdown",
   "metadata": {},
   "source": [
    "<img src=\"http://imgur.com/1ZcRyrc.png\" style=\"float: left; margin: 20px; height: 55px\">\n",
    "\n",
    "# Neural Networks with Keras\n",
    "\n",
    "_Authors: Justin Pounders (ATL) and Riley Dallas (ATX)_\n",
    "\n",
    "---\n",
    "\n",
    "\n",
    "### Learning Objectives\n",
    "\n",
    "- Describe the basic `keras` workflow.\n",
    "- Train regression and classification neural networks using `keras`"
   ]
  },
  {
   "cell_type": "code",
   "execution_count": 1,
   "metadata": {},
   "outputs": [
    {
     "name": "stderr",
     "output_type": "stream",
     "text": [
      "Using TensorFlow backend.\n"
     ]
    }
   ],
   "source": [
    "import numpy as np\n",
    "from sklearn.datasets import make_classification, make_regression\n",
    "from sklearn.preprocessing import StandardScaler\n",
    "from sklearn.model_selection import train_test_split\n",
    "import matplotlib.pyplot as plt\n",
    "\n",
    "from keras.models import Sequential\n",
    "from keras.layers import Dense\n",
    "from keras.utils import to_categorical\n",
    "\n",
    "%matplotlib inline"
   ]
  },
  {
   "cell_type": "markdown",
   "metadata": {},
   "source": [
    "# Regression\n",
    "---\n",
    "\n",
    "`make_regression` is an excellent library for generating a random regression problem. This helps us focus on the model without having to worry about the dataset. \n",
    "\n",
    "In the cell below, use `make_regression` to generate 10,000 samples using 20 features."
   ]
  },
  {
   "cell_type": "code",
   "execution_count": 13,
   "metadata": {},
   "outputs": [],
   "source": [
    "X, y = make_regression(n_samples=10000, n_features=20, random_state=42)"
   ]
  },
  {
   "cell_type": "markdown",
   "metadata": {},
   "source": [
    "### Train/Test Split\n",
    "---\n",
    "\n",
    "We always want to have a validation set to test our model. Use the `train_test_split` function to split our `X` and `y` variables into a training set and a holdout set."
   ]
  },
  {
   "cell_type": "code",
   "execution_count": 14,
   "metadata": {},
   "outputs": [],
   "source": [
    "X_train, X_test, y_train, y_test = train_test_split(X, y, random_state=42)"
   ]
  },
  {
   "cell_type": "markdown",
   "metadata": {},
   "source": [
    "### `StandardScaler`\n",
    "---\n",
    "\n",
    "You want to scale your data for *any* model that uses Gradient Descent, which includes Neural Networks."
   ]
  },
  {
   "cell_type": "code",
   "execution_count": 15,
   "metadata": {},
   "outputs": [],
   "source": [
    "ss = StandardScaler()\n",
    "X_train = ss.fit_transform(X_train)\n",
    "X_test = ss.transform(X_test)"
   ]
  },
  {
   "cell_type": "markdown",
   "metadata": {},
   "source": [
    "### Your first Neural Network!!\n",
    "---\n",
    "\n",
    "Next stop, [The Singularity](https://en.wikipedia.org/wiki/Technological_singularity)!\n",
    "\n",
    "Creating a model in `keras` entails a few steps:\n",
    "1. Create your network topology\n",
    "2. Compile your model\n",
    "3. Fit your model\n",
    "\n",
    "We'll cover each step in the cells below.\n",
    "\n",
    "### Create your network topology\n",
    "---\n",
    "\n",
    "We'll create a simple network with:\n",
    "- an input layer\n",
    "- one hidden layer. As a general rule, you should use `'relu'` as your activation function for all hidden layers.\n",
    "- an output layer. \n",
    "\n",
    "For *all* regression problems, your output layer will be 1 neuron with *no* activation function. "
   ]
  },
  {
   "cell_type": "code",
   "execution_count": 16,
   "metadata": {},
   "outputs": [],
   "source": [
    "model = Sequential()\n",
    "model.add(Dense(32, input_shape=(20,), activation='relu'))\n",
    "model.add(Dense(1))"
   ]
  },
  {
   "cell_type": "markdown",
   "metadata": {},
   "source": [
    "### Compile your model\n",
    "---\n",
    "\n",
    "Whenever you compile your model, you have to specify a few things: \n",
    "1. What [loss function](https://keras.io/losses/) to use (depends on if it's regression, classification, etc)\n",
    "2. What optimizer to use (Always use `'adam'`)\n",
    "3. Optional: What additional [metrics](https://keras.io/metrics/) you'd like to monitor"
   ]
  },
  {
   "cell_type": "code",
   "execution_count": 17,
   "metadata": {},
   "outputs": [],
   "source": [
    "model.compile(loss='mse', optimizer='adam', metrics=['mae'])"
   ]
  },
  {
   "cell_type": "markdown",
   "metadata": {
    "collapsed": true
   },
   "source": [
    "### Fit your model\n",
    "---\n",
    "\n",
    "When fitting your model, you need to specify a few things:\n",
    "1. The number of epochs: start with 10. Always easy to add more\n",
    "2. Your batch size: pick a number that is a power of 2\n",
    "3. Your validation data, which in this case is our test set."
   ]
  },
  {
   "cell_type": "code",
   "execution_count": 18,
   "metadata": {},
   "outputs": [
    {
     "name": "stdout",
     "output_type": "stream",
     "text": [
      "Train on 7500 samples, validate on 2500 samples\n",
      "Epoch 1/10\n",
      "7500/7500 [==============================] - 0s 13us/step - loss: 40176.7311 - mae: 160.4885 - val_loss: 39362.2386 - val_mae: 158.8472\n",
      "Epoch 2/10\n",
      "7500/7500 [==============================] - 0s 3us/step - loss: 40105.6114 - mae: 160.3461 - val_loss: 39291.4135 - val_mae: 158.7048\n",
      "Epoch 3/10\n",
      "7500/7500 [==============================] - 0s 4us/step - loss: 40031.1287 - mae: 160.1971 - val_loss: 39213.8832 - val_mae: 158.5487\n",
      "Epoch 4/10\n",
      "7500/7500 [==============================] - 0s 3us/step - loss: 39949.2477 - mae: 160.0318 - val_loss: 39126.1679 - val_mae: 158.3722\n",
      "Epoch 5/10\n",
      "7500/7500 [==============================] - 0s 3us/step - loss: 39854.6306 - mae: 159.8406 - val_loss: 39025.3855 - val_mae: 158.1685\n",
      "Epoch 6/10\n",
      "7500/7500 [==============================] - 0s 4us/step - loss: 39744.9483 - mae: 159.6186 - val_loss: 38907.5630 - val_mae: 157.9299\n",
      "Epoch 7/10\n",
      "7500/7500 [==============================] - 0s 3us/step - loss: 39618.2263 - mae: 159.3598 - val_loss: 38767.9697 - val_mae: 157.6458\n",
      "Epoch 8/10\n",
      "7500/7500 [==============================] - 0s 4us/step - loss: 39470.0195 - mae: 159.0550 - val_loss: 38606.0587 - val_mae: 157.3145\n",
      "Epoch 9/10\n",
      "7500/7500 [==============================] - 0s 4us/step - loss: 39298.3988 - mae: 158.7019 - val_loss: 38422.1218 - val_mae: 156.9358\n",
      "Epoch 10/10\n",
      "7500/7500 [==============================] - 0s 4us/step - loss: 39102.7481 - mae: 158.2975 - val_loss: 38214.1379 - val_mae: 156.5052\n"
     ]
    },
    {
     "data": {
      "text/plain": [
       "<keras.callbacks.callbacks.History at 0x15b5927fc08>"
      ]
     },
     "execution_count": 18,
     "metadata": {},
     "output_type": "execute_result"
    }
   ],
   "source": [
    "model.fit(X_train, y_train, validation_data=(X_test, y_test), epochs=10, batch_size=512)"
   ]
  },
  {
   "cell_type": "markdown",
   "metadata": {
    "collapsed": true
   },
   "source": [
    "### Model predictions\n",
    "---\n",
    "\n",
    "Your `keras` model has a `.fit()` method, similar to `sklearn`. The only difference is `keras` returns a 2D `numpy` matrix (`sklearn` returns a 1D `numpy` array).\n",
    "\n",
    "Try it out in the cell below."
   ]
  },
  {
   "cell_type": "code",
   "execution_count": 19,
   "metadata": {},
   "outputs": [
    {
     "data": {
      "text/plain": [
       "array([[ 5.071074 ],\n",
       "       [ 5.05025  ],\n",
       "       [ 6.732931 ],\n",
       "       ...,\n",
       "       [ 6.099811 ],\n",
       "       [ 5.9721107],\n",
       "       [-2.434449 ]], dtype=float32)"
      ]
     },
     "execution_count": 19,
     "metadata": {},
     "output_type": "execute_result"
    }
   ],
   "source": [
    "model.predict(X_test)"
   ]
  },
  {
   "cell_type": "markdown",
   "metadata": {},
   "source": [
    "# Binary Classification\n",
    "---\n",
    "\n",
    "`make_classification` is similar to `make_regression`, except now we're predicting a class (0 or 1).\n",
    "\n",
    "In the cell below, use `make_classification` to generate 10,000 samples using 20 features."
   ]
  },
  {
   "cell_type": "code",
   "execution_count": 25,
   "metadata": {},
   "outputs": [],
   "source": [
    "X, y = make_classification(n_samples=10000, n_features=20, random_state=42)"
   ]
  },
  {
   "cell_type": "markdown",
   "metadata": {},
   "source": [
    "### Train/Test Split\n",
    "---\n",
    "\n",
    "We always want to have a validation set to test our model. Use the `train_test_split` function to split our `X` and `y` variables into a training set and a holdout set."
   ]
  },
  {
   "cell_type": "code",
   "execution_count": 26,
   "metadata": {},
   "outputs": [],
   "source": [
    "X_train, X_test, y_train, y_test = train_test_split(X, y, random_state=42, stratify=y)"
   ]
  },
  {
   "cell_type": "markdown",
   "metadata": {},
   "source": [
    "### `StandardScaler`\n",
    "---\n",
    "\n",
    "You want to scale your data for *any* model that uses Gradient Descent, which includes Neural Networks."
   ]
  },
  {
   "cell_type": "code",
   "execution_count": 27,
   "metadata": {},
   "outputs": [],
   "source": [
    "ss = StandardScaler()\n",
    "X_train = ss.fit_transform(X_train)\n",
    "X_test = ss.transform(X_test)"
   ]
  },
  {
   "cell_type": "markdown",
   "metadata": {},
   "source": [
    "### Network Topology for Binary Classification\n",
    "---\n",
    "\n",
    "We'll create a simple network with:\n",
    "- an input layer, \n",
    "- one hidden layer. As a general rule, you should use `'relu'` as your activation function for all hidden layers.\n",
    "- an output layer. \n",
    "\n",
    "For *all* binary classification problems, your output layer will be 1 neuron with `'sigmoid'` activation function. Sigmoid squashes the output of our neuron to a value between 0 and 1, which is great for predicting probabilities. We'll use the probability for our loss function in the next step."
   ]
  },
  {
   "cell_type": "code",
   "execution_count": 28,
   "metadata": {},
   "outputs": [],
   "source": [
    "model = Sequential()\n",
    "model.add(Dense(32, input_shape=(20,), activation='relu'))\n",
    "model.add(Dense(1, activation='sigmoid'))"
   ]
  },
  {
   "cell_type": "markdown",
   "metadata": {},
   "source": [
    "### Compile your model\n",
    "---\n",
    "\n",
    "Whenever you compile your model, you have to specify a few things: \n",
    "1. What loss function to use: For binary classification, use `binary_crossentropy`. ([Description](https://ml-cheatsheet.readthedocs.io/en/latest/loss_functions.html#cross-entropy))\n",
    "2. What optimizer to use (Always use `'adam'`)\n",
    "3. Optional: What additional [metrics](https://keras.io/metrics/) you'd like to monitor"
   ]
  },
  {
   "cell_type": "code",
   "execution_count": null,
   "metadata": {},
   "outputs": [],
   "source": [
    "def my_func(y_pred, y_true):\n",
    "    return"
   ]
  },
  {
   "cell_type": "code",
   "execution_count": 29,
   "metadata": {},
   "outputs": [],
   "source": [
    "model.compile(loss='binary_crossentropy', optimizer='adam', metrics=['accuracy'])"
   ]
  },
  {
   "cell_type": "markdown",
   "metadata": {},
   "source": [
    "### Fit your model\n",
    "---\n",
    "\n",
    "When fitting your model, you need to specify a few things:\n",
    "1. The number of epochs: start with 10. Always easy to add more\n",
    "2. Your batch size: pick a number that is a power of 2\n",
    "3. Your validation data, which in this case is our test set.\n",
    "\n",
    "When you fit a model, `keras` returns a `History` object. We need that in the next step, but for now, just save it to a variable."
   ]
  },
  {
   "cell_type": "code",
   "execution_count": 32,
   "metadata": {},
   "outputs": [
    {
     "name": "stdout",
     "output_type": "stream",
     "text": [
      "Train on 7500 samples, validate on 2500 samples\n",
      "Epoch 1/30\n",
      "7500/7500 [==============================] - 0s 3us/step - loss: 0.2335 - accuracy: 0.9317 - val_loss: 0.2460 - val_accuracy: 0.9232\n",
      "Epoch 2/30\n",
      "7500/7500 [==============================] - 0s 5us/step - loss: 0.2330 - accuracy: 0.9321 - val_loss: 0.2458 - val_accuracy: 0.9236\n",
      "Epoch 3/30\n",
      "7500/7500 [==============================] - 0s 5us/step - loss: 0.2327 - accuracy: 0.9324 - val_loss: 0.2457 - val_accuracy: 0.9236\n",
      "Epoch 4/30\n",
      "7500/7500 [==============================] - 0s 4us/step - loss: 0.2323 - accuracy: 0.9333 - val_loss: 0.2457 - val_accuracy: 0.9244\n",
      "Epoch 5/30\n",
      "7500/7500 [==============================] - 0s 4us/step - loss: 0.2322 - accuracy: 0.9331 - val_loss: 0.2453 - val_accuracy: 0.9240\n",
      "Epoch 6/30\n",
      "7500/7500 [==============================] - 0s 4us/step - loss: 0.2318 - accuracy: 0.9332 - val_loss: 0.2452 - val_accuracy: 0.9252\n",
      "Epoch 7/30\n",
      "7500/7500 [==============================] - 0s 4us/step - loss: 0.2314 - accuracy: 0.9332 - val_loss: 0.2451 - val_accuracy: 0.9264\n",
      "Epoch 8/30\n",
      "7500/7500 [==============================] - 0s 4us/step - loss: 0.2311 - accuracy: 0.9332 - val_loss: 0.2452 - val_accuracy: 0.9248\n",
      "Epoch 9/30\n",
      "7500/7500 [==============================] - 0s 4us/step - loss: 0.2307 - accuracy: 0.9337 - val_loss: 0.2448 - val_accuracy: 0.9264\n",
      "Epoch 10/30\n",
      "7500/7500 [==============================] - 0s 4us/step - loss: 0.2304 - accuracy: 0.9339 - val_loss: 0.2446 - val_accuracy: 0.9256\n",
      "Epoch 11/30\n",
      "7500/7500 [==============================] - 0s 4us/step - loss: 0.2301 - accuracy: 0.9344 - val_loss: 0.2443 - val_accuracy: 0.9264\n",
      "Epoch 12/30\n",
      "7500/7500 [==============================] - 0s 4us/step - loss: 0.2298 - accuracy: 0.9335 - val_loss: 0.2444 - val_accuracy: 0.9268\n",
      "Epoch 13/30\n",
      "7500/7500 [==============================] - 0s 4us/step - loss: 0.2296 - accuracy: 0.9340 - val_loss: 0.2444 - val_accuracy: 0.9268\n",
      "Epoch 14/30\n",
      "7500/7500 [==============================] - 0s 4us/step - loss: 0.2293 - accuracy: 0.9340 - val_loss: 0.2441 - val_accuracy: 0.9264\n",
      "Epoch 15/30\n",
      "7500/7500 [==============================] - 0s 4us/step - loss: 0.2291 - accuracy: 0.9339 - val_loss: 0.2438 - val_accuracy: 0.9276\n",
      "Epoch 16/30\n",
      "7500/7500 [==============================] - 0s 4us/step - loss: 0.2288 - accuracy: 0.9345 - val_loss: 0.2442 - val_accuracy: 0.9280\n",
      "Epoch 17/30\n",
      "7500/7500 [==============================] - 0s 4us/step - loss: 0.2285 - accuracy: 0.9351 - val_loss: 0.2434 - val_accuracy: 0.9280\n",
      "Epoch 18/30\n",
      "7500/7500 [==============================] - 0s 4us/step - loss: 0.2282 - accuracy: 0.9347 - val_loss: 0.2436 - val_accuracy: 0.9276\n",
      "Epoch 19/30\n",
      "7500/7500 [==============================] - 0s 4us/step - loss: 0.2280 - accuracy: 0.9349 - val_loss: 0.2436 - val_accuracy: 0.9280\n",
      "Epoch 20/30\n",
      "7500/7500 [==============================] - 0s 5us/step - loss: 0.2277 - accuracy: 0.9345 - val_loss: 0.2435 - val_accuracy: 0.9280\n",
      "Epoch 21/30\n",
      "7500/7500 [==============================] - 0s 4us/step - loss: 0.2275 - accuracy: 0.9348 - val_loss: 0.2434 - val_accuracy: 0.9280\n",
      "Epoch 22/30\n",
      "7500/7500 [==============================] - 0s 4us/step - loss: 0.2275 - accuracy: 0.9344 - val_loss: 0.2434 - val_accuracy: 0.9284\n",
      "Epoch 23/30\n",
      "7500/7500 [==============================] - 0s 4us/step - loss: 0.2270 - accuracy: 0.9347 - val_loss: 0.2427 - val_accuracy: 0.9288\n",
      "Epoch 24/30\n",
      "7500/7500 [==============================] - 0s 4us/step - loss: 0.2269 - accuracy: 0.9348 - val_loss: 0.2429 - val_accuracy: 0.9296\n",
      "Epoch 25/30\n",
      "7500/7500 [==============================] - 0s 4us/step - loss: 0.2266 - accuracy: 0.9347 - val_loss: 0.2428 - val_accuracy: 0.9296\n",
      "Epoch 26/30\n",
      "7500/7500 [==============================] - 0s 4us/step - loss: 0.2264 - accuracy: 0.9352 - val_loss: 0.2429 - val_accuracy: 0.9300\n",
      "Epoch 27/30\n",
      "7500/7500 [==============================] - 0s 4us/step - loss: 0.2262 - accuracy: 0.9352 - val_loss: 0.2429 - val_accuracy: 0.9296\n",
      "Epoch 28/30\n",
      "7500/7500 [==============================] - 0s 4us/step - loss: 0.2262 - accuracy: 0.9351 - val_loss: 0.2424 - val_accuracy: 0.9300\n",
      "Epoch 29/30\n",
      "7500/7500 [==============================] - 0s 3us/step - loss: 0.2258 - accuracy: 0.9355 - val_loss: 0.2429 - val_accuracy: 0.9300\n",
      "Epoch 30/30\n",
      "7500/7500 [==============================] - 0s 4us/step - loss: 0.2257 - accuracy: 0.9352 - val_loss: 0.2424 - val_accuracy: 0.9296\n"
     ]
    }
   ],
   "source": [
    "history = model.fit(X_train, y_train, validation_data=(X_test, y_test), epochs=30, batch_size=512, verbose=1)"
   ]
  },
  {
   "cell_type": "markdown",
   "metadata": {},
   "source": [
    "### Visualizing model training\n",
    "---\n",
    "\n",
    "Whenever you fit your `keras` model, it returns a `History` object ([link](https://keras.io/visualization/#training-history-visualization)) that can be used for plotting."
   ]
  },
  {
   "cell_type": "code",
   "execution_count": 33,
   "metadata": {},
   "outputs": [
    {
     "data": {
      "text/plain": [
       "<matplotlib.legend.Legend at 0x15b59936288>"
      ]
     },
     "execution_count": 33,
     "metadata": {},
     "output_type": "execute_result"
    },
    {
     "data": {
      "image/png": "[encoded data removed]",
      "text/plain": [
       "<Figure size 432x288 with 1 Axes>"
      ]
     },
     "metadata": {
      "needs_background": "light"
     },
     "output_type": "display_data"
    }
   ],
   "source": [
    "plt.plot(history.history['loss'], label='train loss')\n",
    "plt.plot(history.history['val_loss'], label='val loss')\n",
    "plt.legend()"
   ]
  },
  {
   "cell_type": "markdown",
   "metadata": {},
   "source": [
    "### Challenge\n",
    "---\n",
    "\n",
    "Using the `history` object, plot the model's accuracy (for both train and test)."
   ]
  },
  {
   "cell_type": "code",
   "execution_count": 35,
   "metadata": {},
   "outputs": [
    {
     "data": {
      "text/plain": [
       "<matplotlib.legend.Legend at 0x15b59a0fa48>"
      ]
     },
     "execution_count": 35,
     "metadata": {},
     "output_type": "execute_result"
    },
    {
     "data": {
      "image/png": "[encoded data removed]",
      "text/plain": [
       "<Figure size 432x288 with 1 Axes>"
      ]
     },
     "metadata": {
      "needs_background": "light"
     },
     "output_type": "display_data"
    }
   ],
   "source": [
    "plt.plot(history.history['accuracy'], label='train acc')\n",
    "plt.plot(history.history['val_accuracy'], label='val acc')\n",
    "plt.legend()"
   ]
  },
  {
   "cell_type": "markdown",
   "metadata": {},
   "source": [
    "# Multi-class Classification\n",
    "---\n",
    "\n",
    "The `make_classification` function allows for multi-class problems as well. Simply increase the `n_classes` and voila!\n",
    "\n",
    "**NOTE**: You'll need to increase `n_informative` as you increase `n_classes`.\n",
    "\n",
    "In the cell below, let's create a dataset with three classes."
   ]
  },
  {
   "cell_type": "code",
   "execution_count": 37,
   "metadata": {},
   "outputs": [],
   "source": [
    "X, y = make_classification(n_samples=10000, n_features=20, n_informative=4, n_classes=3, random_state=42)"
   ]
  },
  {
   "cell_type": "markdown",
   "metadata": {},
   "source": [
    "### One-hot Encoding Targets\n",
    "---\n",
    "\n",
    "In `keras`, you have to one-hot encode your `y` if it contains more than two classes. We'll use `keras`' built-in `to_categorical` function to achieve this."
   ]
  },
  {
   "cell_type": "code",
   "execution_count": 38,
   "metadata": {},
   "outputs": [
    {
     "data": {
      "text/plain": [
       "array([[0., 0., 1.],\n",
       "       [0., 0., 1.],\n",
       "       [0., 1., 0.],\n",
       "       [1., 0., 0.],\n",
       "       [0., 0., 1.]], dtype=float32)"
      ]
     },
     "execution_count": 38,
     "metadata": {},
     "output_type": "execute_result"
    }
   ],
   "source": [
    "y = to_categorical(y)\n",
    "y[:5]"
   ]
  },
  {
   "cell_type": "markdown",
   "metadata": {},
   "source": [
    "### Train/Test Split\n",
    "---\n",
    "\n",
    "We always want to have a holdout set to test our model. Use the `train_test_split` function to split our `X` and `y` variables into a training set and a holdout set."
   ]
  },
  {
   "cell_type": "code",
   "execution_count": 39,
   "metadata": {},
   "outputs": [],
   "source": [
    "X_train, X_test, y_train, y_test = train_test_split(X, y, random_state=42)"
   ]
  },
  {
   "cell_type": "markdown",
   "metadata": {},
   "source": [
    "### `StandardScaler`\n",
    "---\n",
    "\n",
    "Use an instance of `StandardScaler` to scale your `X_train` and `X_test` in the cell below."
   ]
  },
  {
   "cell_type": "code",
   "execution_count": 40,
   "metadata": {},
   "outputs": [],
   "source": [
    "ss = StandardScaler()\n",
    "X_train = ss.fit_transform(X_train)\n",
    "X_test = ss.transform(X_test)"
   ]
  },
  {
   "cell_type": "markdown",
   "metadata": {},
   "source": [
    "### Network Topology for Multi-class Classification\n",
    "---\n",
    "\n",
    "We'll create a simple network with:\n",
    "- an input layer\n",
    "- one hidden layer. As a general rule, you should use `'relu'` as your activation function for all hidden layers.\n",
    "- an output layer\n",
    "\n",
    "For *all* multi-class classification problems, your output layer will be the same number of neurons as the number of classes in your problem. The activation function will be `softmax`, which will normalize the predictions into probabilities that sum up to 1.0."
   ]
  },
  {
   "cell_type": "code",
   "execution_count": 41,
   "metadata": {},
   "outputs": [],
   "source": [
    "model = Sequential()\n",
    "model.add(Dense(32, input_shape=(20,), activation='relu'))\n",
    "model.add(Dense(3, activation='softmax'))"
   ]
  },
  {
   "cell_type": "markdown",
   "metadata": {},
   "source": [
    "### Compile your model\n",
    "---\n",
    "\n",
    "Whenever you compile your model, you have to specify a few things: \n",
    "1. What loss function to use: For multi-class classification, use `categorical_crossentropy`. ([Description](https://ml-cheatsheet.readthedocs.io/en/latest/loss_functions.html#cross-entropy))\n",
    "2. What optimizer to use (Always use `'adam'`)\n",
    "3. Optional: What additional [metrics](https://keras.io/metrics/) you'd like to monitor"
   ]
  },
  {
   "cell_type": "code",
   "execution_count": 42,
   "metadata": {},
   "outputs": [],
   "source": [
    "model.compile(loss='categorical_crossentropy', optimizer='adam', metrics=['accuracy'])"
   ]
  },
  {
   "cell_type": "markdown",
   "metadata": {},
   "source": [
    "### Fit your model\n",
    "---\n",
    "\n",
    "When fitting your model, you need to specify a few things:\n",
    "1. The number of epochs: start with 10. Always easy to add more\n",
    "2. Your batch size: pick a number that is a power of 2\n",
    "3. Your validation data, which in this case is our test set."
   ]
  },
  {
   "cell_type": "code",
   "execution_count": 43,
   "metadata": {},
   "outputs": [
    {
     "name": "stdout",
     "output_type": "stream",
     "text": [
      "Train on 7500 samples, validate on 2500 samples\n",
      "Epoch 1/10\n",
      " - 0s - loss: 1.2668 - accuracy: 0.3321 - val_loss: 1.2031 - val_accuracy: 0.3328\n",
      "Epoch 2/10\n",
      " - 0s - loss: 1.1522 - accuracy: 0.3659 - val_loss: 1.1078 - val_accuracy: 0.3744\n",
      "Epoch 3/10\n",
      " - 0s - loss: 1.0710 - accuracy: 0.4208 - val_loss: 1.0394 - val_accuracy: 0.4396\n",
      "Epoch 4/10\n",
      " - 0s - loss: 1.0105 - accuracy: 0.4803 - val_loss: 0.9860 - val_accuracy: 0.4984\n",
      "Epoch 5/10\n",
      " - 0s - loss: 0.9618 - accuracy: 0.5325 - val_loss: 0.9416 - val_accuracy: 0.5560\n",
      "Epoch 6/10\n",
      " - 0s - loss: 0.9204 - accuracy: 0.5785 - val_loss: 0.9032 - val_accuracy: 0.5896\n",
      "Epoch 7/10\n",
      " - 0s - loss: 0.8840 - accuracy: 0.6131 - val_loss: 0.8691 - val_accuracy: 0.6232\n",
      "Epoch 8/10\n",
      " - 0s - loss: 0.8518 - accuracy: 0.6336 - val_loss: 0.8385 - val_accuracy: 0.6444\n",
      "Epoch 9/10\n",
      " - 0s - loss: 0.8226 - accuracy: 0.6493 - val_loss: 0.8112 - val_accuracy: 0.6580\n",
      "Epoch 10/10\n",
      " - 0s - loss: 0.7963 - accuracy: 0.6656 - val_loss: 0.7865 - val_accuracy: 0.6628\n"
     ]
    }
   ],
   "source": [
    "history = model.fit(X_train, y_train, validation_data=(X_test, y_test), epochs=10, batch_size=512, verbose=2)"
   ]
  },
  {
   "cell_type": "markdown",
   "metadata": {},
   "source": [
    "### Visualizing model training\n",
    "---\n",
    "\n",
    "Whenever you fit your `keras` model, it returns a `History` object ([link](https://keras.io/visualization/#training-history-visualization)) that can be used for plotting."
   ]
  },
  {
   "cell_type": "code",
   "execution_count": 44,
   "metadata": {
    "scrolled": true
   },
   "outputs": [
    {
     "data": {
      "text/plain": [
       "<matplotlib.legend.Legend at 0x15b5ae63d88>"
      ]
     },
     "execution_count": 44,
     "metadata": {},
     "output_type": "execute_result"
    },
    {
     "data": {
      "image/png": "[encoded data removed]",
      "text/plain": [
       "<Figure size 432x288 with 1 Axes>"
      ]
     },
     "metadata": {
      "needs_background": "light"
     },
     "output_type": "display_data"
    }
   ],
   "source": [
    "plt.plot(history.history['loss'], label='train loss')\n",
    "plt.plot(history.history['val_loss'], label='val loss')\n",
    "plt.legend()"
   ]
  },
  {
   "cell_type": "markdown",
   "metadata": {},
   "source": [
    "### Challenge\n",
    "---\n",
    "\n",
    "Using the `history` object, plot the model's accuracy (for both train and test)."
   ]
  },
  {
   "cell_type": "code",
   "execution_count": 45,
   "metadata": {},
   "outputs": [
    {
     "data": {
      "text/plain": [
       "<matplotlib.legend.Legend at 0x15b5b038888>"
      ]
     },
     "execution_count": 45,
     "metadata": {},
     "output_type": "execute_result"
    },
    {
     "data": {
      "image/png": "[encoded data removed]",
      "text/plain": [
       "<Figure size 432x288 with 1 Axes>"
      ]
     },
     "metadata": {
      "needs_background": "light"
     },
     "output_type": "display_data"
    }
   ],
   "source": [
    "plt.plot(history.history['accuracy'], label='train acc')\n",
    "plt.plot(history.history['val_accuracy'], label='val acc')\n",
    "plt.legend()"
   ]
  },
  {
   "cell_type": "code",
   "execution_count": null,
   "metadata": {},
   "outputs": [],
   "source": []
  }
 ],
 "metadata": {
  "kernelspec": {
   "display_name": "Python 3",
   "language": "python",
   "name": "python3"
  },
  "language_info": {
   "codemirror_mode": {
    "name": "ipython",
    "version": 3
   },
   "file_extension": ".py",
   "mimetype": "text/x-python",
   "name": "python",
   "nbconvert_exporter": "python",
   "pygments_lexer": "ipython3",
   "version": "3.7.4"
  }
 },
 "nbformat": 4,
 "nbformat_minor": 2
}
